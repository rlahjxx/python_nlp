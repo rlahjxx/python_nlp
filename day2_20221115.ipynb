{
 "cells": [
  {
   "cell_type": "code",
   "execution_count": 1,
   "id": "22c08095",
   "metadata": {},
   "outputs": [],
   "source": [
    "import tensorflow as tf\n",
    "import numpy as np\n",
    "import matplotlib.pyplot as plt\n",
    "import pandas as pd"
   ]
  },
  {
   "cell_type": "markdown",
   "id": "d6475705",
   "metadata": {},
   "source": [
    "## 더미 데이터를 이용한 감정 분석 모델링"
   ]
  },
  {
   "cell_type": "code",
   "execution_count": 2,
   "id": "9f07ea66",
   "metadata": {},
   "outputs": [],
   "source": [
    " samples = ['너 오늘 이뻐 보인다', '나는 오늘 기분이 더러워', '끝내주는데, 좋은 일이 있나봐', \n",
    "           '나 좋은 일이 생겼어', '아 오늘 진짜 짜증나', '환상적인데, 정말 좋은거 같아']\n",
    "targets = [[1], [0], [1], [1], [0], [1]]  # 1 = positive"
   ]
  },
  {
   "cell_type": "code",
   "execution_count": 3,
   "id": "e893e822",
   "metadata": {},
   "outputs": [
    {
     "name": "stdout",
     "output_type": "stream",
     "text": [
      "{'오늘': 1, '좋은': 2, '일이': 3, '너': 4, '이뻐': 5, '보인다': 6, '나는': 7, '기분이': 8, '더러워': 9, '끝내주는데': 10, '있나봐': 11, '나': 12, '생겼어': 13, '아': 14, '진짜': 15, '짜증나': 16, '환상적인데': 17, '정말': 18, '좋은거': 19, '같아': 20}\n"
     ]
    }
   ],
   "source": [
    "tokenizer = tf.keras.preprocessing.text.Tokenizer()\n",
    "tokenizer.fit_on_texts(samples)\n",
    "print(tokenizer.word_index)"
   ]
  },
  {
   "cell_type": "code",
   "execution_count": 55,
   "id": "3a4385b1",
   "metadata": {},
   "outputs": [
    {
     "name": "stdout",
     "output_type": "stream",
     "text": [
      "[[ 4  1  5  6]\n",
      " [ 7  1  8  9]\n",
      " [10  2  3 11]\n",
      " [12  2  3 13]\n",
      " [14  1 15 16]\n",
      " [17 18 19 20]]\n"
     ]
    }
   ],
   "source": [
    "sequences = tokenizer.texts_to_sequences(samples)\n",
    "input_sequence = np.array(sequences)\n",
    "targets = np.array(targets)\n",
    "print(input_sequence)"
   ]
  },
  {
   "cell_type": "code",
   "execution_count": 52,
   "id": "3d972cdd",
   "metadata": {},
   "outputs": [],
   "source": [
    "batch_size = 2\n",
    "num_epochs = 100\n",
    "vocab_size = len(tokenizer.word_index) + 1\n",
    "emb_size = 128  # 자동으로 128 X 21 matrix 생성해줌 (그 안에는 랜덤 값이 들어가있음)\n",
    "hidden_dimension = 256  \n",
    "output_dimension = 1"
   ]
  },
  {
   "cell_type": "code",
   "execution_count": 53,
   "id": "61a82158",
   "metadata": {},
   "outputs": [
    {
     "name": "stdout",
     "output_type": "stream",
     "text": [
      "Model: \"Sequential\"\n",
      "_________________________________________________________________\n",
      "Layer (type)                 Output Shape              Param #   \n",
      "=================================================================\n",
      "embedding_5 (Embedding)      (None, 4, 128)            2688      \n",
      "_________________________________________________________________\n",
      "lambda_5 (Lambda)            (None, 128)               0         \n",
      "_________________________________________________________________\n",
      "Dense1 (Dense)               (None, 256)               33024     \n",
      "_________________________________________________________________\n",
      "outputs (Dense)              (None, 1)                 257       \n",
      "=================================================================\n",
      "Total params: 35,969\n",
      "Trainable params: 35,969\n",
      "Non-trainable params: 0\n",
      "_________________________________________________________________\n"
     ]
    }
   ],
   "source": [
    "model = tf.keras.Sequential(name = 'Sequential')\n",
    "# token 하나 당 128개의 벡터로 만들어 의미있는 숫자로 생성 -> embedding\n",
    "model.add(tf.keras.layers.Embedding(vocab_size, emb_size, input_length = 4))\n",
    "# 들어온 x에 대해서 axis = 1을 기준으로 평균을 내어 128 x 1 배열을 생성\n",
    "model.add(tf.keras.layers.Lambda(lambda x : tf.reduce_mean(x, axis = 1)))\n",
    "model.add(tf.keras.layers.Dense(units = hidden_dimension, activation = 'relu', name = 'Dense1'))\n",
    "model.add(tf.keras.layers.Dense(units = output_dimension, activation = 'sigmoid', name = 'outputs'))\n",
    "\n",
    "model.summary()"
   ]
  },
  {
   "cell_type": "code",
   "execution_count": 54,
   "id": "42c41f08",
   "metadata": {},
   "outputs": [
    {
     "name": "stdout",
     "output_type": "stream",
     "text": [
      "Epoch 1/100\n",
      "3/3 [==============================] - 1s 5ms/step - loss: 0.6941 - acc: 0.3333\n",
      "Epoch 2/100\n",
      "3/3 [==============================] - 0s 5ms/step - loss: 0.6724 - acc: 1.0000\n",
      "Epoch 3/100\n",
      "3/3 [==============================] - 0s 11ms/step - loss: 0.6549 - acc: 1.0000\n",
      "Epoch 4/100\n",
      "3/3 [==============================] - 0s 4ms/step - loss: 0.6351 - acc: 1.0000\n",
      "Epoch 5/100\n",
      "3/3 [==============================] - 0s 8ms/step - loss: 0.6146 - acc: 1.0000\n",
      "Epoch 6/100\n",
      "3/3 [==============================] - 0s 9ms/step - loss: 0.5916 - acc: 1.0000\n",
      "Epoch 7/100\n",
      "3/3 [==============================] - 0s 3ms/step - loss: 0.5645 - acc: 1.0000\n",
      "Epoch 8/100\n",
      "3/3 [==============================] - 0s 10ms/step - loss: 0.5338 - acc: 1.0000\n",
      "Epoch 9/100\n",
      "3/3 [==============================] - 0s 11ms/step - loss: 0.4995 - acc: 1.0000\n",
      "Epoch 10/100\n",
      "3/3 [==============================] - 0s 7ms/step - loss: 0.4595 - acc: 1.0000\n",
      "Epoch 11/100\n",
      "3/3 [==============================] - 0s 8ms/step - loss: 0.4166 - acc: 1.0000\n",
      "Epoch 12/100\n",
      "3/3 [==============================] - 0s 4ms/step - loss: 0.3717 - acc: 1.0000\n",
      "Epoch 13/100\n",
      "3/3 [==============================] - 0s 11ms/step - loss: 0.3241 - acc: 1.0000\n",
      "Epoch 14/100\n",
      "3/3 [==============================] - 0s 9ms/step - loss: 0.2766 - acc: 1.0000\n",
      "Epoch 15/100\n",
      "3/3 [==============================] - 0s 6ms/step - loss: 0.2310 - acc: 1.0000\n",
      "Epoch 16/100\n",
      "3/3 [==============================] - 0s 5ms/step - loss: 0.1894 - acc: 1.0000\n",
      "Epoch 17/100\n",
      "3/3 [==============================] - 0s 5ms/step - loss: 0.1520 - acc: 1.0000\n",
      "Epoch 18/100\n",
      "3/3 [==============================] - 0s 6ms/step - loss: 0.1198 - acc: 1.0000\n",
      "Epoch 19/100\n",
      "3/3 [==============================] - 0s 8ms/step - loss: 0.0948 - acc: 1.0000\n",
      "Epoch 20/100\n",
      "3/3 [==============================] - 0s 4ms/step - loss: 0.0748 - acc: 1.0000\n",
      "Epoch 21/100\n",
      "3/3 [==============================] - 0s 9ms/step - loss: 0.0577 - acc: 1.0000\n",
      "Epoch 22/100\n",
      "3/3 [==============================] - 0s 5ms/step - loss: 0.0452 - acc: 1.0000\n",
      "Epoch 23/100\n",
      "3/3 [==============================] - 0s 5ms/step - loss: 0.0364 - acc: 1.0000\n",
      "Epoch 24/100\n",
      "3/3 [==============================] - 0s 9ms/step - loss: 0.0289 - acc: 1.0000\n",
      "Epoch 25/100\n",
      "3/3 [==============================] - 0s 9ms/step - loss: 0.0234 - acc: 1.0000\n",
      "Epoch 26/100\n",
      "3/3 [==============================] - 0s 9ms/step - loss: 0.0193 - acc: 1.0000\n",
      "Epoch 27/100\n",
      "3/3 [==============================] - 0s 6ms/step - loss: 0.0163 - acc: 1.0000\n",
      "Epoch 28/100\n",
      "3/3 [==============================] - 0s 5ms/step - loss: 0.0139 - acc: 1.0000\n",
      "Epoch 29/100\n",
      "3/3 [==============================] - 0s 9ms/step - loss: 0.0120 - acc: 1.0000\n",
      "Epoch 30/100\n",
      "3/3 [==============================] - 0s 5ms/step - loss: 0.0104 - acc: 1.0000\n",
      "Epoch 31/100\n",
      "3/3 [==============================] - ETA: 0s - loss: 0.0051 - acc: 1.000 - 0s 10ms/step - loss: 0.0092 - acc: 1.0000\n",
      "Epoch 32/100\n",
      "3/3 [==============================] - 0s 4ms/step - loss: 0.0082 - acc: 1.0000\n",
      "Epoch 33/100\n",
      "3/3 [==============================] - 0s 8ms/step - loss: 0.0074 - acc: 1.0000\n",
      "Epoch 34/100\n",
      "3/3 [==============================] - 0s 4ms/step - loss: 0.0068 - acc: 1.0000\n",
      "Epoch 35/100\n",
      "3/3 [==============================] - 0s 5ms/step - loss: 0.0061 - acc: 1.0000\n",
      "Epoch 36/100\n",
      "3/3 [==============================] - 0s 9ms/step - loss: 0.0057 - acc: 1.0000\n",
      "Epoch 37/100\n",
      "3/3 [==============================] - 0s 3ms/step - loss: 0.0053 - acc: 1.0000\n",
      "Epoch 38/100\n",
      "3/3 [==============================] - 0s 5ms/step - loss: 0.0049 - acc: 1.0000\n",
      "Epoch 39/100\n",
      "3/3 [==============================] - 0s 4ms/step - loss: 0.0046 - acc: 1.0000\n",
      "Epoch 40/100\n",
      "3/3 [==============================] - 0s 3ms/step - loss: 0.0043 - acc: 1.0000\n",
      "Epoch 41/100\n",
      "3/3 [==============================] - 0s 7ms/step - loss: 0.0040 - acc: 1.0000\n",
      "Epoch 42/100\n",
      "3/3 [==============================] - 0s 3ms/step - loss: 0.0038 - acc: 1.0000\n",
      "Epoch 43/100\n",
      "3/3 [==============================] - 0s 5ms/step - loss: 0.0036 - acc: 1.0000\n",
      "Epoch 44/100\n",
      "3/3 [==============================] - 0s 9ms/step - loss: 0.0034 - acc: 1.0000\n",
      "Epoch 45/100\n",
      "3/3 [==============================] - 0s 4ms/step - loss: 0.0032 - acc: 1.0000\n",
      "Epoch 46/100\n",
      "3/3 [==============================] - 0s 5ms/step - loss: 0.0030 - acc: 1.0000\n",
      "Epoch 47/100\n",
      "3/3 [==============================] - 0s 12ms/step - loss: 0.0029 - acc: 1.0000\n",
      "Epoch 48/100\n",
      "3/3 [==============================] - 0s 11ms/step - loss: 0.0028 - acc: 1.0000\n",
      "Epoch 49/100\n",
      "3/3 [==============================] - 0s 4ms/step - loss: 0.0027 - acc: 1.0000\n",
      "Epoch 50/100\n",
      "3/3 [==============================] - 0s 6ms/step - loss: 0.0025 - acc: 1.0000\n",
      "Epoch 51/100\n",
      "3/3 [==============================] - 0s 9ms/step - loss: 0.0024 - acc: 1.0000\n",
      "Epoch 52/100\n",
      "3/3 [==============================] - 0s 5ms/step - loss: 0.0023 - acc: 1.0000\n",
      "Epoch 53/100\n",
      "3/3 [==============================] - 0s 10ms/step - loss: 0.0022 - acc: 1.0000\n",
      "Epoch 54/100\n",
      "3/3 [==============================] - 0s 10ms/step - loss: 0.0021 - acc: 1.0000\n",
      "Epoch 55/100\n",
      "3/3 [==============================] - ETA: 0s - loss: 0.0024 - acc: 1.000 - 0s 6ms/step - loss: 0.0021 - acc: 1.0000\n",
      "Epoch 56/100\n",
      "3/3 [==============================] - ETA: 0s - loss: 0.0019 - acc: 1.000 - 0s 6ms/step - loss: 0.0020 - acc: 1.0000\n",
      "Epoch 57/100\n",
      "3/3 [==============================] - 0s 5ms/step - loss: 0.0019 - acc: 1.0000\n",
      "Epoch 58/100\n",
      "3/3 [==============================] - 0s 5ms/step - loss: 0.0018 - acc: 1.0000\n",
      "Epoch 59/100\n",
      "3/3 [==============================] - 0s 7ms/step - loss: 0.0018 - acc: 1.0000\n",
      "Epoch 60/100\n",
      "3/3 [==============================] - 0s 5ms/step - loss: 0.0017 - acc: 1.0000\n",
      "Epoch 61/100\n",
      "3/3 [==============================] - 0s 5ms/step - loss: 0.0016 - acc: 1.0000\n",
      "Epoch 62/100\n",
      "3/3 [==============================] - 0s 4ms/step - loss: 0.0016 - acc: 1.0000\n",
      "Epoch 63/100\n",
      "3/3 [==============================] - 0s 4ms/step - loss: 0.0015 - acc: 1.0000\n",
      "Epoch 64/100\n",
      "3/3 [==============================] - 0s 8ms/step - loss: 0.0015 - acc: 1.0000\n",
      "Epoch 65/100\n",
      "3/3 [==============================] - 0s 5ms/step - loss: 0.0014 - acc: 1.0000\n",
      "Epoch 66/100\n",
      "3/3 [==============================] - 0s 8ms/step - loss: 0.0014 - acc: 1.0000\n",
      "Epoch 67/100\n",
      "3/3 [==============================] - 0s 4ms/step - loss: 0.0014 - acc: 1.0000\n",
      "Epoch 68/100\n",
      "3/3 [==============================] - 0s 7ms/step - loss: 0.0013 - acc: 1.0000\n",
      "Epoch 69/100\n",
      "3/3 [==============================] - 0s 4ms/step - loss: 0.0013 - acc: 1.0000\n",
      "Epoch 70/100\n",
      "3/3 [==============================] - 0s 6ms/step - loss: 0.0012 - acc: 1.0000\n",
      "Epoch 71/100\n",
      "3/3 [==============================] - 0s 6ms/step - loss: 0.0012 - acc: 1.0000\n",
      "Epoch 72/100\n",
      "3/3 [==============================] - 0s 6ms/step - loss: 0.0012 - acc: 1.0000\n",
      "Epoch 73/100\n",
      "3/3 [==============================] - 0s 7ms/step - loss: 0.0011 - acc: 1.0000\n",
      "Epoch 74/100\n",
      "3/3 [==============================] - 0s 4ms/step - loss: 0.0011 - acc: 1.0000\n",
      "Epoch 75/100\n",
      "3/3 [==============================] - 0s 5ms/step - loss: 0.0011 - acc: 1.0000\n",
      "Epoch 76/100\n",
      "3/3 [==============================] - 0s 4ms/step - loss: 0.0010 - acc: 1.0000\n",
      "Epoch 77/100\n",
      "3/3 [==============================] - 0s 4ms/step - loss: 0.0010 - acc: 1.0000\n",
      "Epoch 78/100\n",
      "3/3 [==============================] - 0s 4ms/step - loss: 9.8047e-04 - acc: 1.0000\n",
      "Epoch 79/100\n",
      "3/3 [==============================] - 0s 7ms/step - loss: 9.5357e-04 - acc: 1.0000\n",
      "Epoch 80/100\n",
      "3/3 [==============================] - 0s 7ms/step - loss: 9.2857e-04 - acc: 1.0000\n",
      "Epoch 81/100\n",
      "3/3 [==============================] - 0s 3ms/step - loss: 9.0562e-04 - acc: 1.0000\n",
      "Epoch 82/100\n",
      "3/3 [==============================] - 0s 5ms/step - loss: 8.8146e-04 - acc: 1.0000\n",
      "Epoch 83/100\n",
      "3/3 [==============================] - 0s 4ms/step - loss: 8.6238e-04 - acc: 1.0000\n",
      "Epoch 84/100\n",
      "3/3 [==============================] - 0s 4ms/step - loss: 8.3881e-04 - acc: 1.0000\n",
      "Epoch 85/100\n",
      "3/3 [==============================] - 0s 4ms/step - loss: 8.1772e-04 - acc: 1.0000\n",
      "Epoch 86/100\n",
      "3/3 [==============================] - 0s 7ms/step - loss: 8.0040e-04 - acc: 1.0000\n",
      "Epoch 87/100\n",
      "3/3 [==============================] - 0s 9ms/step - loss: 7.8020e-04 - acc: 1.0000\n",
      "Epoch 88/100\n",
      "3/3 [==============================] - 0s 6ms/step - loss: 7.6362e-04 - acc: 1.0000\n",
      "Epoch 89/100\n",
      "3/3 [==============================] - 0s 4ms/step - loss: 7.4561e-04 - acc: 1.0000\n",
      "Epoch 90/100\n",
      "3/3 [==============================] - 0s 6ms/step - loss: 7.2669e-04 - acc: 1.0000\n",
      "Epoch 91/100\n",
      "3/3 [==============================] - 0s 5ms/step - loss: 7.0923e-04 - acc: 1.0000\n",
      "Epoch 92/100\n",
      "3/3 [==============================] - 0s 9ms/step - loss: 6.9442e-04 - acc: 1.0000\n",
      "Epoch 93/100\n",
      "3/3 [==============================] - 0s 6ms/step - loss: 6.7919e-04 - acc: 1.0000\n",
      "Epoch 94/100\n",
      "3/3 [==============================] - 0s 10ms/step - loss: 6.6482e-04 - acc: 1.0000\n",
      "Epoch 95/100\n",
      "3/3 [==============================] - 0s 9ms/step - loss: 6.4962e-04 - acc: 1.0000\n",
      "Epoch 96/100\n",
      "3/3 [==============================] - 0s 5ms/step - loss: 6.3544e-04 - acc: 1.0000\n",
      "Epoch 97/100\n",
      "3/3 [==============================] - 0s 5ms/step - loss: 6.2270e-04 - acc: 1.0000\n",
      "Epoch 98/100\n",
      "3/3 [==============================] - 0s 7ms/step - loss: 6.0868e-04 - acc: 1.0000\n",
      "Epoch 99/100\n",
      "3/3 [==============================] - 0s 7ms/step - loss: 5.9583e-04 - acc: 1.0000\n",
      "Epoch 100/100\n",
      "3/3 [==============================] - 0s 6ms/step - loss: 5.8357e-04 - acc: 1.0000\n"
     ]
    },
    {
     "data": {
      "text/plain": [
       "<keras.callbacks.History at 0x26fddaa6f60>"
      ]
     },
     "execution_count": 54,
     "metadata": {},
     "output_type": "execute_result"
    }
   ],
   "source": [
    "model.compile(loss = 'binary_crossentropy', \n",
    "              optimizer = 'adam', metrics = ['acc'])\n",
    "model.fit(input_sequence, targets, epochs = 100, batch_size = 2)"
   ]
  },
  {
   "cell_type": "code",
   "execution_count": 9,
   "id": "c7f9bcd4",
   "metadata": {},
   "outputs": [
    {
     "name": "stdout",
     "output_type": "stream",
     "text": [
      "Model: \"Funtional_API\"\n",
      "_________________________________________________________________\n",
      "Layer (type)                 Output Shape              Param #   \n",
      "=================================================================\n",
      "input_2 (InputLayer)         [(None, 4)]               0         \n",
      "_________________________________________________________________\n",
      "embedding (Embedding)        (None, 4, 128)            2688      \n",
      "_________________________________________________________________\n",
      "tf.math.reduce_mean_1 (TFOpL (None, 128)               0         \n",
      "_________________________________________________________________\n",
      "dense (Dense)                (None, 256)               33024     \n",
      "_________________________________________________________________\n",
      "outputs (Dense)              (None, 1)                 257       \n",
      "=================================================================\n",
      "Total params: 35,969\n",
      "Trainable params: 35,969\n",
      "Non-trainable params: 0\n",
      "_________________________________________________________________\n"
     ]
    }
   ],
   "source": [
    "# Functional API\n",
    "inputs = tf.keras.Input(shape = (4, ))\n",
    "embedding = tf.keras.layers.Embedding(vocab_size, emb_size, name = 'embedding')(inputs)\n",
    "lamda = tf.reduce_mean(embedding, axis = 1, name = 'lamda')\n",
    "hidden = tf.keras.layers.Dense(units = hidden_dimension, activation = 'relu', name = 'dense')(lamda)\n",
    "outputs = tf.keras.layers.Dense(units = 1, activation = 'sigmoid', name = 'outputs')(hidden)\n",
    "\n",
    "model = tf.keras.Model(inputs = inputs, outputs = outputs, name = 'Funtional_API')\n",
    "\n",
    "model.summary()"
   ]
  },
  {
   "cell_type": "code",
   "execution_count": 13,
   "id": "7372072d",
   "metadata": {},
   "outputs": [],
   "source": [
    "class CustomModel(tf.keras.Model) :\n",
    "    def __init__(self, vocab_size, emb_size, hidden_dimension, output_dimension) :\n",
    "        super(CustomModel, self).__init__(name = 'Subclassing')\n",
    "        self.embedding = tf.keras.layers.Embedding(vocab_size, emb_size, name = 'embedding')\n",
    "        self.dense = tf.keras.layers.Dense(units = hidden_dimension, activation = 'relu', name = 'dense')\n",
    "        self.outputs = tf.keras.layers.Dense(units = output_dimension, activation = 'sigmoid', name = 'outputs')\n",
    "        \n",
    "    def call(self, inputs) :\n",
    "        x = self.embedding(inputs)\n",
    "        x = tf.reduce_mean(x, axis = 1)\n",
    "        x = tf.dense(x)\n",
    "        x = self.outputs(x)\n",
    "        \n",
    "        return x"
   ]
  },
  {
   "cell_type": "code",
   "execution_count": 14,
   "id": "dbab3d11",
   "metadata": {},
   "outputs": [],
   "source": [
    "mymodel = CustomModel(vocab_size, emb_size, hidden_dimension, output_dimension)"
   ]
  },
  {
   "cell_type": "code",
   "execution_count": 17,
   "id": "46673819",
   "metadata": {},
   "outputs": [
    {
     "name": "stdout",
     "output_type": "stream",
     "text": [
      "Epoch 1/100\n",
      "3/3 [==============================] - 1s 4ms/step - loss: 0.6922 - acc: 0.5000\n",
      "Epoch 2/100\n",
      "3/3 [==============================] - 0s 7ms/step - loss: 0.6761 - acc: 1.0000\n",
      "Epoch 3/100\n",
      "3/3 [==============================] - 0s 7ms/step - loss: 0.6617 - acc: 1.0000\n",
      "Epoch 4/100\n",
      "3/3 [==============================] - 0s 4ms/step - loss: 0.6478 - acc: 1.0000\n",
      "Epoch 5/100\n",
      "3/3 [==============================] - 0s 6ms/step - loss: 0.6308 - acc: 1.0000\n",
      "Epoch 6/100\n",
      "3/3 [==============================] - 0s 6ms/step - loss: 0.6114 - acc: 1.0000\n",
      "Epoch 7/100\n",
      "3/3 [==============================] - 0s 11ms/step - loss: 0.5895 - acc: 1.0000\n",
      "Epoch 8/100\n",
      "3/3 [==============================] - 0s 9ms/step - loss: 0.5632 - acc: 1.0000\n",
      "Epoch 9/100\n",
      "3/3 [==============================] - 0s 7ms/step - loss: 0.5314 - acc: 1.0000\n",
      "Epoch 10/100\n",
      "3/3 [==============================] - 0s 10ms/step - loss: 0.4942 - acc: 1.0000\n",
      "Epoch 11/100\n",
      "3/3 [==============================] - 0s 8ms/step - loss: 0.4538 - acc: 1.0000\n",
      "Epoch 12/100\n",
      "3/3 [==============================] - 0s 7ms/step - loss: 0.4068 - acc: 1.0000\n",
      "Epoch 13/100\n",
      "3/3 [==============================] - 0s 8ms/step - loss: 0.3595 - acc: 1.0000\n",
      "Epoch 14/100\n",
      "3/3 [==============================] - 0s 9ms/step - loss: 0.3091 - acc: 1.0000\n",
      "Epoch 15/100\n",
      "3/3 [==============================] - 0s 5ms/step - loss: 0.2604 - acc: 1.0000\n",
      "Epoch 16/100\n",
      "3/3 [==============================] - 0s 10ms/step - loss: 0.2139 - acc: 1.0000\n",
      "Epoch 17/100\n",
      "3/3 [==============================] - 0s 13ms/step - loss: 0.1735 - acc: 1.0000\n",
      "Epoch 18/100\n",
      "3/3 [==============================] - 0s 8ms/step - loss: 0.1350 - acc: 1.0000\n",
      "Epoch 19/100\n",
      "3/3 [==============================] - 0s 3ms/step - loss: 0.1057 - acc: 1.0000\n",
      "Epoch 20/100\n",
      "3/3 [==============================] - 0s 9ms/step - loss: 0.0820 - acc: 1.0000\n",
      "Epoch 21/100\n",
      "3/3 [==============================] - 0s 10ms/step - loss: 0.0628 - acc: 1.0000\n",
      "Epoch 22/100\n",
      "3/3 [==============================] - 0s 7ms/step - loss: 0.0478 - acc: 1.0000\n",
      "Epoch 23/100\n",
      "3/3 [==============================] - 0s 6ms/step - loss: 0.0371 - acc: 1.0000\n",
      "Epoch 24/100\n",
      "3/3 [==============================] - 0s 4ms/step - loss: 0.0290 - acc: 1.0000\n",
      "Epoch 25/100\n",
      "3/3 [==============================] - 0s 8ms/step - loss: 0.0236 - acc: 1.0000\n",
      "Epoch 26/100\n",
      "3/3 [==============================] - 0s 4ms/step - loss: 0.0192 - acc: 1.0000\n",
      "Epoch 27/100\n",
      "3/3 [==============================] - 0s 6ms/step - loss: 0.0155 - acc: 1.0000\n",
      "Epoch 28/100\n",
      "3/3 [==============================] - 0s 4ms/step - loss: 0.0132 - acc: 1.0000\n",
      "Epoch 29/100\n",
      "3/3 [==============================] - 0s 9ms/step - loss: 0.0112 - acc: 1.0000\n",
      "Epoch 30/100\n",
      "3/3 [==============================] - 0s 7ms/step - loss: 0.0098 - acc: 1.0000\n",
      "Epoch 31/100\n",
      "3/3 [==============================] - 0s 7ms/step - loss: 0.0086 - acc: 1.0000\n",
      "Epoch 32/100\n",
      "3/3 [==============================] - 0s 6ms/step - loss: 0.0075 - acc: 1.0000\n",
      "Epoch 33/100\n",
      "3/3 [==============================] - 0s 15ms/step - loss: 0.0067 - acc: 1.0000\n",
      "Epoch 34/100\n",
      "3/3 [==============================] - 0s 8ms/step - loss: 0.0061 - acc: 1.0000\n",
      "Epoch 35/100\n",
      "3/3 [==============================] - 0s 5ms/step - loss: 0.0057 - acc: 1.0000\n",
      "Epoch 36/100\n",
      "3/3 [==============================] - 0s 7ms/step - loss: 0.0052 - acc: 1.0000\n",
      "Epoch 37/100\n",
      "3/3 [==============================] - 0s 7ms/step - loss: 0.0048 - acc: 1.0000\n",
      "Epoch 38/100\n",
      "3/3 [==============================] - 0s 9ms/step - loss: 0.0044 - acc: 1.0000\n",
      "Epoch 39/100\n",
      "3/3 [==============================] - 0s 7ms/step - loss: 0.0041 - acc: 1.0000\n",
      "Epoch 40/100\n",
      "3/3 [==============================] - 0s 7ms/step - loss: 0.0039 - acc: 1.0000\n",
      "Epoch 41/100\n",
      "3/3 [==============================] - 0s 9ms/step - loss: 0.0037 - acc: 1.0000\n",
      "Epoch 42/100\n",
      "3/3 [==============================] - 0s 9ms/step - loss: 0.0035 - acc: 1.0000\n",
      "Epoch 43/100\n",
      "3/3 [==============================] - 0s 6ms/step - loss: 0.0033 - acc: 1.0000\n",
      "Epoch 44/100\n",
      "3/3 [==============================] - 0s 5ms/step - loss: 0.0031 - acc: 1.0000\n",
      "Epoch 45/100\n",
      "3/3 [==============================] - 0s 5ms/step - loss: 0.0030 - acc: 1.0000\n",
      "Epoch 46/100\n",
      "3/3 [==============================] - 0s 5ms/step - loss: 0.0028 - acc: 1.0000\n",
      "Epoch 47/100\n",
      "3/3 [==============================] - 0s 7ms/step - loss: 0.0027 - acc: 1.0000\n",
      "Epoch 48/100\n",
      "3/3 [==============================] - 0s 6ms/step - loss: 0.0026 - acc: 1.0000\n",
      "Epoch 49/100\n",
      "3/3 [==============================] - 0s 5ms/step - loss: 0.0024 - acc: 1.0000\n",
      "Epoch 50/100\n",
      "3/3 [==============================] - 0s 9ms/step - loss: 0.0023 - acc: 1.0000\n",
      "Epoch 51/100\n",
      "3/3 [==============================] - 0s 4ms/step - loss: 0.0023 - acc: 1.0000\n",
      "Epoch 52/100\n",
      "3/3 [==============================] - 0s 5ms/step - loss: 0.0022 - acc: 1.0000\n",
      "Epoch 53/100\n",
      "3/3 [==============================] - 0s 4ms/step - loss: 0.0021 - acc: 1.0000\n",
      "Epoch 54/100\n",
      "3/3 [==============================] - 0s 8ms/step - loss: 0.0020 - acc: 1.0000\n",
      "Epoch 55/100\n",
      "3/3 [==============================] - 0s 8ms/step - loss: 0.0019 - acc: 1.0000\n",
      "Epoch 56/100\n",
      "3/3 [==============================] - 0s 4ms/step - loss: 0.0018 - acc: 1.0000\n",
      "Epoch 57/100\n",
      "3/3 [==============================] - 0s 6ms/step - loss: 0.0018 - acc: 1.0000\n",
      "Epoch 58/100\n",
      "3/3 [==============================] - 0s 12ms/step - loss: 0.0017 - acc: 1.0000\n",
      "Epoch 59/100\n",
      "3/3 [==============================] - 0s 4ms/step - loss: 0.0017 - acc: 1.0000\n",
      "Epoch 60/100\n",
      "3/3 [==============================] - 0s 4ms/step - loss: 0.0016 - acc: 1.0000\n",
      "Epoch 61/100\n",
      "3/3 [==============================] - 0s 5ms/step - loss: 0.0015 - acc: 1.0000\n",
      "Epoch 62/100\n",
      "3/3 [==============================] - 0s 7ms/step - loss: 0.0015 - acc: 1.0000\n",
      "Epoch 63/100\n",
      "3/3 [==============================] - 0s 3ms/step - loss: 0.0014 - acc: 1.0000\n",
      "Epoch 64/100\n",
      "3/3 [==============================] - 0s 6ms/step - loss: 0.0014 - acc: 1.0000\n",
      "Epoch 65/100\n",
      "3/3 [==============================] - 0s 5ms/step - loss: 0.0014 - acc: 1.0000\n",
      "Epoch 66/100\n",
      "3/3 [==============================] - 0s 5ms/step - loss: 0.0013 - acc: 1.0000\n",
      "Epoch 67/100\n",
      "3/3 [==============================] - 0s 4ms/step - loss: 0.0013 - acc: 1.0000\n",
      "Epoch 68/100\n",
      "3/3 [==============================] - 0s 4ms/step - loss: 0.0012 - acc: 1.0000\n",
      "Epoch 69/100\n",
      "3/3 [==============================] - 0s 4ms/step - loss: 0.0012 - acc: 1.0000\n",
      "Epoch 70/100\n",
      "3/3 [==============================] - 0s 4ms/step - loss: 0.0012 - acc: 1.0000\n",
      "Epoch 71/100\n",
      "3/3 [==============================] - 0s 3ms/step - loss: 0.0011 - acc: 1.0000\n",
      "Epoch 72/100\n",
      "3/3 [==============================] - 0s 7ms/step - loss: 0.0011 - acc: 1.0000\n",
      "Epoch 73/100\n",
      "3/3 [==============================] - 0s 5ms/step - loss: 0.0011 - acc: 1.0000\n",
      "Epoch 74/100\n",
      "3/3 [==============================] - 0s 4ms/step - loss: 0.0010 - acc: 1.0000\n",
      "Epoch 75/100\n",
      "3/3 [==============================] - 0s 5ms/step - loss: 0.0010 - acc: 1.0000\n",
      "Epoch 76/100\n",
      "3/3 [==============================] - 0s 6ms/step - loss: 9.8953e-04 - acc: 1.0000\n",
      "Epoch 77/100\n",
      "3/3 [==============================] - 0s 4ms/step - loss: 9.5997e-04 - acc: 1.0000\n",
      "Epoch 78/100\n",
      "3/3 [==============================] - 0s 6ms/step - loss: 9.3532e-04 - acc: 1.0000\n",
      "Epoch 79/100\n",
      "3/3 [==============================] - 0s 5ms/step - loss: 9.1570e-04 - acc: 1.0000\n",
      "Epoch 80/100\n",
      "3/3 [==============================] - 0s 4ms/step - loss: 8.9095e-04 - acc: 1.0000\n",
      "Epoch 81/100\n",
      "3/3 [==============================] - 0s 5ms/step - loss: 8.6840e-04 - acc: 1.0000\n",
      "Epoch 82/100\n",
      "3/3 [==============================] - 0s 5ms/step - loss: 8.4904e-04 - acc: 1.0000\n",
      "Epoch 83/100\n",
      "3/3 [==============================] - 0s 4ms/step - loss: 8.2764e-04 - acc: 1.0000\n",
      "Epoch 84/100\n",
      "3/3 [==============================] - 0s 6ms/step - loss: 8.0708e-04 - acc: 1.0000\n",
      "Epoch 85/100\n",
      "3/3 [==============================] - 0s 5ms/step - loss: 7.8876e-04 - acc: 1.0000\n",
      "Epoch 86/100\n",
      "3/3 [==============================] - 0s 5ms/step - loss: 7.7055e-04 - acc: 1.0000\n",
      "Epoch 87/100\n",
      "3/3 [==============================] - 0s 5ms/step - loss: 7.5255e-04 - acc: 1.0000\n",
      "Epoch 88/100\n",
      "3/3 [==============================] - 0s 5ms/step - loss: 7.3602e-04 - acc: 1.0000\n",
      "Epoch 89/100\n",
      "3/3 [==============================] - 0s 5ms/step - loss: 7.1899e-04 - acc: 1.0000\n",
      "Epoch 90/100\n",
      "3/3 [==============================] - 0s 4ms/step - loss: 7.0362e-04 - acc: 1.0000\n",
      "Epoch 91/100\n",
      "3/3 [==============================] - 0s 7ms/step - loss: 6.8797e-04 - acc: 1.0000\n",
      "Epoch 92/100\n",
      "3/3 [==============================] - 0s 9ms/step - loss: 6.7386e-04 - acc: 1.0000\n",
      "Epoch 93/100\n",
      "3/3 [==============================] - 0s 8ms/step - loss: 6.5914e-04 - acc: 1.0000\n",
      "Epoch 94/100\n",
      "3/3 [==============================] - 0s 7ms/step - loss: 6.4549e-04 - acc: 1.0000\n",
      "Epoch 95/100\n",
      "3/3 [==============================] - 0s 7ms/step - loss: 6.3204e-04 - acc: 1.0000\n",
      "Epoch 96/100\n",
      "3/3 [==============================] - 0s 4ms/step - loss: 6.1818e-04 - acc: 1.0000\n",
      "Epoch 97/100\n",
      "3/3 [==============================] - 0s 7ms/step - loss: 6.0452e-04 - acc: 1.0000\n",
      "Epoch 98/100\n",
      "3/3 [==============================] - 0s 7ms/step - loss: 5.9259e-04 - acc: 1.0000\n",
      "Epoch 99/100\n",
      "3/3 [==============================] - 0s 7ms/step - loss: 5.8186e-04 - acc: 1.0000\n",
      "Epoch 100/100\n",
      "3/3 [==============================] - 0s 3ms/step - loss: 5.7018e-04 - acc: 1.0000\n"
     ]
    },
    {
     "data": {
      "text/plain": [
       "<keras.callbacks.History at 0x26fd9325d30>"
      ]
     },
     "execution_count": 17,
     "metadata": {},
     "output_type": "execute_result"
    }
   ],
   "source": [
    "model.compile(loss = 'binary_crossentropy', optimizer = 'adam', metrics = ['acc'])\n",
    "model.fit(input_sequence, targets, epochs = 100, batch_size = 2)"
   ]
  },
  {
   "cell_type": "markdown",
   "id": "721ddb23",
   "metadata": {},
   "source": [
    "## Machine learning"
   ]
  },
  {
   "cell_type": "code",
   "execution_count": 31,
   "id": "d2bdb3a8",
   "metadata": {},
   "outputs": [],
   "source": [
    "import sklearn"
   ]
  },
  {
   "cell_type": "code",
   "execution_count": 33,
   "id": "d0b62be6",
   "metadata": {},
   "outputs": [
    {
     "data": {
      "text/plain": [
       "dict_keys(['data', 'target', 'frame', 'target_names', 'DESCR', 'feature_names', 'filename'])"
      ]
     },
     "execution_count": 33,
     "metadata": {},
     "output_type": "execute_result"
    }
   ],
   "source": [
    "from sklearn.datasets import load_iris\n",
    "iris_dataset = load_iris()\n",
    "iris_dataset.keys()"
   ]
  },
  {
   "cell_type": "code",
   "execution_count": 34,
   "id": "15280173",
   "metadata": {},
   "outputs": [
    {
     "name": "stdout",
     "output_type": "stream",
     "text": [
      "[0 0 0 0 0 0 0 0 0 0 0 0 0 0 0 0 0 0 0 0 0 0 0 0 0 0 0 0 0 0 0 0 0 0 0 0 0\n",
      " 0 0 0 0 0 0 0 0 0 0 0 0 0 1 1 1 1 1 1 1 1 1 1 1 1 1 1 1 1 1 1 1 1 1 1 1 1\n",
      " 1 1 1 1 1 1 1 1 1 1 1 1 1 1 1 1 1 1 1 1 1 1 1 1 1 1 2 2 2 2 2 2 2 2 2 2 2\n",
      " 2 2 2 2 2 2 2 2 2 2 2 2 2 2 2 2 2 2 2 2 2 2 2 2 2 2 2 2 2 2 2 2 2 2 2 2 2\n",
      " 2 2]\n",
      "['setosa' 'versicolor' 'virginica']\n",
      ".. _iris_dataset:\n",
      "\n",
      "Iris plants dataset\n",
      "--------------------\n",
      "\n",
      "**Data Set Characteristics:**\n",
      "\n",
      "    :Number of Instances: 150 (50 in each of three classes)\n",
      "    :Number of Attributes: 4 numeric, predictive attributes and the class\n",
      "    :Attribute Information:\n",
      "        - sepal length in cm\n",
      "        - sepal width in cm\n",
      "        - petal length in cm\n",
      "        - petal width in cm\n",
      "        - class:\n",
      "                - Iris-Setosa\n",
      "                - Iris-Versicolour\n",
      "                - Iris-Virginica\n",
      "                \n",
      "    :Summary Statistics:\n",
      "\n",
      "    ============== ==== ==== ======= ===== ====================\n",
      "                    Min  Max   Mean    SD   Class Correlation\n",
      "    ============== ==== ==== ======= ===== ====================\n",
      "    sepal length:   4.3  7.9   5.84   0.83    0.7826\n",
      "    sepal width:    2.0  4.4   3.05   0.43   -0.4194\n",
      "    petal length:   1.0  6.9   3.76   1.76    0.9490  (high!)\n",
      "    petal width:    0.1  2.5   1.20   0.76    0.9565  (high!)\n",
      "    ============== ==== ==== ======= ===== ====================\n",
      "\n",
      "    :Missing Attribute Values: None\n",
      "    :Class Distribution: 33.3% for each of 3 classes.\n",
      "    :Creator: R.A. Fisher\n",
      "    :Donor: Michael Marshall (MARSHALL%PLU@io.arc.nasa.gov)\n",
      "    :Date: July, 1988\n",
      "\n",
      "The famous Iris database, first used by Sir R.A. Fisher. The dataset is taken\n",
      "from Fisher's paper. Note that it's the same as in R, but not as in the UCI\n",
      "Machine Learning Repository, which has two wrong data points.\n",
      "\n",
      "This is perhaps the best known database to be found in the\n",
      "pattern recognition literature.  Fisher's paper is a classic in the field and\n",
      "is referenced frequently to this day.  (See Duda & Hart, for example.)  The\n",
      "data set contains 3 classes of 50 instances each, where each class refers to a\n",
      "type of iris plant.  One class is linearly separable from the other 2; the\n",
      "latter are NOT linearly separable from each other.\n",
      "\n",
      ".. topic:: References\n",
      "\n",
      "   - Fisher, R.A. \"The use of multiple measurements in taxonomic problems\"\n",
      "     Annual Eugenics, 7, Part II, 179-188 (1936); also in \"Contributions to\n",
      "     Mathematical Statistics\" (John Wiley, NY, 1950).\n",
      "   - Duda, R.O., & Hart, P.E. (1973) Pattern Classification and Scene Analysis.\n",
      "     (Q327.D83) John Wiley & Sons.  ISBN 0-471-22361-1.  See page 218.\n",
      "   - Dasarathy, B.V. (1980) \"Nosing Around the Neighborhood: A New System\n",
      "     Structure and Classification Rule for Recognition in Partially Exposed\n",
      "     Environments\".  IEEE Transactions on Pattern Analysis and Machine\n",
      "     Intelligence, Vol. PAMI-2, No. 1, 67-71.\n",
      "   - Gates, G.W. (1972) \"The Reduced Nearest Neighbor Rule\".  IEEE Transactions\n",
      "     on Information Theory, May 1972, 431-433.\n",
      "   - See also: 1988 MLC Proceedings, 54-64.  Cheeseman et al\"s AUTOCLASS II\n",
      "     conceptual clustering system finds 3 classes in the data.\n",
      "   - Many, many more ...\n"
     ]
    }
   ],
   "source": [
    "print(iris_dataset['target'])\n",
    "print(iris_dataset['target_names'])\n",
    "print(iris_dataset['DESCR'])"
   ]
  },
  {
   "cell_type": "code",
   "execution_count": 37,
   "id": "1d27ac0a",
   "metadata": {},
   "outputs": [
    {
     "data": {
      "text/plain": [
       "pandas.core.frame.DataFrame"
      ]
     },
     "execution_count": 37,
     "metadata": {},
     "output_type": "execute_result"
    }
   ],
   "source": [
    "iris = pd.DataFrame(iris_dataset['data'])\n",
    "iris.columns = iris_dataset['feature_names']\n",
    "iris['target'] = iris_dataset['target']\n",
    "type(iris)"
   ]
  },
  {
   "cell_type": "code",
   "execution_count": 38,
   "id": "7d3f3846",
   "metadata": {},
   "outputs": [
    {
     "data": {
      "text/html": [
       "<div>\n",
       "<style scoped>\n",
       "    .dataframe tbody tr th:only-of-type {\n",
       "        vertical-align: middle;\n",
       "    }\n",
       "\n",
       "    .dataframe tbody tr th {\n",
       "        vertical-align: top;\n",
       "    }\n",
       "\n",
       "    .dataframe thead th {\n",
       "        text-align: right;\n",
       "    }\n",
       "</style>\n",
       "<table border=\"1\" class=\"dataframe\">\n",
       "  <thead>\n",
       "    <tr style=\"text-align: right;\">\n",
       "      <th></th>\n",
       "      <th>sepal length (cm)</th>\n",
       "      <th>sepal width (cm)</th>\n",
       "      <th>petal length (cm)</th>\n",
       "      <th>petal width (cm)</th>\n",
       "      <th>target</th>\n",
       "    </tr>\n",
       "  </thead>\n",
       "  <tbody>\n",
       "    <tr>\n",
       "      <th>0</th>\n",
       "      <td>5.1</td>\n",
       "      <td>3.5</td>\n",
       "      <td>1.4</td>\n",
       "      <td>0.2</td>\n",
       "      <td>0</td>\n",
       "    </tr>\n",
       "    <tr>\n",
       "      <th>1</th>\n",
       "      <td>4.9</td>\n",
       "      <td>3.0</td>\n",
       "      <td>1.4</td>\n",
       "      <td>0.2</td>\n",
       "      <td>0</td>\n",
       "    </tr>\n",
       "    <tr>\n",
       "      <th>2</th>\n",
       "      <td>4.7</td>\n",
       "      <td>3.2</td>\n",
       "      <td>1.3</td>\n",
       "      <td>0.2</td>\n",
       "      <td>0</td>\n",
       "    </tr>\n",
       "    <tr>\n",
       "      <th>3</th>\n",
       "      <td>4.6</td>\n",
       "      <td>3.1</td>\n",
       "      <td>1.5</td>\n",
       "      <td>0.2</td>\n",
       "      <td>0</td>\n",
       "    </tr>\n",
       "    <tr>\n",
       "      <th>4</th>\n",
       "      <td>5.0</td>\n",
       "      <td>3.6</td>\n",
       "      <td>1.4</td>\n",
       "      <td>0.2</td>\n",
       "      <td>0</td>\n",
       "    </tr>\n",
       "  </tbody>\n",
       "</table>\n",
       "</div>"
      ],
      "text/plain": [
       "   sepal length (cm)  sepal width (cm)  petal length (cm)  petal width (cm)  \\\n",
       "0                5.1               3.5                1.4               0.2   \n",
       "1                4.9               3.0                1.4               0.2   \n",
       "2                4.7               3.2                1.3               0.2   \n",
       "3                4.6               3.1                1.5               0.2   \n",
       "4                5.0               3.6                1.4               0.2   \n",
       "\n",
       "   target  \n",
       "0       0  \n",
       "1       0  \n",
       "2       0  \n",
       "3       0  \n",
       "4       0  "
      ]
     },
     "execution_count": 38,
     "metadata": {},
     "output_type": "execute_result"
    }
   ],
   "source": [
    "iris.head()"
   ]
  },
  {
   "cell_type": "code",
   "execution_count": 40,
   "id": "86e5f19c",
   "metadata": {},
   "outputs": [
    {
     "data": {
      "text/html": [
       "<div>\n",
       "<style scoped>\n",
       "    .dataframe tbody tr th:only-of-type {\n",
       "        vertical-align: middle;\n",
       "    }\n",
       "\n",
       "    .dataframe tbody tr th {\n",
       "        vertical-align: top;\n",
       "    }\n",
       "\n",
       "    .dataframe thead th {\n",
       "        text-align: right;\n",
       "    }\n",
       "</style>\n",
       "<table border=\"1\" class=\"dataframe\">\n",
       "  <thead>\n",
       "    <tr style=\"text-align: right;\">\n",
       "      <th></th>\n",
       "      <th>sepal length (cm)</th>\n",
       "      <th>sepal width (cm)</th>\n",
       "      <th>petal length (cm)</th>\n",
       "      <th>petal width (cm)</th>\n",
       "      <th>target</th>\n",
       "    </tr>\n",
       "  </thead>\n",
       "  <tbody>\n",
       "    <tr>\n",
       "      <th>100</th>\n",
       "      <td>6.3</td>\n",
       "      <td>3.3</td>\n",
       "      <td>6.0</td>\n",
       "      <td>2.5</td>\n",
       "      <td>2</td>\n",
       "    </tr>\n",
       "    <tr>\n",
       "      <th>101</th>\n",
       "      <td>5.8</td>\n",
       "      <td>2.7</td>\n",
       "      <td>5.1</td>\n",
       "      <td>1.9</td>\n",
       "      <td>2</td>\n",
       "    </tr>\n",
       "    <tr>\n",
       "      <th>102</th>\n",
       "      <td>7.1</td>\n",
       "      <td>3.0</td>\n",
       "      <td>5.9</td>\n",
       "      <td>2.1</td>\n",
       "      <td>2</td>\n",
       "    </tr>\n",
       "    <tr>\n",
       "      <th>103</th>\n",
       "      <td>6.3</td>\n",
       "      <td>2.9</td>\n",
       "      <td>5.6</td>\n",
       "      <td>1.8</td>\n",
       "      <td>2</td>\n",
       "    </tr>\n",
       "    <tr>\n",
       "      <th>104</th>\n",
       "      <td>6.5</td>\n",
       "      <td>3.0</td>\n",
       "      <td>5.8</td>\n",
       "      <td>2.2</td>\n",
       "      <td>2</td>\n",
       "    </tr>\n",
       "  </tbody>\n",
       "</table>\n",
       "</div>"
      ],
      "text/plain": [
       "     sepal length (cm)  sepal width (cm)  petal length (cm)  petal width (cm)  \\\n",
       "100                6.3               3.3                6.0               2.5   \n",
       "101                5.8               2.7                5.1               1.9   \n",
       "102                7.1               3.0                5.9               2.1   \n",
       "103                6.3               2.9                5.6               1.8   \n",
       "104                6.5               3.0                5.8               2.2   \n",
       "\n",
       "     target  \n",
       "100       2  \n",
       "101       2  \n",
       "102       2  \n",
       "103       2  \n",
       "104       2  "
      ]
     },
     "execution_count": 40,
     "metadata": {},
     "output_type": "execute_result"
    }
   ],
   "source": [
    "setosa = iris[iris['target'] == 0]\n",
    "versicolor = iris[iris['target'] == 1]\n",
    "virgina = iris[iris['target'] == 2]\n",
    "\n",
    "virgina.head()"
   ]
  },
  {
   "cell_type": "code",
   "execution_count": 42,
   "id": "6e203542",
   "metadata": {},
   "outputs": [
    {
     "data": {
      "image/png": "[encoded data removed]",
      "text/plain": [
       "<Figure size 432x288 with 1 Axes>"
      ]
     },
     "metadata": {
      "needs_background": "light"
     },
     "output_type": "display_data"
    }
   ],
   "source": [
    "plt.scatter(setosa['sepal length (cm)'], setosa['sepal width (cm)'], marker = 'o', color = 'b', label = 'setosa')\n",
    "plt.scatter(versicolor['sepal length (cm)'], versicolor['sepal width (cm)'], marker = 'x', color = 'r', label = 'versicolor')\n",
    "plt.scatter(virgina['sepal length (cm)'], virgina['sepal width (cm)'], marker = 'v', color = 'm', label = 'virgina')\n",
    "plt.show()"
   ]
  },
  {
   "cell_type": "code",
   "execution_count": 43,
   "id": "84f3c0a9",
   "metadata": {},
   "outputs": [],
   "source": [
    "from sklearn.model_selection import train_test_split\n",
    "from sklearn.preprocessing import StandardScaler"
   ]
  },
  {
   "cell_type": "code",
   "execution_count": 57,
   "id": "6de76c0d",
   "metadata": {},
   "outputs": [],
   "source": [
    "train_input, test_input, train_label, test_label = train_test_split(iris_dataset['data'], iris_dataset['target'], \n",
    "                                                                    test_size = 0.25, random_state = 42)"
   ]
  },
  {
   "cell_type": "code",
   "execution_count": 60,
   "id": "59aaac7b",
   "metadata": {},
   "outputs": [
    {
     "name": "stdout",
     "output_type": "stream",
     "text": [
      "(150, 4)\n",
      "(112, 4)\n",
      "(38, 4)\n"
     ]
    }
   ],
   "source": [
    "print(iris_dataset['data'].shape)\n",
    "print(train_input.shape)\n",
    "print(test_input.shape)"
   ]
  },
  {
   "cell_type": "code",
   "execution_count": 61,
   "id": "ca6eb8dc",
   "metadata": {},
   "outputs": [],
   "source": [
    "ss = StandardScaler()\n",
    "ss.fit(train_input)\n",
    "train_scaled = ss.transform(train_input)\n",
    "test_scaled = ss.transform(test_input)"
   ]
  },
  {
   "cell_type": "code",
   "execution_count": 62,
   "id": "c9da1ae9",
   "metadata": {},
   "outputs": [
    {
     "data": {
      "text/plain": [
       "array([[-1.01827123,  1.2864604 , -1.39338902, -1.3621769 ],\n",
       "       [-0.7730102 ,  2.43545215, -1.33550342, -1.49647603],\n",
       "       [-0.03722712, -0.78172474,  0.74837808,  0.92090833],\n",
       "       [ 0.20803391,  0.8268637 ,  0.4010645 ,  0.51801093],\n",
       "       [ 1.06644751,  0.13746866,  0.51683569,  0.3837118 ],\n",
       "       [-0.52774918,  1.97585545, -1.45127462, -1.09357864],\n",
       "       [-0.52774918,  1.51625875, -1.33550342, -1.3621769 ],\n",
       "       [-0.40511866, -1.47111979, -0.06202028, -0.28778385],\n",
       "       [ 0.57592545, -0.55192639,  0.74837808,  0.3837118 ],\n",
       "       [ 0.69855596,  0.13746866,  0.97992047,  0.7866092 ],\n",
       "       [ 0.94381699, -0.09232969,  0.3431789 ,  0.24941267],\n",
       "       [ 1.67960008,  1.2864604 ,  1.32723405,  1.72670311],\n",
       "       [-0.15985763, -0.32212804,  0.2274077 ,  0.11511354],\n",
       "       [ 2.17012213, -0.09232969,  1.61666204,  1.18950659],\n",
       "       [-0.28248815, -0.09232969,  0.4010645 ,  0.3837118 ],\n",
       "       [-0.89564072,  1.05666205, -1.39338902, -1.3621769 ],\n",
       "       [ 2.29275265, -0.55192639,  1.67454764,  1.05520746],\n",
       "       [-0.03722712, -0.78172474,  0.16952211, -0.28778385],\n",
       "       [-0.7730102 ,  0.8268637 , -1.39338902, -1.3621769 ],\n",
       "       [-1.01827123,  1.05666205, -1.45127462, -1.22787777],\n",
       "       [-0.89564072,  1.7460571 , -1.10396103, -1.09357864],\n",
       "       [-1.01827123, -2.39031318, -0.17779148, -0.28778385],\n",
       "       [ 0.57592545, -0.78172474,  0.63260689,  0.7866092 ],\n",
       "       [-1.26353226,  0.8268637 , -1.10396103, -1.3621769 ],\n",
       "       [-1.01827123, -0.09232969, -1.27761783, -1.3621769 ],\n",
       "       [-0.89564072,  0.59706535, -1.21973223, -0.95927951],\n",
       "       [-0.28248815, -0.78172474,  0.2274077 ,  0.11511354],\n",
       "       [-0.89564072,  0.8268637 , -1.33550342, -1.3621769 ],\n",
       "       [-0.15985763, -0.09232969,  0.2274077 , -0.01918559],\n",
       "       [ 2.29275265,  1.7460571 ,  1.67454764,  1.32380572],\n",
       "       [-1.50879329,  0.367267  , -1.39338902, -1.3621769 ],\n",
       "       [ 0.45329494, -0.32212804,  0.2852933 ,  0.11511354],\n",
       "       [-0.15985763, -1.24132144,  0.69049248,  1.05520746],\n",
       "       [-0.40511866,  2.66525049, -1.39338902, -1.3621769 ],\n",
       "       [ 0.20803391, -0.09232969,  0.57472129,  0.7866092 ],\n",
       "       [-0.03722712, -0.78172474,  0.74837808,  0.92090833],\n",
       "       [ 0.20803391, -1.93071649,  0.11163651, -0.28778385],\n",
       "       [-0.52774918, -0.09232969,  0.4010645 ,  0.3837118 ],\n",
       "       [ 0.45329494,  0.8268637 ,  0.92203487,  1.45810485],\n",
       "       [-0.40511866, -1.70091814,  0.11163651,  0.11511354],\n",
       "       [-0.52774918,  1.97585545, -1.21973223, -1.09357864],\n",
       "       [-1.01827123, -1.70091814, -0.29356267, -0.28778385],\n",
       "       [ 0.69855596, -0.78172474,  0.86414927,  0.92090833],\n",
       "       [-1.01827123,  0.59706535, -1.39338902, -1.3621769 ],\n",
       "       [-1.01827123,  0.367267  , -1.50916022, -1.3621769 ],\n",
       "       [-0.40511866, -1.47111979, -0.00413469, -0.15348472],\n",
       "       [ 1.06644751, -0.09232969,  0.69049248,  0.65231006],\n",
       "       [-1.14090175,  0.13746866, -1.33550342, -1.3621769 ],\n",
       "       [-0.03722712, -0.55192639,  0.74837808,  1.59240398],\n",
       "       [-1.01827123,  0.8268637 , -1.33550342, -1.3621769 ],\n",
       "       [-1.01827123,  1.05666205, -1.27761783, -0.82498038],\n",
       "       [ 0.08540339,  0.367267  ,  0.57472129,  0.7866092 ],\n",
       "       [-0.89564072, -1.24132144, -0.46721946, -0.15348472],\n",
       "       [ 1.31170853,  0.367267  ,  1.09569166,  1.45810485],\n",
       "       [ 0.20803391, -0.78172474,  0.74837808,  0.51801093],\n",
       "       [ 0.33066442, -1.01152309,  1.03780607,  0.24941267],\n",
       "       [ 2.29275265, -0.09232969,  1.32723405,  1.45810485],\n",
       "       [-0.40511866, -1.24132144,  0.11163651,  0.11511354],\n",
       "       [-1.75405432, -0.32212804, -1.39338902, -1.3621769 ],\n",
       "       [-1.87668483, -0.09232969, -1.56704581, -1.49647603],\n",
       "       [ 0.20803391, -1.93071649,  0.69049248,  0.3837118 ],\n",
       "       [ 1.67960008,  0.367267  ,  1.26934846,  0.7866092 ],\n",
       "       [-1.50879329,  0.13746866, -1.33550342, -1.3621769 ],\n",
       "       [-0.89564072,  1.05666205, -1.39338902, -1.22787777],\n",
       "       [-1.75405432, -0.09232969, -1.45127462, -1.3621769 ],\n",
       "       [ 0.57592545, -1.24132144,  0.63260689,  0.3837118 ],\n",
       "       [ 0.57592545,  0.8268637 ,  1.03780607,  1.59240398],\n",
       "       [-1.50879329,  0.8268637 , -1.39338902, -1.22787777],\n",
       "       [ 1.18907802, -0.09232969,  0.97992047,  1.18950659],\n",
       "       [ 0.57592545,  0.59706535,  1.26934846,  1.72670311],\n",
       "       [-1.38616278,  0.367267  , -1.45127462, -1.3621769 ],\n",
       "       [ 0.33066442, -0.32212804,  0.51683569,  0.24941267],\n",
       "       [ 0.82118648, -0.55192639,  0.45895009,  0.3837118 ],\n",
       "       [ 0.45329494, -0.55192639,  0.57472129,  0.7866092 ],\n",
       "       [ 1.43433905,  0.367267  ,  0.51683569,  0.24941267],\n",
       "       [ 0.69855596,  0.367267  ,  0.86414927,  1.45810485],\n",
       "       [-0.89564072,  1.7460571 , -1.27761783, -1.3621769 ],\n",
       "       [ 1.31170853,  0.13746866,  0.92203487,  1.18950659],\n",
       "       [ 0.08540339, -0.09232969,  0.2274077 ,  0.3837118 ],\n",
       "       [ 0.82118648, -0.09232969,  0.80626368,  1.05520746],\n",
       "       [-0.15985763, -1.01152309, -0.17779148, -0.28778385],\n",
       "       [-0.7730102 , -0.78172474,  0.05375091,  0.24941267],\n",
       "       [ 0.33066442, -0.09232969,  0.45895009,  0.24941267],\n",
       "       [-1.6314238 , -1.70091814, -1.45127462, -1.22787777],\n",
       "       [ 0.94381699, -0.32212804,  0.45895009,  0.11511354],\n",
       "       [-0.40511866, -1.01152309,  0.3431789 , -0.01918559],\n",
       "       [-0.65037969,  1.51625875, -1.33550342, -1.3621769 ],\n",
       "       [-0.28248815, -0.09232969,  0.16952211,  0.11511354],\n",
       "       [ 1.80223059, -0.32212804,  1.44300525,  0.7866092 ],\n",
       "       [ 1.06644751,  0.59706535,  1.09569166,  1.18950659],\n",
       "       [-0.89564072,  1.51625875, -1.33550342, -1.09357864],\n",
       "       [-1.14090175, -1.47111979, -0.29356267, -0.28778385],\n",
       "       [ 1.06644751,  0.59706535,  1.09569166,  1.72670311],\n",
       "       [ 1.67960008, -0.09232969,  1.15357726,  0.51801093],\n",
       "       [-1.14090175,  1.2864604 , -1.39338902, -1.49647603],\n",
       "       [ 1.06644751,  0.13746866,  1.03780607,  1.59240398],\n",
       "       [-1.14090175, -0.09232969, -1.39338902, -1.3621769 ],\n",
       "       [ 1.31170853,  0.13746866,  0.63260689,  0.3837118 ],\n",
       "       [ 1.9248611 , -0.55192639,  1.32723405,  0.92090833],\n",
       "       [ 0.57592545, -0.32212804,  1.03780607,  0.7866092 ],\n",
       "       [-0.15985763, -0.55192639,  0.16952211,  0.11511354],\n",
       "       [ 0.82118648, -0.09232969,  0.97992047,  0.7866092 ],\n",
       "       [ 0.57592545, -1.70091814,  0.3431789 ,  0.11511354],\n",
       "       [ 0.69855596, -0.32212804,  0.2852933 ,  0.11511354],\n",
       "       [-0.28248815, -0.55192639,  0.63260689,  1.05520746],\n",
       "       [ 0.08540339, -0.09232969,  0.74837808,  0.7866092 ],\n",
       "       [-0.52774918,  0.8268637 , -1.21973223, -1.3621769 ],\n",
       "       [ 0.33066442, -0.55192639,  0.11163651,  0.11511354],\n",
       "       [-1.14090175, -1.24132144,  0.4010645 ,  0.65231006],\n",
       "       [-0.03722712,  2.2056538 , -1.50916022, -1.3621769 ],\n",
       "       [-0.03722712, -1.01152309,  0.11163651, -0.01918559],\n",
       "       [ 1.55696956, -0.09232969,  1.21146286,  1.18950659]])"
      ]
     },
     "execution_count": 62,
     "metadata": {},
     "output_type": "execute_result"
    }
   ],
   "source": [
    "train_scaled"
   ]
  },
  {
   "cell_type": "code",
   "execution_count": 63,
   "id": "88670bfa",
   "metadata": {},
   "outputs": [],
   "source": [
    "from sklearn.neighbors import KNeighborsClassifier"
   ]
  },
  {
   "cell_type": "code",
   "execution_count": 65,
   "id": "22d121c8",
   "metadata": {},
   "outputs": [
    {
     "data": {
      "text/plain": [
       "KNeighborsClassifier(n_neighbors=10)"
      ]
     },
     "execution_count": 65,
     "metadata": {},
     "output_type": "execute_result"
    }
   ],
   "source": [
    "knn = KNeighborsClassifier(n_neighbors = 10)\n",
    "knn.fit(train_scaled, train_label)"
   ]
  },
  {
   "cell_type": "code",
   "execution_count": 66,
   "id": "92a488a2",
   "metadata": {},
   "outputs": [
    {
     "data": {
      "text/plain": [
       "array([[ 0.33066442, -0.55192639,  0.51683569,  1.32380572]])"
      ]
     },
     "execution_count": 66,
     "metadata": {},
     "output_type": "execute_result"
    }
   ],
   "source": [
    "new_input = np.array([[6.1, 2.8, 4.7, 2.2]])\n",
    "new_scaled = ss.transform(new_input)\n",
    "new_scaled"
   ]
  },
  {
   "cell_type": "code",
   "execution_count": 71,
   "id": "ba464141",
   "metadata": {},
   "outputs": [
    {
     "data": {
      "text/plain": [
       "array([[0. , 0.9, 0.1],\n",
       "       [1. , 0. , 0. ],\n",
       "       [0. , 0. , 1. ],\n",
       "       [0. , 0.7, 0.3],\n",
       "       [0. , 0.8, 0.2]])"
      ]
     },
     "execution_count": 71,
     "metadata": {},
     "output_type": "execute_result"
    }
   ],
   "source": [
    "predict_label = knn.predict(new_scaled)\n",
    "predict_label\n",
    "knn.predict_proba(new_scaled)\n",
    "knn.predict_proba(test_scaled[:5])"
   ]
  },
  {
   "cell_type": "code",
   "execution_count": 73,
   "id": "7b090857",
   "metadata": {},
   "outputs": [
    {
     "name": "stdout",
     "output_type": "stream",
     "text": [
      "[1 0 2 1 1 0 1 2 1 1 2 0 0 0 0 1 2 1 1 2 0 2 0 2 2 2 2 2 0 0 0 0 1 0 0 2 1\n",
      " 0]\n",
      "1.0\n"
     ]
    }
   ],
   "source": [
    "predict_test = knn.predict(test_scaled)\n",
    "print(predict_test)\n",
    "\n",
    "print(np.mean(predict_test == test_label))"
   ]
  },
  {
   "cell_type": "code",
   "execution_count": 74,
   "id": "294f432d",
   "metadata": {},
   "outputs": [],
   "source": [
    "from sklearn.cluster import KMeans"
   ]
  },
  {
   "cell_type": "code",
   "execution_count": 75,
   "id": "32013766",
   "metadata": {},
   "outputs": [],
   "source": [
    "k_means = KMeans(n_clusters = 3)"
   ]
  },
  {
   "cell_type": "code",
   "execution_count": 76,
   "id": "2446fff4",
   "metadata": {},
   "outputs": [],
   "source": [
    "ss = StandardScaler()\n",
    "ss.fit(train_input)\n",
    "train_scaled = ss.transform(train_input)\n",
    "test_scaled = ss.transform(test_input)"
   ]
  },
  {
   "cell_type": "code",
   "execution_count": 77,
   "id": "d22a3745",
   "metadata": {},
   "outputs": [
    {
     "data": {
      "text/plain": [
       "KMeans(n_clusters=3)"
      ]
     },
     "execution_count": 77,
     "metadata": {},
     "output_type": "execute_result"
    }
   ],
   "source": [
    "k_means.fit(train_scaled)"
   ]
  },
  {
   "cell_type": "code",
   "execution_count": 78,
   "id": "59d58df3",
   "metadata": {},
   "outputs": [
    {
     "data": {
      "text/plain": [
       "array([0, 0, 1, 2, 2, 0, 0, 1, 1, 2, 2, 2, 1, 2, 1, 0, 2, 1, 0, 0, 0, 1,\n",
       "       1, 0, 0, 0, 1, 0, 1, 2, 0, 1, 1, 0, 1, 1, 1, 1, 2, 1, 0, 1, 1, 0,\n",
       "       0, 1, 2, 0, 1, 0, 0, 2, 1, 2, 1, 1, 2, 1, 0, 0, 1, 2, 0, 0, 0, 1,\n",
       "       2, 0, 2, 2, 0, 1, 1, 1, 2, 2, 0, 2, 1, 2, 1, 1, 1, 0, 1, 1, 0, 1,\n",
       "       2, 2, 0, 1, 2, 2, 0, 2, 0, 2, 2, 2, 1, 2, 1, 1, 1, 1, 0, 1, 1, 0,\n",
       "       1, 2])"
      ]
     },
     "execution_count": 78,
     "metadata": {},
     "output_type": "execute_result"
    }
   ],
   "source": [
    "k_means.labels_"
   ]
  },
  {
   "cell_type": "code",
   "execution_count": 79,
   "id": "8a666109",
   "metadata": {},
   "outputs": [
    {
     "data": {
      "text/plain": [
       "array([1, 0, 2, 1, 2, 0, 1, 2, 1, 1, 2, 0, 0, 0, 0, 2, 2, 1, 1, 2, 0, 1,\n",
       "       0, 2, 2, 2, 2, 2, 0, 0, 0, 0, 2, 0, 0, 1, 2, 0])"
      ]
     },
     "execution_count": 79,
     "metadata": {},
     "output_type": "execute_result"
    }
   ],
   "source": [
    "predict_cluster = k_means.predict(test_scaled)\n",
    "predict_cluster"
   ]
  },
  {
   "cell_type": "code",
   "execution_count": 81,
   "id": "498297bb",
   "metadata": {},
   "outputs": [
    {
     "data": {
      "text/plain": [
       "0.8421052631578947"
      ]
     },
     "execution_count": 81,
     "metadata": {},
     "output_type": "execute_result"
    }
   ],
   "source": [
    "np.mean(predict_cluster == test_label)"
   ]
  },
  {
   "cell_type": "markdown",
   "id": "7fbd67bd",
   "metadata": {},
   "source": [
    "# [ 사이킷런을 통한 단어 특징 추출 ]"
   ]
  },
  {
   "cell_type": "markdown",
   "id": "f819a1ec",
   "metadata": {},
   "source": [
    "## CountVectorizer\n",
    "문장에서 중요한 단어는 무엇일까 ?\n",
    "\n",
    "단어의 빈도수가 높은것이 제일 중요한 단어가 아닐까?"
   ]
  },
  {
   "cell_type": "markdown",
   "id": "c3dfd221",
   "metadata": {},
   "source": [
    "## One - hot - encoding 문제점\n",
    "1. 차원이 너무 많아진다\n",
    "2. Sparsity => 하나만 1이고 나머지는 전부 0\n",
    "3. [man, woman, king, queen] 예제에서 유사관계가 man - king : 0, man - queen : 0 으로 나오는 문제점 발생"
   ]
  },
  {
   "cell_type": "markdown",
   "id": "43f5697b",
   "metadata": {},
   "source": [
    "## Word representation : Count - based - method\n",
    "\n",
    "윈도우 크기 (N = 1) 에 따라서 단어를 기준으로 N 만큼 떨어진 단어의 갯수를 샌다.\n",
    "\n",
    "* I like deep learning\n",
    "* I like NLP\n",
    "* I enjoy flying\n",
    "\n",
    "카운트 | i | like | enjoy | deep | learning | NLP | flying\n",
    "I\n",
    "\n",
    "like\n",
    "\n",
    "enjoy\n",
    "\n",
    "deep\n",
    "\n",
    "learning\n",
    "\n",
    "NLP\n",
    "\n",
    "flying\n",
    "\n",
    "* 단어-문서 행렬 (Term-Document martix, TDM)\n",
    "* 문서-단어 행렬 (Document-Term, DTM)"
   ]
  },
  {
   "cell_type": "markdown",
   "id": "9e3e05c7",
   "metadata": {},
   "source": [
    "## CountVectorizer의 문제점\n",
    "개수로만 특징을 추출하게 되면 그래서, 그러나 등과 같이 문장을 꾸며주는 단어들이 추출될 가능성이 높다."
   ]
  },
  {
   "cell_type": "code",
   "execution_count": 83,
   "id": "3f30e855",
   "metadata": {},
   "outputs": [],
   "source": [
    "from sklearn.feature_extraction.text import CountVectorizer"
   ]
  },
  {
   "cell_type": "code",
   "execution_count": 84,
   "id": "5da5a140",
   "metadata": {},
   "outputs": [],
   "source": [
    "text_data = ['나는 배가 고프다', '내일 점심 뭐먹지', '내일 공부 해야겠다', '점심 먹고 공부 해야지']"
   ]
  },
  {
   "cell_type": "code",
   "execution_count": 86,
   "id": "2c2e8daf",
   "metadata": {},
   "outputs": [],
   "source": [
    "count_vectorizer = CountVectorizer()"
   ]
  },
  {
   "cell_type": "code",
   "execution_count": 88,
   "id": "ef4ee580",
   "metadata": {},
   "outputs": [
    {
     "data": {
      "text/plain": [
       "CountVectorizer()"
      ]
     },
     "execution_count": 88,
     "metadata": {},
     "output_type": "execute_result"
    }
   ],
   "source": [
    "count_vectorizer.fit(text_data)"
   ]
  },
  {
   "cell_type": "code",
   "execution_count": 89,
   "id": "e837a7a2",
   "metadata": {},
   "outputs": [
    {
     "data": {
      "text/plain": [
       "{'나는': 2,\n",
       " '배가': 6,\n",
       " '고프다': 0,\n",
       " '내일': 3,\n",
       " '점심': 7,\n",
       " '뭐먹지': 5,\n",
       " '공부': 1,\n",
       " '해야겠다': 8,\n",
       " '먹고': 4,\n",
       " '해야지': 9}"
      ]
     },
     "execution_count": 89,
     "metadata": {},
     "output_type": "execute_result"
    }
   ],
   "source": [
    "count_vectorizer.vocabulary_"
   ]
  },
  {
   "cell_type": "code",
   "execution_count": 93,
   "id": "e6e34303",
   "metadata": {},
   "outputs": [
    {
     "name": "stdout",
     "output_type": "stream",
     "text": [
      "[[1 0 1 0 0 0 1 0 0 0]]\n",
      "[[0 0 0 1 0 1 0 1 0 0]]\n"
     ]
    }
   ],
   "source": [
    "print(count_vectorizer.transform([text_data[0]]).toarray())\n",
    "print(count_vectorizer.transform([text_data[1]]).toarray())"
   ]
  },
  {
   "cell_type": "markdown",
   "id": "434758af",
   "metadata": {},
   "source": [
    "## TfidVectorizer\n"
   ]
  },
  {
   "cell_type": "code",
   "execution_count": 94,
   "id": "f0eee39b",
   "metadata": {},
   "outputs": [],
   "source": [
    "from sklearn.feature_extraction.text import TfidfVectorizer"
   ]
  },
  {
   "cell_type": "code",
   "execution_count": 95,
   "id": "03386fd3",
   "metadata": {},
   "outputs": [],
   "source": [
    "tfidf_vectorizer = TfidfVectorizer()"
   ]
  },
  {
   "cell_type": "code",
   "execution_count": 96,
   "id": "7888dc8d",
   "metadata": {},
   "outputs": [],
   "source": [
    "text_data = ['나는 배가 고프다', '내일 점심 뭐먹지', '내일 공부 해야겠다', '점심 먹고 공부 해야지']"
   ]
  },
  {
   "cell_type": "code",
   "execution_count": 97,
   "id": "a8f16f54",
   "metadata": {},
   "outputs": [
    {
     "data": {
      "text/plain": [
       "TfidfVectorizer()"
      ]
     },
     "execution_count": 97,
     "metadata": {},
     "output_type": "execute_result"
    }
   ],
   "source": [
    "tfidf_vectorizer.fit(text_data)"
   ]
  },
  {
   "cell_type": "code",
   "execution_count": 98,
   "id": "863c083f",
   "metadata": {},
   "outputs": [
    {
     "data": {
      "text/plain": [
       "{'나는': 2,\n",
       " '배가': 6,\n",
       " '고프다': 0,\n",
       " '내일': 3,\n",
       " '점심': 7,\n",
       " '뭐먹지': 5,\n",
       " '공부': 1,\n",
       " '해야겠다': 8,\n",
       " '먹고': 4,\n",
       " '해야지': 9}"
      ]
     },
     "execution_count": 98,
     "metadata": {},
     "output_type": "execute_result"
    }
   ],
   "source": [
    "tfidf_vectorizer.vocabulary_"
   ]
  },
  {
   "cell_type": "code",
   "execution_count": 99,
   "id": "dd81e92b",
   "metadata": {},
   "outputs": [
    {
     "data": {
      "text/plain": [
       "array([[0.57735027, 0.        , 0.57735027, 0.        , 0.        ,\n",
       "        0.        , 0.57735027, 0.        , 0.        , 0.        ]])"
      ]
     },
     "execution_count": 99,
     "metadata": {},
     "output_type": "execute_result"
    }
   ],
   "source": [
    "tfidf_vectorizer.transform([text_data[0]]).toarray()"
   ]
  },
  {
   "cell_type": "markdown",
   "id": "dee460c8",
   "metadata": {},
   "source": [
    "## Tokenization"
   ]
  },
  {
   "cell_type": "code",
   "execution_count": 100,
   "id": "879a8f5a",
   "metadata": {},
   "outputs": [],
   "source": [
    "import nltk"
   ]
  },
  {
   "cell_type": "code",
   "execution_count": 102,
   "id": "64c56b51",
   "metadata": {},
   "outputs": [
    {
     "name": "stderr",
     "output_type": "stream",
     "text": [
      "[nltk_data] Downloading collection 'all-corpora'\n",
      "[nltk_data]    | \n",
      "[nltk_data]    | Downloading package abc to\n",
      "[nltk_data]    |     C:\\Users\\enduser\\AppData\\Roaming\\nltk_data...\n",
      "[nltk_data]    |   Unzipping corpora\\abc.zip.\n",
      "[nltk_data]    | Downloading package alpino to\n",
      "[nltk_data]    |     C:\\Users\\enduser\\AppData\\Roaming\\nltk_data...\n",
      "[nltk_data]    |   Unzipping corpora\\alpino.zip.\n",
      "[nltk_data]    | Downloading package biocreative_ppi to\n",
      "[nltk_data]    |     C:\\Users\\enduser\\AppData\\Roaming\\nltk_data...\n",
      "[nltk_data]    |   Unzipping corpora\\biocreative_ppi.zip.\n",
      "[nltk_data]    | Downloading package brown to\n",
      "[nltk_data]    |     C:\\Users\\enduser\\AppData\\Roaming\\nltk_data...\n",
      "[nltk_data]    |   Unzipping corpora\\brown.zip.\n",
      "[nltk_data]    | Downloading package brown_tei to\n",
      "[nltk_data]    |     C:\\Users\\enduser\\AppData\\Roaming\\nltk_data...\n",
      "[nltk_data]    |   Unzipping corpora\\brown_tei.zip.\n",
      "[nltk_data]    | Downloading package cess_cat to\n",
      "[nltk_data]    |     C:\\Users\\enduser\\AppData\\Roaming\\nltk_data...\n",
      "[nltk_data]    |   Unzipping corpora\\cess_cat.zip.\n",
      "[nltk_data]    | Downloading package cess_esp to\n",
      "[nltk_data]    |     C:\\Users\\enduser\\AppData\\Roaming\\nltk_data...\n",
      "[nltk_data]    |   Unzipping corpora\\cess_esp.zip.\n",
      "[nltk_data]    | Downloading package chat80 to\n",
      "[nltk_data]    |     C:\\Users\\enduser\\AppData\\Roaming\\nltk_data...\n",
      "[nltk_data]    |   Unzipping corpora\\chat80.zip.\n",
      "[nltk_data]    | Downloading package city_database to\n",
      "[nltk_data]    |     C:\\Users\\enduser\\AppData\\Roaming\\nltk_data...\n",
      "[nltk_data]    |   Unzipping corpora\\city_database.zip.\n",
      "[nltk_data]    | Downloading package cmudict to\n",
      "[nltk_data]    |     C:\\Users\\enduser\\AppData\\Roaming\\nltk_data...\n",
      "[nltk_data]    |   Unzipping corpora\\cmudict.zip.\n",
      "[nltk_data]    | Downloading package comparative_sentences to\n",
      "[nltk_data]    |     C:\\Users\\enduser\\AppData\\Roaming\\nltk_data...\n",
      "[nltk_data]    |   Unzipping corpora\\comparative_sentences.zip.\n",
      "[nltk_data]    | Downloading package comtrans to\n",
      "[nltk_data]    |     C:\\Users\\enduser\\AppData\\Roaming\\nltk_data...\n",
      "[nltk_data]    | Downloading package conll2000 to\n",
      "[nltk_data]    |     C:\\Users\\enduser\\AppData\\Roaming\\nltk_data...\n",
      "[nltk_data]    |   Unzipping corpora\\conll2000.zip.\n",
      "[nltk_data]    | Downloading package conll2002 to\n",
      "[nltk_data]    |     C:\\Users\\enduser\\AppData\\Roaming\\nltk_data...\n",
      "[nltk_data]    |   Unzipping corpora\\conll2002.zip.\n",
      "[nltk_data]    | Downloading package conll2007 to\n",
      "[nltk_data]    |     C:\\Users\\enduser\\AppData\\Roaming\\nltk_data...\n",
      "[nltk_data]    | Downloading package crubadan to\n",
      "[nltk_data]    |     C:\\Users\\enduser\\AppData\\Roaming\\nltk_data...\n",
      "[nltk_data]    |   Unzipping corpora\\crubadan.zip.\n",
      "[nltk_data]    | Downloading package dependency_treebank to\n",
      "[nltk_data]    |     C:\\Users\\enduser\\AppData\\Roaming\\nltk_data...\n",
      "[nltk_data]    |   Unzipping corpora\\dependency_treebank.zip.\n",
      "[nltk_data]    | Downloading package dolch to\n",
      "[nltk_data]    |     C:\\Users\\enduser\\AppData\\Roaming\\nltk_data...\n",
      "[nltk_data]    |   Unzipping corpora\\dolch.zip.\n",
      "[nltk_data]    | Downloading package europarl_raw to\n",
      "[nltk_data]    |     C:\\Users\\enduser\\AppData\\Roaming\\nltk_data...\n",
      "[nltk_data]    |   Unzipping corpora\\europarl_raw.zip.\n",
      "[nltk_data]    | Downloading package extended_omw to\n",
      "[nltk_data]    |     C:\\Users\\enduser\\AppData\\Roaming\\nltk_data...\n",
      "[nltk_data]    | Downloading package floresta to\n",
      "[nltk_data]    |     C:\\Users\\enduser\\AppData\\Roaming\\nltk_data...\n",
      "[nltk_data]    |   Unzipping corpora\\floresta.zip.\n",
      "[nltk_data]    | Downloading package framenet_v15 to\n",
      "[nltk_data]    |     C:\\Users\\enduser\\AppData\\Roaming\\nltk_data...\n",
      "[nltk_data]    |   Unzipping corpora\\framenet_v15.zip.\n",
      "[nltk_data]    | Downloading package framenet_v17 to\n",
      "[nltk_data]    |     C:\\Users\\enduser\\AppData\\Roaming\\nltk_data...\n",
      "[nltk_data]    |   Unzipping corpora\\framenet_v17.zip.\n",
      "[nltk_data]    | Downloading package gazetteers to\n",
      "[nltk_data]    |     C:\\Users\\enduser\\AppData\\Roaming\\nltk_data...\n",
      "[nltk_data]    |   Unzipping corpora\\gazetteers.zip.\n",
      "[nltk_data]    | Downloading package genesis to\n",
      "[nltk_data]    |     C:\\Users\\enduser\\AppData\\Roaming\\nltk_data...\n",
      "[nltk_data]    |   Unzipping corpora\\genesis.zip.\n",
      "[nltk_data]    | Downloading package gutenberg to\n",
      "[nltk_data]    |     C:\\Users\\enduser\\AppData\\Roaming\\nltk_data...\n",
      "[nltk_data]    |   Unzipping corpora\\gutenberg.zip.\n",
      "[nltk_data]    | Downloading package ieer to\n",
      "[nltk_data]    |     C:\\Users\\enduser\\AppData\\Roaming\\nltk_data...\n",
      "[nltk_data]    |   Unzipping corpora\\ieer.zip.\n",
      "[nltk_data]    | Downloading package inaugural to\n",
      "[nltk_data]    |     C:\\Users\\enduser\\AppData\\Roaming\\nltk_data...\n",
      "[nltk_data]    |   Unzipping corpora\\inaugural.zip.\n",
      "[nltk_data]    | Downloading package indian to\n",
      "[nltk_data]    |     C:\\Users\\enduser\\AppData\\Roaming\\nltk_data...\n",
      "[nltk_data]    |   Unzipping corpora\\indian.zip.\n",
      "[nltk_data]    | Downloading package jeita to\n",
      "[nltk_data]    |     C:\\Users\\enduser\\AppData\\Roaming\\nltk_data...\n",
      "[nltk_data]    | Downloading package kimmo to\n",
      "[nltk_data]    |     C:\\Users\\enduser\\AppData\\Roaming\\nltk_data...\n",
      "[nltk_data]    |   Unzipping corpora\\kimmo.zip.\n",
      "[nltk_data]    | Downloading package knbc to\n",
      "[nltk_data]    |     C:\\Users\\enduser\\AppData\\Roaming\\nltk_data...\n",
      "[nltk_data]    | Downloading package lin_thesaurus to\n",
      "[nltk_data]    |     C:\\Users\\enduser\\AppData\\Roaming\\nltk_data...\n",
      "[nltk_data]    |   Unzipping corpora\\lin_thesaurus.zip.\n",
      "[nltk_data]    | Downloading package mac_morpho to\n",
      "[nltk_data]    |     C:\\Users\\enduser\\AppData\\Roaming\\nltk_data...\n",
      "[nltk_data]    |   Unzipping corpora\\mac_morpho.zip.\n",
      "[nltk_data]    | Downloading package machado to\n",
      "[nltk_data]    |     C:\\Users\\enduser\\AppData\\Roaming\\nltk_data...\n",
      "[nltk_data]    | Downloading package masc_tagged to\n",
      "[nltk_data]    |     C:\\Users\\enduser\\AppData\\Roaming\\nltk_data...\n",
      "[nltk_data]    | Downloading package movie_reviews to\n",
      "[nltk_data]    |     C:\\Users\\enduser\\AppData\\Roaming\\nltk_data...\n",
      "[nltk_data]    |   Unzipping corpora\\movie_reviews.zip.\n",
      "[nltk_data]    | Downloading package mte_teip5 to\n",
      "[nltk_data]    |     C:\\Users\\enduser\\AppData\\Roaming\\nltk_data...\n",
      "[nltk_data]    |   Unzipping corpora\\mte_teip5.zip.\n",
      "[nltk_data]    | Downloading package names to\n",
      "[nltk_data]    |     C:\\Users\\enduser\\AppData\\Roaming\\nltk_data...\n",
      "[nltk_data]    |   Unzipping corpora\\names.zip.\n",
      "[nltk_data]    | Downloading package nombank.1.0 to\n",
      "[nltk_data]    |     C:\\Users\\enduser\\AppData\\Roaming\\nltk_data...\n",
      "[nltk_data]    | Downloading package nonbreaking_prefixes to\n",
      "[nltk_data]    |     C:\\Users\\enduser\\AppData\\Roaming\\nltk_data...\n",
      "[nltk_data]    |   Unzipping corpora\\nonbreaking_prefixes.zip.\n",
      "[nltk_data]    | Downloading package nps_chat to\n",
      "[nltk_data]    |     C:\\Users\\enduser\\AppData\\Roaming\\nltk_data...\n",
      "[nltk_data]    |   Unzipping corpora\\nps_chat.zip.\n",
      "[nltk_data]    | Downloading package omw to\n",
      "[nltk_data]    |     C:\\Users\\enduser\\AppData\\Roaming\\nltk_data...\n",
      "[nltk_data]    | Downloading package omw-1.4 to\n",
      "[nltk_data]    |     C:\\Users\\enduser\\AppData\\Roaming\\nltk_data...\n",
      "[nltk_data]    | Downloading package opinion_lexicon to\n",
      "[nltk_data]    |     C:\\Users\\enduser\\AppData\\Roaming\\nltk_data...\n",
      "[nltk_data]    |   Unzipping corpora\\opinion_lexicon.zip.\n",
      "[nltk_data]    | Downloading package panlex_swadesh to\n",
      "[nltk_data]    |     C:\\Users\\enduser\\AppData\\Roaming\\nltk_data...\n",
      "[nltk_data]    | Downloading package paradigms to\n",
      "[nltk_data]    |     C:\\Users\\enduser\\AppData\\Roaming\\nltk_data...\n",
      "[nltk_data]    |   Unzipping corpora\\paradigms.zip.\n",
      "[nltk_data]    | Downloading package pe08 to\n",
      "[nltk_data]    |     C:\\Users\\enduser\\AppData\\Roaming\\nltk_data...\n",
      "[nltk_data]    |   Unzipping corpora\\pe08.zip.\n",
      "[nltk_data]    | Downloading package pil to\n",
      "[nltk_data]    |     C:\\Users\\enduser\\AppData\\Roaming\\nltk_data...\n",
      "[nltk_data]    |   Unzipping corpora\\pil.zip.\n",
      "[nltk_data]    | Downloading package pl196x to\n",
      "[nltk_data]    |     C:\\Users\\enduser\\AppData\\Roaming\\nltk_data...\n",
      "[nltk_data]    |   Unzipping corpora\\pl196x.zip.\n",
      "[nltk_data]    | Downloading package ppattach to\n",
      "[nltk_data]    |     C:\\Users\\enduser\\AppData\\Roaming\\nltk_data...\n",
      "[nltk_data]    |   Unzipping corpora\\ppattach.zip.\n",
      "[nltk_data]    | Downloading package problem_reports to\n",
      "[nltk_data]    |     C:\\Users\\enduser\\AppData\\Roaming\\nltk_data...\n"
     ]
    },
    {
     "name": "stderr",
     "output_type": "stream",
     "text": [
      "[nltk_data]    |   Unzipping corpora\\problem_reports.zip.\n",
      "[nltk_data]    | Downloading package product_reviews_1 to\n",
      "[nltk_data]    |     C:\\Users\\enduser\\AppData\\Roaming\\nltk_data...\n",
      "[nltk_data]    |   Unzipping corpora\\product_reviews_1.zip.\n",
      "[nltk_data]    | Downloading package product_reviews_2 to\n",
      "[nltk_data]    |     C:\\Users\\enduser\\AppData\\Roaming\\nltk_data...\n",
      "[nltk_data]    |   Unzipping corpora\\product_reviews_2.zip.\n",
      "[nltk_data]    | Downloading package propbank to\n",
      "[nltk_data]    |     C:\\Users\\enduser\\AppData\\Roaming\\nltk_data...\n",
      "[nltk_data]    | Downloading package pros_cons to\n",
      "[nltk_data]    |     C:\\Users\\enduser\\AppData\\Roaming\\nltk_data...\n",
      "[nltk_data]    |   Unzipping corpora\\pros_cons.zip.\n",
      "[nltk_data]    | Downloading package ptb to\n",
      "[nltk_data]    |     C:\\Users\\enduser\\AppData\\Roaming\\nltk_data...\n",
      "[nltk_data]    |   Unzipping corpora\\ptb.zip.\n",
      "[nltk_data]    | Downloading package qc to\n",
      "[nltk_data]    |     C:\\Users\\enduser\\AppData\\Roaming\\nltk_data...\n",
      "[nltk_data]    |   Unzipping corpora\\qc.zip.\n",
      "[nltk_data]    | Downloading package reuters to\n",
      "[nltk_data]    |     C:\\Users\\enduser\\AppData\\Roaming\\nltk_data...\n",
      "[nltk_data]    | Downloading package rte to\n",
      "[nltk_data]    |     C:\\Users\\enduser\\AppData\\Roaming\\nltk_data...\n",
      "[nltk_data]    |   Unzipping corpora\\rte.zip.\n",
      "[nltk_data]    | Downloading package semcor to\n",
      "[nltk_data]    |     C:\\Users\\enduser\\AppData\\Roaming\\nltk_data...\n",
      "[nltk_data]    | Downloading package senseval to\n",
      "[nltk_data]    |     C:\\Users\\enduser\\AppData\\Roaming\\nltk_data...\n",
      "[nltk_data]    |   Unzipping corpora\\senseval.zip.\n",
      "[nltk_data]    | Downloading package sentence_polarity to\n",
      "[nltk_data]    |     C:\\Users\\enduser\\AppData\\Roaming\\nltk_data...\n",
      "[nltk_data]    |   Unzipping corpora\\sentence_polarity.zip.\n",
      "[nltk_data]    | Downloading package sentiwordnet to\n",
      "[nltk_data]    |     C:\\Users\\enduser\\AppData\\Roaming\\nltk_data...\n",
      "[nltk_data]    |   Unzipping corpora\\sentiwordnet.zip.\n",
      "[nltk_data]    | Downloading package shakespeare to\n",
      "[nltk_data]    |     C:\\Users\\enduser\\AppData\\Roaming\\nltk_data...\n",
      "[nltk_data]    |   Unzipping corpora\\shakespeare.zip.\n",
      "[nltk_data]    | Downloading package sinica_treebank to\n",
      "[nltk_data]    |     C:\\Users\\enduser\\AppData\\Roaming\\nltk_data...\n",
      "[nltk_data]    |   Unzipping corpora\\sinica_treebank.zip.\n",
      "[nltk_data]    | Downloading package smultron to\n",
      "[nltk_data]    |     C:\\Users\\enduser\\AppData\\Roaming\\nltk_data...\n",
      "[nltk_data]    |   Unzipping corpora\\smultron.zip.\n",
      "[nltk_data]    | Downloading package state_union to\n",
      "[nltk_data]    |     C:\\Users\\enduser\\AppData\\Roaming\\nltk_data...\n",
      "[nltk_data]    |   Unzipping corpora\\state_union.zip.\n",
      "[nltk_data]    | Downloading package stopwords to\n",
      "[nltk_data]    |     C:\\Users\\enduser\\AppData\\Roaming\\nltk_data...\n",
      "[nltk_data]    |   Unzipping corpora\\stopwords.zip.\n",
      "[nltk_data]    | Downloading package subjectivity to\n",
      "[nltk_data]    |     C:\\Users\\enduser\\AppData\\Roaming\\nltk_data...\n",
      "[nltk_data]    |   Unzipping corpora\\subjectivity.zip.\n",
      "[nltk_data]    | Downloading package swadesh to\n",
      "[nltk_data]    |     C:\\Users\\enduser\\AppData\\Roaming\\nltk_data...\n",
      "[nltk_data]    |   Unzipping corpora\\swadesh.zip.\n",
      "[nltk_data]    | Downloading package switchboard to\n",
      "[nltk_data]    |     C:\\Users\\enduser\\AppData\\Roaming\\nltk_data...\n",
      "[nltk_data]    |   Unzipping corpora\\switchboard.zip.\n",
      "[nltk_data]    | Downloading package timit to\n",
      "[nltk_data]    |     C:\\Users\\enduser\\AppData\\Roaming\\nltk_data...\n",
      "[nltk_data]    |   Unzipping corpora\\timit.zip.\n",
      "[nltk_data]    | Downloading package toolbox to\n",
      "[nltk_data]    |     C:\\Users\\enduser\\AppData\\Roaming\\nltk_data...\n",
      "[nltk_data]    |   Unzipping corpora\\toolbox.zip.\n",
      "[nltk_data]    | Downloading package treebank to\n",
      "[nltk_data]    |     C:\\Users\\enduser\\AppData\\Roaming\\nltk_data...\n",
      "[nltk_data]    |   Unzipping corpora\\treebank.zip.\n",
      "[nltk_data]    | Downloading package twitter_samples to\n",
      "[nltk_data]    |     C:\\Users\\enduser\\AppData\\Roaming\\nltk_data...\n",
      "[nltk_data]    |   Unzipping corpora\\twitter_samples.zip.\n",
      "[nltk_data]    | Downloading package udhr to\n",
      "[nltk_data]    |     C:\\Users\\enduser\\AppData\\Roaming\\nltk_data...\n",
      "[nltk_data]    |   Unzipping corpora\\udhr.zip.\n",
      "[nltk_data]    | Downloading package udhr2 to\n",
      "[nltk_data]    |     C:\\Users\\enduser\\AppData\\Roaming\\nltk_data...\n",
      "[nltk_data]    |   Unzipping corpora\\udhr2.zip.\n",
      "[nltk_data]    | Downloading package unicode_samples to\n",
      "[nltk_data]    |     C:\\Users\\enduser\\AppData\\Roaming\\nltk_data...\n",
      "[nltk_data]    |   Unzipping corpora\\unicode_samples.zip.\n",
      "[nltk_data]    | Downloading package universal_treebanks_v20 to\n",
      "[nltk_data]    |     C:\\Users\\enduser\\AppData\\Roaming\\nltk_data...\n",
      "[nltk_data]    | Downloading package verbnet to\n",
      "[nltk_data]    |     C:\\Users\\enduser\\AppData\\Roaming\\nltk_data...\n",
      "[nltk_data]    |   Unzipping corpora\\verbnet.zip.\n",
      "[nltk_data]    | Downloading package verbnet3 to\n",
      "[nltk_data]    |     C:\\Users\\enduser\\AppData\\Roaming\\nltk_data...\n",
      "[nltk_data]    |   Unzipping corpora\\verbnet3.zip.\n",
      "[nltk_data]    | Downloading package webtext to\n",
      "[nltk_data]    |     C:\\Users\\enduser\\AppData\\Roaming\\nltk_data...\n",
      "[nltk_data]    |   Unzipping corpora\\webtext.zip.\n",
      "[nltk_data]    | Downloading package wordnet to\n",
      "[nltk_data]    |     C:\\Users\\enduser\\AppData\\Roaming\\nltk_data...\n",
      "[nltk_data]    | Downloading package wordnet2021 to\n",
      "[nltk_data]    |     C:\\Users\\enduser\\AppData\\Roaming\\nltk_data...\n",
      "[nltk_data]    | Downloading package wordnet31 to\n",
      "[nltk_data]    |     C:\\Users\\enduser\\AppData\\Roaming\\nltk_data...\n",
      "[nltk_data]    | Downloading package wordnet_ic to\n",
      "[nltk_data]    |     C:\\Users\\enduser\\AppData\\Roaming\\nltk_data...\n",
      "[nltk_data]    |   Unzipping corpora\\wordnet_ic.zip.\n",
      "[nltk_data]    | Downloading package words to\n",
      "[nltk_data]    |     C:\\Users\\enduser\\AppData\\Roaming\\nltk_data...\n",
      "[nltk_data]    |   Unzipping corpora\\words.zip.\n",
      "[nltk_data]    | Downloading package ycoe to\n",
      "[nltk_data]    |     C:\\Users\\enduser\\AppData\\Roaming\\nltk_data...\n",
      "[nltk_data]    |   Unzipping corpora\\ycoe.zip.\n",
      "[nltk_data]    | \n",
      "[nltk_data]  Done downloading collection all-corpora\n"
     ]
    },
    {
     "data": {
      "text/plain": [
       "True"
      ]
     },
     "execution_count": 102,
     "metadata": {},
     "output_type": "execute_result"
    }
   ],
   "source": [
    "nltk.download('all-corpora')"
   ]
  },
  {
   "cell_type": "code",
   "execution_count": 105,
   "id": "5e83a830",
   "metadata": {},
   "outputs": [
    {
     "name": "stderr",
     "output_type": "stream",
     "text": [
      "[nltk_data] Downloading package punkt to\n",
      "[nltk_data]     C:\\Users\\enduser\\AppData\\Roaming\\nltk_data...\n",
      "[nltk_data]   Unzipping tokenizers\\punkt.zip.\n"
     ]
    },
    {
     "data": {
      "text/plain": [
       "True"
      ]
     },
     "execution_count": 105,
     "metadata": {},
     "output_type": "execute_result"
    }
   ],
   "source": [
    "nltk.download('punkt')"
   ]
  },
  {
   "cell_type": "code",
   "execution_count": 107,
   "id": "596bfe83",
   "metadata": {},
   "outputs": [],
   "source": [
    "from nltk.tokenize import sent_tokenize # sentence로 토큰화\n",
    "from nltk.tokenize import word_tokenize # word로 토큰화"
   ]
  },
  {
   "cell_type": "code",
   "execution_count": 110,
   "id": "eba0c3d1",
   "metadata": {
    "scrolled": true
   },
   "outputs": [
    {
     "name": "stdout",
     "output_type": "stream",
     "text": [
      "['Natural language processing (NLP) is a subfield of computer science, information engineering, and artificial intelligence concerned with the interactions between computers and human (natural) languages, in particular how to program computers to process and analyze large amounts of natural language data.', 'Challenges in natural language processing frequently involve speech recognition, natural language understanding, and natural language generation.']\n",
      "['Natural', 'language', 'processing', '(', 'NLP', ')', 'is', 'a', 'subfield', 'of', 'computer', 'science', ',', 'information', 'engineering', ',', 'and', 'artificial', 'intelligence', 'concerned', 'with', 'the', 'interactions', 'between', 'computers', 'and', 'human', '(', 'natural', ')', 'languages', ',', 'in', 'particular', 'how', 'to', 'program', 'computers', 'to', 'process', 'and', 'analyze', 'large', 'amounts', 'of', 'natural', 'language', 'data', '.', 'Challenges', 'in', 'natural', 'language', 'processing', 'frequently', 'involve', 'speech', 'recognition', ',', 'natural', 'language', 'understanding', ',', 'and', 'natural', 'language', 'generation', '.']\n"
     ]
    }
   ],
   "source": [
    "paragraph = \"Natural language processing (NLP) is a subfield of computer science, information engineering, and artificial intelligence concerned with the interactions between computers and human (natural) languages, in particular how to program computers to process and analyze large amounts of natural language data. Challenges in natural language processing frequently involve speech recognition, natural language understanding, and natural language generation.\"\n",
    "\n",
    "print(sent_tokenize(paragraph)) \n",
    "print(word_tokenize(paragraph))"
   ]
  },
  {
   "cell_type": "code",
   "execution_count": 2,
   "id": "ee60de9d",
   "metadata": {},
   "outputs": [
    {
     "name": "stderr",
     "output_type": "stream",
     "text": [
      "java version \"19.0.1\" 2022-10-18\n",
      "Java(TM) SE Runtime Environment (build 19.0.1+10-21)\n",
      "Java HotSpot(TM) 64-Bit Server VM (build 19.0.1+10-21, mixed mode, sharing)\n"
     ]
    }
   ],
   "source": [
    "!java -version"
   ]
  },
  {
   "cell_type": "code",
   "execution_count": 3,
   "id": "a7a776cd",
   "metadata": {},
   "outputs": [
    {
     "data": {
      "text/plain": [
       "'3.6.13 |Anaconda, Inc.| (default, Mar 16 2021, 11:37:27) [MSC v.1916 64 bit (AMD64)]'"
      ]
     },
     "execution_count": 3,
     "metadata": {},
     "output_type": "execute_result"
    }
   ],
   "source": [
    "import sys\n",
    "sys.version"
   ]
  },
  {
   "cell_type": "code",
   "execution_count": 4,
   "id": "13957913",
   "metadata": {},
   "outputs": [
    {
     "name": "stdout",
     "output_type": "stream",
     "text": [
      "Defaulting to user installation because normal site-packages is not writeable\n",
      "Processing c:\\users\\enduser\\python_nlp\\jpype1-1.1.2-cp36-cp36m-win_amd64.whl\n",
      "Requirement already satisfied: typing-extensions in c:\\programdata\\anaconda3\\envs\\pre_tensorflow\\lib\\site-packages (from JPype1==1.1.2) (3.7.4.3)\n",
      "Installing collected packages: JPype1\n",
      "Successfully installed JPype1-1.1.2\n"
     ]
    }
   ],
   "source": [
    "! pip install JPype1-1.1.2-cp36-cp36m-win_amd64.whl"
   ]
  },
  {
   "cell_type": "code",
   "execution_count": 5,
   "id": "cd9462ec",
   "metadata": {},
   "outputs": [
    {
     "name": "stdout",
     "output_type": "stream",
     "text": [
      "Defaulting to user installation because normal site-packages is not writeable\n",
      "Collecting konlpy\n",
      "  Downloading konlpy-0.6.0-py2.py3-none-any.whl (19.4 MB)\n",
      "Requirement already satisfied: numpy>=1.6 in c:\\programdata\\anaconda3\\envs\\pre_tensorflow\\lib\\site-packages (from konlpy) (1.19.5)\n",
      "Requirement already satisfied: JPype1>=0.7.0 in c:\\users\\enduser\\appdata\\roaming\\python\\python36\\site-packages (from konlpy) (1.1.2)\n",
      "Collecting lxml>=4.1.0\n",
      "  Downloading lxml-4.9.1-cp36-cp36m-win_amd64.whl (3.7 MB)\n",
      "Requirement already satisfied: typing-extensions in c:\\programdata\\anaconda3\\envs\\pre_tensorflow\\lib\\site-packages (from JPype1>=0.7.0->konlpy) (3.7.4.3)\n",
      "Installing collected packages: lxml, konlpy\n",
      "Successfully installed konlpy-0.6.0 lxml-4.9.1\n"
     ]
    }
   ],
   "source": [
    "! pip install konlpy"
   ]
  },
  {
   "cell_type": "code",
   "execution_count": 6,
   "id": "82a12398",
   "metadata": {},
   "outputs": [],
   "source": [
    "import konlpy\n",
    "from konlpy.tag import Okt"
   ]
  },
  {
   "cell_type": "code",
   "execution_count": 7,
   "id": "6ff49971",
   "metadata": {},
   "outputs": [],
   "source": [
    "okt = Okt()"
   ]
  },
  {
   "cell_type": "code",
   "execution_count": 8,
   "id": "05e83d3f",
   "metadata": {},
   "outputs": [],
   "source": [
    "text = \"한글 자연어 처리는 재밌다 이제부터 열심히 해야지ㅎㅎㅎ\""
   ]
  },
  {
   "cell_type": "code",
   "execution_count": 12,
   "id": "47719cc5",
   "metadata": {},
   "outputs": [
    {
     "name": "stdout",
     "output_type": "stream",
     "text": [
      "['한글', '자연어', '처리', '는', '재밌다', '이제', '부터', '열심히', '해야지', 'ㅎㅎㅎ']\n",
      "['한글', '자연어', '처리', '이제']\n",
      "['한글', '한글 자연어', '한글 자연어 처리', '이제', '자연어', '처리']\n",
      "[('한글', 'Noun'), ('자연어', 'Noun'), ('처리', 'Noun'), ('는', 'Josa'), ('재밌다', 'Adjective'), ('이제', 'Noun'), ('부터', 'Josa'), ('열심히', 'Adverb'), ('해야지', 'Verb'), ('ㅎㅎㅎ', 'KoreanParticle')]\n"
     ]
    }
   ],
   "source": [
    "print(okt.morphs(text))\n",
    "print(okt.nouns(text)) # 명사만으로 토큰화\n",
    "print(okt.phrases(text))\n",
    "print(okt.pos(text))"
   ]
  },
  {
   "cell_type": "code",
   "execution_count": 13,
   "id": "0e79dff5",
   "metadata": {},
   "outputs": [],
   "source": [
    "from konlpy.corpus import kolaw\n",
    "from konlpy.corpus import kobill"
   ]
  },
  {
   "cell_type": "code",
   "execution_count": 14,
   "id": "ba469be7",
   "metadata": {},
   "outputs": [
    {
     "data": {
      "text/plain": [
       "'대한민국헌법\\n\\n유구한 역사와 전통에 빛나는 우리 대한국민은 3·1운동으로 건립된 대한민국임시정부의 법통과 불의에 항거한 4·19민주이념을 계승하고, 조국의 민주개혁과 평화적 통일의 사명에 입각하여 정의·인도와 동포애로써 민족의 단결을 공고히 하고, 모든 사회적 폐습과 불의를 타파하며, 자율과 조화를 바탕으로 자유민주적 기본질서를 더욱 확고히 하여 정치·경제·사회·문화의 모든 영역에 있어서 각인의 기회를 균등히 하고, 능력을 최고도로 발휘하게 하며, 자유와 권리에 따르는 책임과 의무를 완수하게 하여, 안으로는 국민생활의 균등한 향상을 기하고 밖으로는 항구적인 세계평화와 인류공영에 이바지함으로써 우리들과 우리들의 자손의 안전과 자유와 행복을 영원히 확보할 것을 다짐하면서 1948년 7월 12일에 제정되고 8차에 걸쳐 개정된 헌법을 이제 국회의 의결을 거쳐 국민투표에 의하여 개정한다.\\n\\n       제1장 총강\\n  제1조 ① 대한민국은 민주공화국이다.\\n②대한민국의 주권은 국민에게 있고, 모든 권력은 국민으로부터 나온다.\\n  제2조 ① 대한민국의 국민이 되는 요건은 법률로 정한다.\\n②국가는 법률이 정하는 바에 의하여 재외국민을 보호할 의무를 진다.\\n  제3조 대한민국의 영토는 한반도와 그 부속도서로 한다.\\n  제4조 대한민국은 통일을 지향하며, 자유민주적 기본질서에 입각한 평화적 통일 정책을 수립하고 이를 추진한다.\\n  제5조 ① 대한민국은 국제평화의 유지에 노력하고 침략적 전쟁을 부인한다.\\n②국군은 국가의 안전보장과 국토방위의 신성한 의무를 수행함을 사명으로 하며, 그 정치적 중립성은 준수된다.\\n  제6조 ① 헌법에 의하여 체결·공포된 조약과 일반적으로 승인된 국제법규는 국내법과 같은 효력을 가진다.\\n②외국인은 국제법과 조약이 정하는 바에 의하여 그 지위가 보장된다.\\n  제7조 ① 공무원은 국민전체에 대한 봉사자이며, 국민에 대하여 책임을 진다.\\n②공무원의 신분과 정치적 중립성은 법률이 정하는 바에 의하여 보장된다.\\n  제8조 ① 정당의 설립은 자유이며, 복수정당제는 보장된다.\\n②정당은 그 목적·조직과 활동이 민주적이어야 하며, 국민의 정치적 의사형성에 참여하는데 필요한 조직을 가져야 한다.\\n③정당은 법률이 정하는 바에 의하여 국가의 보호를 받으며, 국가는 법률이 정하는 바에 의하여 정당운영에 필요한 자금을 보조할 수 있다.\\n④정당의 목적이나 활동이 민주적 기본질서에 위배될 때에는 정부는 헌법재판소에 그 해산을 제소할 수 있고, 정당은 헌법재판소의 심판에 의하여 해산된다.\\n  제9조 국가는 전통문화의 계승·발전과 민족문화의 창달에 노력하여야 한다.\\n\\n       제2장 국민의 권리와 의무\\n  제10조 모든 국민은 인간으로서의 존엄과 가치를 가지며, 행복을 추구할 권리를 가진다. 국가는 개인이 가지는 불가침의 기본적 인권을 확인하고 이를 보장할 의무를 진다.\\n  제11조 ① 모든 국민은 법 앞에 평등하다. 누구든지 성별·종교 또는 사회적 신분에 의하여 정치적·경제적·사회적·문화적 생활의 모든 영역에 있어서 차별을 받지 아니한다.\\n②사회적 특수계급의 제도는 인정되지 아니하며, 어떠한 형태로도 이를 창설할 수 없다.\\n③훈장등의 영전은 이를 받은 자에게만 효력이 있고, 어떠한 특권도 이에 따르지 아니한다.\\n  제12조 ① 모든 국민은 신체의 자유를 가진다. 누구든지 법률에 의하지 아니하고는 체포·구속·압수·수색 또는 심문을 받지 아니하며, 법률과 적법한 절차에 의하지 아니하고는 처벌·보안처분 또는 강제노역을 받지 아니한다.\\n②모든 국민은 고문을 받지 아니하며, 형사상 자기에게 불리한 진술을 강요당하지 아니한다.\\n③체포·구속·압수 또는 수색을 할 때에는 적법한 절차에 따라 검사의 신청에 의하여 법관이 발부한 영장을 제시하여야 한다. 다만, 현행범인인 경우와 장기 3년 이상의 형에 해당하는 죄를 범하고 도피 또는 증거인멸의 염려가 있을 때에는 사후에 영장을 청구할 수 있다.\\n④누구든지 체포 또는 구속을 당한 때에는 즉시 변호인의 조력을 받을 권리를 가진다. 다만, 형사피고인이 스스로 변호인을 구할 수 없을 때에는 법률이 정하는 바에 의하여 국가가 변호인을 붙인다.\\n⑤누구든지 체포 또는 구속의 이유와 변호인의 조력을 받을 권리가 있음을 고지받지 아니하고는 체포 또는 구속을 당하지 아니한다. 체포 또는 구속을 당한 자의 가족등 법률이 정하는 자에게는 그 이유와 일시·장소가 지체없이 통지되어야 한다.\\n⑥누구든지 체포 또는 구속을 당한 때에는 적부의 심사를 법원에 청구할 권리를 가진다.\\n⑦피고인의 자백이 고문·폭행·협박·구속의 부당한 장기화 또는 기망 기타의 방법에 의하여 자의로 진술된 것이 아니라고 인정될 때 또는 정식재판에 있어서 피고인의 자백이 그에게 불리한 유일한 증거일 때에는 이를 유죄의 증거로 삼거나 이를 이유로 처벌할 수 없다.\\n  제13조 ① 모든 국민은 행위시의 법률에 의하여 범죄를 구성하지 아니하는 행위로 소추되지 아니하며, 동일한 범죄에 대하여 거듭 처벌받지 아니한다.\\n②모든 국민은 소급입법에 의하여 참정권의 제한을 받거나 재산권을 박탈당하지 아니한다.\\n③모든 국민은 자기의 행위가 아닌 친족의 행위로 인하여 불이익한 처우를 받지 아니한다.\\n  제14조 모든 국민은 거주·이전의 자유를 가진다.\\n  제15조 모든 국민은 직업선택의 자유를 가진다.\\n  제16조 모든 국민은 주거의 자유를 침해받지 아니한다. 주거에 대한 압수나 수색을 할 때에는 검사의 신청에 의하여 법관이 발부한 영장을 제시하여야 한다.\\n  제17조 모든 국민은 사생활의 비밀과 자유를 침해받지 아니한다.\\n  제18조 모든 국민은 통신의 비밀을 침해받지 아니한다.\\n  제19조 모든 국민은 양심의 자유를 가진다.\\n  제20조 ① 모든 국민은 종교의 자유를 가진다.\\n②국교는 인정되지 아니하며, 종교와 정치는 분리된다.\\n  제21조 ① 모든 국민은 언론·출판의 자유와 집회·결사의 자유를 가진다.\\n②언론·출판에 대한 허가나 검열과 집회·결사에 대한 허가는 인정되지 아니한다.\\n③통신·방송의 시설기준과 신문의 기능을 보장하기 위하여 필요한 사항은 법률로 정한다.\\n④언론·출판은 타인의 명예나 권리 또는 공중도덕이나 사회윤리를 침해하여서는 아니된다. 언론·출판이 타인의 명예나 권리를 침해한 때에는 피해자는 이에 대한 피해의 배상을 청구할 수 있다.\\n  제22조 ① 모든 국민은 학문과 예술의 자유를 가진다.\\n②저작자·발명가·과학기술자와 예술가의 권리는 법률로써 보호한다.\\n  제23조 ① 모든 국민의 재산권은 보장된다. 그 내용과 한계는 법률로 정한다.\\n②재산권의 행사는 공공복리에 적합하도록 하여야 한다.\\n③공공필요에 의한 재산권의 수용·사용 또는 제한 및 그에 대한 보상은 법률로써 하되, 정당한 보상을 지급하여야 한다.\\n  제24조 모든 국민은 법률이 정하는 바에 의하여 선거권을 가진다.\\n  제25조 모든 국민은 법률이 정하는 바에 의하여 공무담임권을 가진다.\\n  제26조 ① 모든 국민은 법률이 정하는 바에 의하여 국가기관에 문서로 청원할 권리를 가진다.\\n②국가는 청원에 대하여 심사할 의무를 진다.\\n  제27조 ① 모든 국민은 헌법과 법률이 정한 법관에 의하여 법률에 의한 재판을 받을 권리를 가진다.\\n②군인 또는 군무원이 아닌 국민은 대한민국의 영역안에서는 중대한 군사상 기밀·초병·초소·유독음식물공급·포로·군용물에 관한 죄중 법률이 정한 경우와 비상계엄이 선포된 경우를 제외하고는 군사법원의 재판을 받지 아니한다.\\n③모든 국민은 신속한 재판을 받을 권리를 가진다. 형사피고인은 상당한 이유가 없는 한 지체없이 공개재판을 받을 권리를 가진다.\\n④형사피고인은 유죄의 판결이 확정될 때까지는 무죄로 추정된다.\\n⑤형사피해자는 법률이 정하는 바에 의하여 당해 사건의 재판절차에서 진술할 수 있다.\\n  제28조 형사피의자 또는 형사피고인으로서 구금되었던 자가 법률이 정하는 불기소처분을 받거나 무죄판결을 받은 때에는 법률이 정하는 바에 의하여 국가에 정당한 보상을 청구할 수 있다.\\n  제29조 ① 공무원의 직무상 불법행위로 손해를 받은 국민은 법률이 정하는 바에 의하여 국가 또는 공공단체에 정당한 배상을 청구할 수 있다. 이 경우 공무원 자신의 책임은 면제되지 아니한다.\\n②군인·군무원·경찰공무원 기타 법률이 정하는 자가 전투·훈련등 직무집행과 관련하여 받은 손해에 대하여는 법률이 정하는 보상외에 국가 또는 공공단체에 공무원의 직무상 불법행위로 인한 배상은 청구할 수 없다.\\n  제30조 타인의 범죄행위로 인하여 생명·신체에 대한 피해를 받은 국민은 법률이 정하는 바에 의하여 국가로부터 구조를 받을 수 있다.\\n  제31조 ① 모든 국민은 능력에 따라 균등하게 교육을 받을 권리를 가진다.\\n②모든 국민은 그 보호하는 자녀에게 적어도 초등교육과 법률이 정하는 교육을 받게 할 의무를 진다.\\n③의무교육은 무상으로 한다.\\n④교육의 자주성·전문성·정치적 중립성 및 대학의 자율성은 법률이 정하는 바에 의하여 보장된다.\\n⑤국가는 평생교육을 진흥하여야 한다.\\n⑥학교교육 및 평생교육을 포함한 교육제도와 그 운영, 교육재정 및 교원의 지위에 관한 기본적인 사항은 법률로 정한다.\\n  제32조 ① 모든 국민은 근로의 권리를 가진다. 국가는 사회적·경제적 방법으로 근로자의 고용의 증진과 적정임금의 보장에 노력하여야 하며, 법률이 정하는 바에 의하여 최저임금제를 시행하여야 한다.\\n②모든 국민은 근로의 의무를 진다. 국가는 근로의 의무의 내용과 조건을 민주주의원칙에 따라 법률로 정한다.\\n③근로조건의 기준은 인간의 존엄성을 보장하도록 법률로 정한다.\\n④여자의 근로는 특별한 보호를 받으며, 고용·임금 및 근로조건에 있어서 부당한 차별을 받지 아니한다.\\n⑤연소자의 근로는 특별한 보호를 받는다.\\n⑥국가유공자·상이군경 및 전몰군경의 유가족은 법률이 정하는 바에 의하여 우선적으로 근로의 기회를 부여받는다.\\n  제33조 ① 근로자는 근로조건의 향상을 위하여 자주적인 단결권·단체교섭권 및 단체행동권을 가진다.\\n②공무원인 근로자는 법률이 정하는 자에 한하여 단결권·단체교섭권 및 단체행동권을 가진다.\\n③법률이 정하는 주요방위산업체에 종사하는 근로자의 단체행동권은 법률이 정하는 바에 의하여 이를 제한하거나 인정하지 아니할 수 있다.\\n  제34조 ① 모든 국민은 인간다운 생활을 할 권리를 가진다.\\n②국가는 사회보장·사회복지의 증진에 노력할 의무를 진다.\\n③국가는 여자의 복지와 권익의 향상을 위하여 노력하여야 한다.\\n④국가는 노인과 청소년의 복지향상을 위한 정책을 실시할 의무를 진다.\\n⑤신체장애자 및 질병·노령 기타의 사유로 생활능력이 없는 국민은 법률이 정하는 바에 의하여 국가의 보호를 받는다.\\n⑥국가는 재해를 예방하고 그 위험으로부터 국민을 보호하기 위하여 노력하여야 한다.\\n  제35조 ① 모든 국민은 건강하고 쾌적한 환경에서 생활할 권리를 가지며, 국가와 국민은 환경보전을 위하여 노력하여야 한다.\\n②환경권의 내용과 행사에 관하여는 법률로 정한다.\\n③국가는 주택개발정책등을 통하여 모든 국민이 쾌적한 주거생활을 할 수 있도록 노력하여야 한다.\\n  제36조 ① 혼인과 가족생활은 개인의 존엄과 양성의 평등을 기초로 성립되고 유지되어야 하며, 국가는 이를 보장한다.\\n②국가는 모성의 보호를 위하여 노력하여야 한다.\\n③모든 국민은 보건에 관하여 국가의 보호를 받는다.\\n  제37조 ① 국민의 자유와 권리는 헌법에 열거되지 아니한 이유로 경시되지 아니한다.\\n②국민의 모든 자유와 권리는 국가안전보장·질서유지 또는 공공복리를 위하여 필요한 경우에 한하여 법률로써 제한할 수 있으며, 제한하는 경우에도 자유와 권리의 본질적인 내용을 침해할 수 없다.\\n  제38조 모든 국민은 법률이 정하는 바에 의하여 납세의 의무를 진다.\\n  제39조 ① 모든 국민은 법률이 정하는 바에 의하여 국방의 의무를 진다.\\n②누구든지 병역의무의 이행으로 인하여 불이익한 처우를 받지 아니한다.\\n\\n       제3장 국회\\n  제40조 입법권은 국회에 속한다.\\n  제41조 ① 국회는 국민의 보통·평등·직접·비밀선거에 의하여 선출된 국회의원으로 구성한다.\\n②국회의원의 수는 법률로 정하되, 200인 이상으로 한다.\\n③국회의원의 선거구와 비례대표제 기타 선거에 관한 사항은 법률로 정한다.\\n  제42조 국회의원의 임기는 4년으로 한다.\\n  제43조 국회의원은 법률이 정하는 직을 겸할 수 없다.\\n  제44조 ① 국회의원은 현행범인인 경우를 제외하고는 회기중 국회의 동의없이 체포 또는 구금되지 아니한다.\\n②국회의원이 회기전에 체포 또는 구금된 때에는 현행범인이 아닌 한 국회의 요구가 있으면 회기중 석방된다.\\n  제45조 국회의원은 국회에서 직무상 행한 발언과 표결에 관하여 국회외에서 책임을 지지 아니한다.\\n  제46조 ① 국회의원은 청렴의 의무가 있다.\\n②국회의원은 국가이익을 우선하여 양심에 따라 직무를 행한다.\\n③국회의원은 그 지위를 남용하여 국가·공공단체 또는 기업체와의 계약이나 그 처분에 의하여 재산상의 권리·이익 또는 직위를 취득하거나 타인을 위하여 그 취득을 알선할 수 없다.\\n  제47조 ① 국회의 정기회는 법률이 정하는 바에 의하여 매년 1회 집회되며, 국회의 임시회는 대통령 또는 국회재적의원 4분의 1 이상의 요구에 의하여 집회된다.\\n②정기회의 회기는 100일을, 임시회의 회기는 30일을 초과할 수 없다.\\n③대통령이 임시회의 집회를 요구할 때에는 기간과 집회요구의 이유를 명시하여야 한다.\\n  제48조 국회는 의장 1인과 부의장 2인을 선출한다.\\n  제49조 국회는 헌법 또는 법률에 특별한 규정이 없는 한 재적의원 과반수의 출석과 출석의원 과반수의 찬성으로 의결한다. 가부동수인 때에는 부결된 것으로 본다.\\n  제50조 ① 국회의 회의는 공개한다. 다만, 출석의원 과반수의 찬성이 있거나 의장이 국가의 안전보장을 위하여 필요하다고 인정할 때에는 공개하지 아니할 수 있다.\\n②공개하지 아니한 회의내용의 공표에 관하여는 법률이 정하는 바에 의한다.\\n  제51조 국회에 제출된 법률안 기타의 의안은 회기중에 의결되지 못한 이유로 폐기되지 아니한다. 다만, 국회의원의 임기가 만료된 때에는 그러하지 아니하다.\\n  제52조 국회의원과 정부는 법률안을 제출할 수 있다.\\n  제53조 ① 국회에서 의결된 법률안은 정부에 이송되어 15일 이내에 대통령이 공포한다.\\n②법률안에 이의가 있을 때에는 대통령은 제1항의 기간내에 이의서를 붙여 국회로 환부하고, 그 재의를 요구할 수 있다. 국회의 폐회중에도 또한 같다.\\n③대통령은 법률안의 일부에 대하여 또는 법률안을 수정하여 재의를 요구할 수 없다.\\n④재의의 요구가 있을 때에는 국회는 재의에 붙이고, 재적의원과반수의 출석과 출석의원 3분의 2 이상의 찬성으로 전과 같은 의결을 하면 그 법률안은 법률로서 확정된다.\\n⑤대통령이 제1항의 기간내에 공포나 재의의 요구를 하지 아니한 때에도 그 법률안은 법률로서 확정된다.\\n⑥대통령은 제4항과 제5항의 규정에 의하여 확정된 법률을 지체없이 공포하여야 한다. 제5항에 의하여 법률이 확정된 후 또는 제4항에 의한 확정법률이 정부에 이송된 후 5일 이내에 대통령이 공포하지 아니할 때에는 국회의장이 이를 공포한다.\\n⑦법률은 특별한 규정이 없는 한 공포한 날로부터 20일을 경과함으로써 효력을 발생한다.\\n  제54조 ① 국회는 국가의 예산안을 심의·확정한다.\\n②정부는 회계연도마다 예산안을 편성하여 회계연도 개시 90일전까지 국회에 제출하고, 국회는 회계연도 개시 30일전까지 이를 의결하여야 한다.\\n③새로운 회계연도가 개시될 때까지 예산안이 의결되지 못한 때에는 정부는 국회에서 예산안이 의결될 때까지 다음의 목적을 위한 경비는 전년도 예산에 준하여 집행할 수 있다.\\n1. 헌법이나 법률에 의하여 설치된 기관 또는 시설의 유지·운영\\n2. 법률상 지출의무의 이행\\n3. 이미 예산으로 승인된 사업의 계속\\n  제55조 ① 한 회계연도를 넘어 계속하여 지출할 필요가 있을 때에는 정부는 연한을 정하여 계속비로서 국회의 의결을 얻어야 한다.\\n②예비비는 총액으로 국회의 의결을 얻어야 한다. 예비비의 지출은 차기국회의 승인을 얻어야 한다.\\n  제56조 정부는 예산에 변경을 가할 필요가 있을 때에는 추가경정예산안을 편성하여 국회에 제출할 수 있다.\\n  제57조 국회는 정부의 동의없이 정부가 제출한 지출예산 각항의 금액을 증가하거나 새 비목을 설치할 수 없다.\\n  제58조 국채를 모집하거나 예산외에 국가의 부담이 될 계약을 체결하려 할 때에는 정부는 미리 국회의 의결을 얻어야 한다.\\n  제59조 조세의 종목과 세율은 법률로 정한다.\\n  제60조 ① 국회는 상호원조 또는 안전보장에 관한 조약, 중요한 국제조직에 관한 조약, 우호통상항해조약, 주권의 제약에 관한 조약, 강화조약, 국가나 국민에게 중대한 재정적 부담을 지우는 조약 또는 입법사항에 관한 조약의 체결·비준에 대한 동의권을 가진다.\\n②국회는 선전포고, 국군의 외국에의 파견 또는 외국군대의 대한민국 영역안에서의 주류에 대한 동의권을 가진다.\\n  제61조 ① 국회는 국정을 감사하거나 특정한 국정사안에 대하여 조사할 수 있으며, 이에 필요한 서류의 제출 또는 증인의 출석과 증언이나 의견의 진술을 요구할 수 있다.\\n②국정감사 및 조사에 관한 절차 기타 필요한 사항은 법률로 정한다.\\n  제62조 ① 국무총리·국무위원 또는 정부위원은 국회나 그 위원회에 출석하여 국정처리상황을 보고하거나 의견을 진술하고 질문에 응답할 수 있다.\\n②국회나 그 위원회의 요구가 있을 때에는 국무총리·국무위원 또는 정부위원은 출석·답변하여야 하며, 국무총리 또는 국무위원이 출석요구를 받은 때에는 국무위원 또는 정부위원으로 하여금 출석·답변하게 할 수 있다.\\n  제63조 ① 국회는 국무총리 또는 국무위원의 해임을 대통령에게 건의할 수 있다.\\n②제1항의 해임건의는 국회재적의원 3분의 1 이상의 발의에 의하여 국회재적의원 과반수의 찬성이 있어야 한다.\\n  제64조 ① 국회는 법률에 저촉되지 아니하는 범위안에서 의사와 내부규율에 관한 규칙을 제정할 수 있다.\\n②국회는 의원의 자격을 심사하며, 의원을 징계할 수 있다.\\n③의원을 제명하려면 국회재적의원 3분의 2 이상의 찬성이 있어야 한다.\\n④제2항과 제3항의 처분에 대하여는 법원에 제소할 수 없다.\\n  제65조 ① 대통령·국무총리·국무위원·행정각부의 장·헌법재판소 재판관·법관·중앙선거관리위원회 위원·감사원장·감사위원 기타 법률이 정한 공무원이 그 직무집행에 있어서 헌법이나 법률을 위배한 때에는 국회는 탄핵의 소추를 의결할 수 있다.\\n②제1항의 탄핵소추는 국회재적의원 3분의 1 이상의 발의가 있어야 하며, 그 의결은 국회재적의원 과반수의 찬성이 있어야 한다. 다만, 대통령에 대한 탄핵소추는 국회재적의원 과반수의 발의와 국회재적의원 3분의 2 이상의 찬성이 있어야 한다.\\n③탄핵소추의 의결을 받은 자는 탄핵심판이 있을 때까지 그 권한행사가 정지된다.\\n④탄핵결정은 공직으로부터 파면함에 그친다. 그러나, 이에 의하여 민사상이나 형사상의 책임이 면제되지는 아니한다.\\n\\n       제4장 정부\\n       제1절 대통령\\n  제66조 ① 대통령은 국가의 원수이며, 외국에 대하여 국가를 대표한다.\\n②대통령은 국가의 독립·영토의 보전·국가의 계속성과 헌법을 수호할 책무를 진다.\\n③대통령은 조국의 평화적 통일을 위한 성실한 의무를 진다.\\n④행정권은 대통령을 수반으로 하는 정부에 속한다.\\n  제67조 ① 대통령은 국민의 보통·평등·직접·비밀선거에 의하여 선출한다.\\n②제1항의 선거에 있어서 최고득표자가 2인 이상인 때에는 국회의 재적의원 과반수가 출석한 공개회의에서 다수표를 얻은 자를 당선자로 한다.\\n③대통령후보자가 1인일 때에는 그 득표수가 선거권자 총수의 3분의 1 이상이 아니면 대통령으로 당선될 수 없다.\\n④대통령으로 선거될 수 있는 자는 국회의원의 피선거권이 있고 선거일 현재 40세에 달하여야 한다.\\n⑤대통령의 선거에 관한 사항은 법률로 정한다.\\n  제68조 ① 대통령의 임기가 만료되는 때에는 임기만료 70일 내지 40일전에 후임자를 선거한다.\\n②대통령이 궐위된 때 또는 대통령 당선자가 사망하거나 판결 기타의 사유로 그 자격을 상실한 때에는 60일 이내에 후임자를 선거한다.\\n  제69조 대통령은 취임에 즈음하여 다음의 선서를 한다.\\n\"나는 헌법을 준수하고 국가를 보위하며 조국의 평화적 통일과 국민의 자유와 복리의 증진 및 민족문화의 창달에 노력하여 대통령으로서의 직책을 성실히 수행할 것을 국민 앞에 엄숙히 선서합니다.\"\\n  제70조 대통령의 임기는 5년으로 하며, 중임할 수 없다.\\n  제71조 대통령이 궐위되거나 사고로 인하여 직무를 수행할 수 없을 때에는 국무총리, 법률이 정한 국무위원의 순서로 그 권한을 대행한다.\\n  제72조 대통령은 필요하다고 인정할 때에는 외교·국방·통일 기타 국가안위에 관한 중요정책을 국민투표에 붙일 수 있다.\\n  제73조 대통령은 조약을 체결·비준하고, 외교사절을 신임·접수 또는 파견하며, 선전포고와 강화를 한다.\\n  제74조 ① 대통령은 헌법과 법률이 정하는 바에 의하여 국군을 통수한다.\\n②국군의 조직과 편성은 법률로 정한다.\\n  제75조 대통령은 법률에서 구체적으로 범위를 정하여 위임받은 사항과 법률을 집행하기 위하여 필요한 사항에 관하여 대통령령을 발할 수 있다.\\n  제76조 ① 대통령은 내우·외환·천재·지변 또는 중대한 재정·경제상의 위기에 있어서 국가의 안전보장 또는 공공의 안녕질서를 유지하기 위하여 긴급한 조치가 필요하고 국회의 집회를 기다릴 여유가 없을 때에 한하여 최소한으로 필요한 재정·경제상의 처분을 하거나 이에 관하여 법률의 효력을 가지는 명령을 발할 수 있다.\\n②대통령은 국가의 안위에 관계되는 중대한 교전상태에 있어서 국가를 보위하기 위하여 긴급한 조치가 필요하고 국회의 집회가 불가능한 때에 한하여 법률의 효력을 가지는 명령을 발할 수 있다.\\n③대통령은 제1항과 제2항의 처분 또는 명령을 한 때에는 지체없이 국회에 보고하여 그 승인을 얻어야 한다.\\n④제3항의 승인을 얻지 못한 때에는 그 처분 또는 명령은 그때부터 효력을 상실한다. 이 경우 그 명령에 의하여 개정 또는 폐지되었던 법률은 그 명령이 승인을 얻지 못한 때부터 당연히 효력을 회복한다.\\n⑤대통령은 제3항과 제4항의 사유를 지체없이 공포하여야 한다.\\n  제77조 ① 대통령은 전시·사변 또는 이에 준하는 국가비상사태에 있어서 병력으로써 군사상의 필요에 응하거나 공공의 안녕질서를 유지할 필요가 있을 때에는 법률이 정하는 바에 의하여 계엄을 선포할 수 있다.\\n②계엄은 비상계엄과 경비계엄으로 한다.\\n③비상계엄이 선포된 때에는 법률이 정하는 바에 의하여 영장제도, 언론·출판·집회·결사의 자유, 정부나 법원의 권한에 관하여 특별한 조치를 할 수 있다.\\n④계엄을 선포한 때에는 대통령은 지체없이 국회에 통고하여야 한다.\\n⑤국회가 재적의원 과반수의 찬성으로 계엄의 해제를 요구한 때에는 대통령은 이를 해제하여야 한다.\\n  제78조 대통령은 헌법과 법률이 정하는 바에 의하여 공무원을 임면한다.\\n  제79조 ① 대통령은 법률이 정하는 바에 의하여 사면·감형 또는 복권을 명할 수 있다.\\n②일반사면을 명하려면 국회의 동의를 얻어야 한다.\\n③사면·감형 및 복권에 관한 사항은 법률로 정한다.\\n  제80조 대통령은 법률이 정하는 바에 의하여 훈장 기타의 영전을 수여한다.\\n  제81조 대통령은 국회에 출석하여 발언하거나 서한으로 의견을 표시할 수 있다.\\n  제82조 대통령의 국법상 행위는 문서로써 하며, 이 문서에는 국무총리와 관계 국무위원이 부서한다. 군사에 관한 것도 또한 같다.\\n  제83조 대통령은 국무총리·국무위원·행정각부의 장 기타 법률이 정하는 공사의 직을 겸할 수 없다.\\n  제84조 대통령은 내란 또는 외환의 죄를 범한 경우를 제외하고는 재직중 형사상의 소추를 받지 아니한다.\\n  제85조 전직대통령의 신분과 예우에 관하여는 법률로 정한다.\\n       제2절 행정부\\n       제1관 국무총리와 국무위원\\n  제86조 ① 국무총리는 국회의 동의를 얻어 대통령이 임명한다.\\n②국무총리는 대통령을 보좌하며, 행정에 관하여 대통령의 명을 받아 행정각부를 통할한다.\\n③군인은 현역을 면한 후가 아니면 국무총리로 임명될 수 없다.\\n  제87조 ① 국무위원은 국무총리의 제청으로 대통령이 임명한다.\\n②국무위원은 국정에 관하여 대통령을 보좌하며, 국무회의의 구성원으로서 국정을 심의한다.\\n③국무총리는 국무위원의 해임을 대통령에게 건의할 수 있다.\\n④군인은 현역을 면한 후가 아니면 국무위원으로 임명될 수 없다.\\n       제2관 국무회의\\n  제88조 ① 국무회의는 정부의 권한에 속하는 중요한 정책을 심의한다.\\n②국무회의는 대통령·국무총리와 15인 이상 30인 이하의 국무위원으로 구성한다.\\n③대통령은 국무회의의 의장이 되고, 국무총리는 부의장이 된다.\\n  제89조 다음 사항은 국무회의의 심의를 거쳐야 한다.\\n1. 국정의 기본계획과 정부의 일반정책\\n2. 선전·강화 기타 중요한 대외정책\\n3. 헌법개정안·국민투표안·조약안·법률안 및 대통령령안\\n4. 예산안·결산·국유재산처분의 기본계획·국가의 부담이 될 계약 기타 재정에 관한 중요사항\\n5. 대통령의 긴급명령·긴급재정경제처분 및 명령 또는 계엄과 그 해제\\n6. 군사에 관한 중요사항\\n7. 국회의 임시회 집회의 요구\\n8. 영전수여\\n9. 사면·감형과 복권\\n10. 행정각부간의 권한의 획정\\n11. 정부안의 권한의 위임 또는 배정에 관한 기본계획\\n12. 국정처리상황의 평가·분석\\n13. 행정각부의 중요한 정책의 수립과 조정\\n14. 정당해산의 제소\\n15. 정부에 제출 또는 회부된 정부의 정책에 관계되는 청원의 심사\\n16. 검찰총장·합동참모의장·각군참모총장·국립대학교총장·대사 기타 법률이 정한 공무원과 국영기업체관리자의 임명\\n17. 기타 대통령·국무총리 또는 국무위원이 제출한 사항\\n  제90조 ① 국정의 중요한 사항에 관한 대통령의 자문에 응하기 위하여 국가원로로 구성되는 국가원로자문회의를 둘 수 있다.\\n②국가원로자문회의의 의장은 직전대통령이 된다. 다만, 직전대통령이 없을 때에는 대통령이 지명한다.\\n③국가원로자문회의의 조직·직무범위 기타 필요한 사항은 법률로 정한다.\\n  제91조 ① 국가안전보장에 관련되는 대외정책·군사정책과 국내정책의 수립에 관하여 국무회의의 심의에 앞서 대통령의 자문에 응하기 위하여 국가안전보장회의를 둔다.\\n②국가안전보장회의는 대통령이 주재한다.\\n③국가안전보장회의의 조직·직무범위 기타 필요한 사항은 법률로 정한다.\\n  제92조 ① 평화통일정책의 수립에 관한 대통령의 자문에 응하기 위하여 민주평화통일자문회의를 둘 수 있다.\\n②민주평화통일자문회의의 조직·직무범위 기타 필요한 사항은 법률로 정한다.\\n  제93조 ① 국민경제의 발전을 위한 중요정책의 수립에 관하여 대통령의 자문에 응하기 위하여 국민경제자문회의를 둘 수 있다.\\n②국민경제자문회의의 조직·직무범위 기타 필요한 사항은 법률로 정한다.\\n       제3관 행정각부\\n  제94조 행정각부의 장은 국무위원 중에서 국무총리의 제청으로 대통령이 임명한다.\\n  제95조 국무총리 또는 행정각부의 장은 소관사무에 관하여 법률이나 대통령령의 위임 또는 직권으로 총리령 또는 부령을 발할 수 있다.\\n  제96조 행정각부의 설치·조직과 직무범위는 법률로 정한다.\\n       제4관 감사원\\n  제97조 국가의 세입·세출의 결산, 국가 및 법률이 정한 단체의 회계검사와 행정기관 및 공무원의 직무에 관한 감찰을 하기 위하여 대통령 소속하에 감사원을 둔다.\\n  제98조 ① 감사원은 원장을 포함한 5인 이상 11인 이하의 감사위원으로 구성한다.\\n②원장은 국회의 동의를 얻어 대통령이 임명하고, 그 임기는 4년으로 하며, 1차에 한하여 중임할 수 있다.\\n③감사위원은 원장의 제청으로 대통령이 임명하고, 그 임기는 4년으로 하며, 1차에 한하여 중임할 수 있다.\\n  제99조 감사원은 세입·세출의 결산을 매년 검사하여 대통령과 차년도국회에 그 결과를 보고하여야 한다.\\n  제100조 감사원의 조직·직무범위·감사위원의 자격·감사대상공무원의 범위 기타 필요한 사항은 법률로 정한다.\\n\\n       제5장 법원\\n  제101조 ① 사법권은 법관으로 구성된 법원에 속한다.\\n②법원은 최고법원인 대법원과 각급법원으로 조직된다.\\n③법관의 자격은 법률로 정한다.\\n  제102조 ① 대법원에 부를 둘 수 있다.\\n②대법원에 대법관을 둔다. 다만, 법률이 정하는 바에 의하여 대법관이 아닌 법관을 둘 수 있다.\\n③대법원과 각급법원의 조직은 법률로 정한다.\\n  제103조 법관은 헌법과 법률에 의하여 그 양심에 따라 독립하여 심판한다.\\n  제104조 ① 대법원장은 국회의 동의를 얻어 대통령이 임명한다.\\n②대법관은 대법원장의 제청으로 국회의 동의를 얻어 대통령이 임명한다.\\n③대법원장과 대법관이 아닌 법관은 대법관회의의 동의를 얻어 대법원장이 임명한다.\\n  제105조 ① 대법원장의 임기는 6년으로 하며, 중임할 수 없다.\\n②대법관의 임기는 6년으로 하며, 법률이 정하는 바에 의하여 연임할 수 있다.\\n③대법원장과 대법관이 아닌 법관의 임기는 10년으로 하며, 법률이 정하는 바에 의하여 연임할 수 있다.\\n④법관의 정년은 법률로 정한다.\\n  제106조 ① 법관은 탄핵 또는 금고 이상의 형의 선고에 의하지 아니하고는 파면되지 아니하며, 징계처분에 의하지 아니하고는 정직·감봉 기타 불리한 처분을 받지 아니한다.\\n②법관이 중대한 심신상의 장해로 직무를 수행할 수 없을 때에는 법률이 정하는 바에 의하여 퇴직하게 할 수 있다.\\n  제107조 ① 법률이 헌법에 위반되는 여부가 재판의 전제가 된 경우에는 법원은 헌법재판소에 제청하여 그 심판에 의하여 재판한다.\\n②명령·규칙 또는 처분이 헌법이나 법률에 위반되는 여부가 재판의 전제가 된 경우에는 대법원은 이를 최종적으로 심사할 권한을 가진다.\\n③재판의 전심절차로서 행정심판을 할 수 있다. 행정심판의 절차는 법률로 정하되, 사법절차가 준용되어야 한다.\\n  제108조 대법원은 법률에 저촉되지 아니하는 범위안에서 소송에 관한 절차, 법원의 내부규율과 사무처리에 관한 규칙을 제정할 수 있다.\\n  제109조 재판의 심리와 판결은 공개한다. 다만, 심리는 국가의 안전보장 또는 안녕질서를 방해하거나 선량한 풍속을 해할 염려가 있을 때에는 법원의 결정으로 공개하지 아니할 수 있다.\\n  제110조 ① 군사재판을 관할하기 위하여 특별법원으로서 군사법원을 둘 수 있다.\\n②군사법원의 상고심은 대법원에서 관할한다.\\n③군사법원의 조직·권한 및 재판관의 자격은 법률로 정한다.\\n④비상계엄하의 군사재판은 군인·군무원의 범죄나 군사에 관한 간첩죄의 경우와 초병·초소·유독음식물공급·포로에 관한 죄중 법률이 정한 경우에 한하여 단심으로 할 수 있다. 다만, 사형을 선고한 경우에는 그러하지 아니하다.\\n\\n       제6장 헌법재판소\\n  제111조 ① 헌법재판소는 다음 사항을 관장한다.\\n1. 법원의 제청에 의한 법률의 위헌여부 심판\\n2. 탄핵의 심판\\n3. 정당의 해산 심판\\n4. 국가기관 상호간, 국가기관과 지방자치단체간 및 지방자치단체 상호간의 권한쟁의에 관한 심판\\n5. 법률이 정하는 헌법소원에 관한 심판\\n②헌법재판소는 법관의 자격을 가진 9인의 재판관으로 구성하며, 재판관은 대통령이 임명한다.\\n③제2항의 재판관중 3인은 국회에서 선출하는 자를, 3인은 대법원장이 지명하는 자를 임명한다.\\n④헌법재판소의 장은 국회의 동의를 얻어 재판관중에서 대통령이 임명한다.\\n  제112조 ① 헌법재판소 재판관의 임기는 6년으로 하며, 법률이 정하는 바에 의하여 연임할 수 있다.\\n②헌법재판소 재판관은 정당에 가입하거나 정치에 관여할 수 없다.\\n③헌법재판소 재판관은 탄핵 또는 금고 이상의 형의 선고에 의하지 아니하고는 파면되지 아니한다.\\n  제113조 ① 헌법재판소에서 법률의 위헌결정, 탄핵의 결정, 정당해산의 결정 또는 헌법소원에 관한 인용결정을 할 때에는 재판관 6인 이상의 찬성이 있어야 한다.\\n②헌법재판소는 법률에 저촉되지 아니하는 범위안에서 심판에 관한 절차, 내부규율과 사무처리에 관한 규칙을 제정할 수 있다.\\n③헌법재판소의 조직과 운영 기타 필요한 사항은 법률로 정한다.\\n\\n       제7장 선거관리\\n  제114조 ① 선거와 국민투표의 공정한 관리 및 정당에 관한 사무를 처리하기 위하여 선거관리위원회를 둔다.\\n②중앙선거관리위원회는 대통령이 임명하는 3인, 국회에서 선출하는 3인과 대법원장이 지명하는 3인의 위원으로 구성한다. 위원장은 위원중에서 호선한다.\\n③위원의 임기는 6년으로 한다.\\n④위원은 정당에 가입하거나 정치에 관여할 수 없다.\\n⑤위원은 탄핵 또는 금고 이상의 형의 선고에 의하지 아니하고는 파면되지 아니한다.\\n⑥중앙선거관리위원회는 법령의 범위안에서 선거관리·국민투표관리 또는 정당사무에 관한 규칙을 제정할 수 있으며, 법률에 저촉되지 아니하는 범위안에서 내부규율에 관한 규칙을 제정할 수 있다.\\n⑦각급 선거관리위원회의 조직·직무범위 기타 필요한 사항은 법률로 정한다.\\n  제115조 ① 각급 선거관리위원회는 선거인명부의 작성등 선거사무와 국민투표사무에 관하여 관계 행정기관에 필요한 지시를 할 수 있다.\\n②제1항의 지시를 받은 당해 행정기관은 이에 응하여야 한다.\\n  제116조 ① 선거운동은 각급 선거관리위원회의 관리하에 법률이 정하는 범위안에서 하되, 균등한 기회가 보장되어야 한다.\\n②선거에 관한 경비는 법률이 정하는 경우를 제외하고는 정당 또는 후보자에게 부담시킬 수 없다.\\n\\n       제8장 지방자치\\n  제117조 ① 지방자치단체는 주민의 복리에 관한 사무를 처리하고 재산을 관리하며, 법령의 범위안에서 자치에 관한 규정을 제정할 수 있다.\\n②지방자치단체의 종류는 법률로 정한다.\\n  제118조 ① 지방자치단체에 의회를 둔다.\\n②지방의회의 조직·권한·의원선거와 지방자치단체의 장의 선임방법 기타 지방자치단체의 조직과 운영에 관한 사항은 법률로 정한다.\\n\\n       제9장 경제\\n  제119조 ① 대한민국의 경제질서는 개인과 기업의 경제상의 자유와 창의를 존중함을 기본으로 한다.\\n②국가는 균형있는 국민경제의 성장 및 안정과 적정한 소득의 분배를 유지하고, 시장의 지배와 경제력의 남용을 방지하며, 경제주체간의 조화를 통한 경제의 민주화를 위하여 경제에 관한 규제와 조정을 할 수 있다.\\n  제120조 ① 광물 기타 중요한 지하자원·수산자원·수력과 경제상 이용할 수 있는 자연력은 법률이 정하는 바에 의하여 일정한 기간 그 채취·개발 또는 이용을 특허할 수 있다.\\n②국토와 자원은 국가의 보호를 받으며, 국가는 그 균형있는 개발과 이용을 위하여 필요한 계획을 수립한다.\\n  제121조 ① 국가는 농지에 관하여 경자유전의 원칙이 달성될 수 있도록 노력하여야 하며, 농지의 소작제도는 금지된다.\\n②농업생산성의 제고와 농지의 합리적인 이용을 위하거나 불가피한 사정으로 발생하는 농지의 임대차와 위탁경영은 법률이 정하는 바에 의하여 인정된다.\\n  제122조 국가는 국민 모두의 생산 및 생활의 기반이 되는 국토의 효율적이고 균형있는 이용·개발과 보전을 위하여 법률이 정하는 바에 의하여 그에 관한 필요한 제한과 의무를 과할 수 있다.\\n  제123조 ① 국가는 농업 및 어업을 보호·육성하기 위하여 농·어촌종합개발과 그 지원등 필요한 계획을 수립·시행하여야 한다.\\n②국가는 지역간의 균형있는 발전을 위하여 지역경제를 육성할 의무를 진다.\\n③국가는 중소기업을 보호·육성하여야 한다.\\n④국가는 농수산물의 수급균형과 유통구조의 개선에 노력하여 가격안정을 도모함으로써 농·어민의 이익을 보호한다.\\n⑤국가는 농·어민과 중소기업의 자조조직을 육성하여야 하며, 그 자율적 활동과 발전을 보장한다.\\n  제124조 국가는 건전한 소비행위를 계도하고 생산품의 품질향상을 촉구하기 위한 소비자보호운동을 법률이 정하는 바에 의하여 보장한다.\\n  제125조 국가는 대외무역을 육성하며, 이를 규제·조정할 수 있다.\\n  제126조 국방상 또는 국민경제상 긴절한 필요로 인하여 법률이 정하는 경우를 제외하고는, 사영기업을 국유 또는 공유로 이전하거나 그 경영을 통제 또는 관리할 수 없다.\\n  제127조 ① 국가는 과학기술의 혁신과 정보 및 인력의 개발을 통하여 국민경제의 발전에 노력하여야 한다.\\n②국가는 국가표준제도를 확립한다.\\n③대통령은 제1항의 목적을 달성하기 위하여 필요한 자문기구를 둘 수 있다.\\n       제10장 헌법개정\\n  제128조 ① 헌법개정은 국회재적의원 과반수 또는 대통령의 발의로 제안된다.\\n②대통령의 임기연장 또는 중임변경을 위한 헌법개정은 그 헌법개정 제안 당시의 대통령에 대하여는 효력이 없다.\\n  제129조 제안된 헌법개정안은 대통령이 20일 이상의 기간 이를 공고하여야 한다.\\n  제130조 ① 국회는 헌법개정안이 공고된 날로부터 60일 이내에 의결하여야 하며, 국회의 의결은 재적의원 3분의 2 이상의 찬성을 얻어야 한다.\\n②헌법개정안은 국회가 의결한 후 30일 이내에 국민투표에 붙여 국회의원선거권자 과반수의 투표와 투표자 과반수의 찬성을 얻어야 한다.\\n③헌법개정안이 제2항의 찬성을 얻은 때에는 헌법개정은 확정되며, 대통령은 즉시 이를 공포하여야 한다.\\n\\n 펼침  부칙 <헌법 제10호, 1987.10.29.>  부칙보기\\n\\n제1조 이 헌법은 1988년 2월 25일부터 시행한다. 다만, 이 헌법을 시행하기 위하여 필요한 법률의 제정·개정과 이 헌법에 의한 대통령 및 국회의원의 선거 기타 이 헌법시행에 관한 준비는 이 헌법시행 전에 할 수 있다.\\n제2조 ①이 헌법에 의한 최초의 대통령선거는 이 헌법시행일 40일 전까지 실시한다.\\n②이 헌법에 의한 최초의 대통령의 임기는 이 헌법시행일로부터 개시한다.\\n제3조 ①이 헌법에 의한 최초의 국회의원선거는 이 헌법공포일로부터 6월 이내에 실시하며, 이 헌법에 의하여 선출된 최초의 국회의원의 임기는 국회의원선거후 이 헌법에 의한 국회의 최초의 집회일로부터 개시한다.\\n②이 헌법공포 당시의 국회의원의 임기는 제1항에 의한 국회의 최초의 집회일 전일까지로 한다.\\n제4조 ①이 헌법시행 당시의 공무원과 정부가 임명한 기업체의 임원은 이 헌법에 의하여 임명된 것으로 본다. 다만, 이 헌법에 의하여 선임방법이나 임명권자가 변경된 공무원과 대법원장 및 감사원장은 이 헌법에 의하여 후임자가 선임될 때까지 그 직무를 행하며, 이 경우 전임자인 공무원의 임기는 후임자가 선임되는 전일까지로 한다.\\n②이 헌법시행 당시의 대법원장과 대법원판사가 아닌 법관은 제1항 단서의 규정에 불구하고 이 헌법에 의하여 임명된 것으로 본다.\\n③이 헌법중 공무원의 임기 또는 중임제한에 관한 규정은 이 헌법에 의하여 그 공무원이 최초로 선출 또는 임명된 때로부터 적용한다.\\n제5조 이 헌법시행 당시의 법령과 조약은 이 헌법에 위배되지 아니하는 한 그 효력을 지속한다.\\n제6조 이 헌법시행 당시에 이 헌법에 의하여 새로 설치될 기관의 권한에 속하는 직무를 행하고 있는 기관은 이 헌법에 의하여 새로운 기관이 설치될 때까지 존속하며 그 직무를 행한다.\\n'"
      ]
     },
     "execution_count": 14,
     "metadata": {},
     "output_type": "execute_result"
    }
   ],
   "source": [
    "kolaw.open('constitution.txt').read()"
   ]
  },
  {
   "cell_type": "code",
   "execution_count": 15,
   "id": "19d9da61",
   "metadata": {},
   "outputs": [
    {
     "data": {
      "text/plain": [
       "'지방공무원법 일부개정법률안\\n\\n(정의화의원 대표발의 )\\n\\n 의 안\\n 번 호\\n\\n9890\\n\\n발의연월일 : 2010.  11.  12.  \\n\\n발  의  자 : 정의화․이명수․김을동 \\n\\n이사철․여상규․안규백\\n\\n황영철․박영아․김정훈\\n\\n김학송 의원(10인)\\n\\n제안이유 및 주요내용\\n\\n  초등학교 저학년의 경우에도 부모의 따뜻한 사랑과 보살핌이 필요\\n\\n한 나이이나, 현재 공무원이 자녀를 양육하기 위하여 육아휴직을 할 \\n\\n수 있는 자녀의 나이는 만 6세 이하로 되어 있어 초등학교 저학년인 \\n\\n자녀를 돌보기 위해서는 해당 부모님은 일자리를 그만 두어야 하고 \\n\\n이는 곧 출산의욕을 저하시키는 문제로 이어질 수 있을 것임.\\n\\n  따라서 육아휴직이 가능한 자녀의 연령을 만 8세 이하로 개정하려\\n\\n는 것임(안 제63조제2항제4호).\\n\\n- 1 -\\n\\n\\x0c법률  제        호\\n\\n지방공무원법 일부개정법률안\\n\\n지방공무원법 일부를 다음과 같이 개정한다.\\n\\n제63조제2항제4호 중 “만 6세 이하의 초등학교 취학 전 자녀를”을 “만 \\n\\n8세 이하(취학 중인 경우에는 초등학교 2학년 이하를 말한다)의 자녀를”\\n\\n로 한다.\\n\\n부      칙\\n\\n이 법은 공포한 날부터 시행한다.\\n\\n- 3 -\\n\\n\\x0c신 ·구조문대비표\\n\\n현      행\\n\\n개   정   안\\n\\n제63조(휴직) ① (생  략)\\n\\n제63조(휴직) ① (현행과 같음)\\n\\n  ② 공무원이 다음 각 호의 어\\n\\n  ② -------------------------\\n\\n느 하나에 해당하는 사유로 휴\\n\\n----------------------------\\n\\n직을 원하면 임용권자는 휴직\\n\\n----------------------------\\n\\n을 명할 수 있다. 다만, 제4호\\n\\n-------------.---------------\\n\\n의 경우에는 대통령령으로 정\\n\\n----------------------------\\n\\n하는 특별한 사정이 없으면 휴\\n\\n----------------------------\\n\\n직을 명하여야 한다.\\n\\n--------------.\\n\\n  1. ∼ 3. (생  략)\\n\\n  1. ∼ 3. (현행과 같음)\\n\\n  4. 만 6세 이하의 초등학교 취\\n\\n  4. 만 8세 이하(취학 중인 경우\\n\\n학 전 자녀를 양육하기 위하\\n\\n에는 초등학교 2학년 이하를 \\n\\n여 필요하거나 여자공무원이 \\n\\n말한다)의 자녀를 ----------\\n\\n임신 또는 출산하게 되었을 \\n\\n---------------------------\\n\\n때\\n\\n---------------------------\\n\\n  5.⋅6. (생  략)\\n\\n  ③⋅④ (생  략)\\n\\n--------\\n\\n  5.⋅6. (현행과 같음)\\n\\n  ③⋅④ (현행과 같음)\\n\\n- 5 -\\n\\n\\x0c지방공무원법 일부개정법률안 등 비용추계서 미첨부사유서\\n1.  재정수반요인\\n\\n개정안에서 ｢국가공무원법｣  제71조제2항제4호 중 국가공무원의 육아\\n\\n휴직 가능 자녀의 연령을 만6세 이하에서 만8세 이하로 하고, ｢지방공\\n\\n무원법｣ 제63조제2항제4호 중 지방공무원의 육아휴직 가능 자녀의 연\\n\\n령을 만6세 이하에서 만8세 이하로 하고, ｢교육공무원법｣ 제44조제1항\\n\\n제7조 중 교육공무원의 육아휴직 가능 자녀의 연령을 만6세 이하에서 \\n\\n만8세 이하로 하고, ｢남녀고용평등과 일․가정 양립지원에 관한 법률｣ \\n\\n제19조제1항 중 근로자 육아휴직 가능 자녀연령을 만6세 이하에서 만\\n\\n8세 이하로 조정함에 따라 추가 재정소요가 예상됨.\\n\\n2.  미첨부  근거  규정\\n｢의안의 비용추계에 관한 규칙｣ 제3조제1항 단서 중 제1호(예상되는 비용이 연평균  10억원 미만\\n이거나  한시적인  경비로서  총  30억원  미만인  경우)에  해당함.\\n\\n3.  미첨부  사유\\n\\n개정안에서 국가․지방․교육공무원 및 근로자가 육아휴직을 신청할 \\n\\n수 있는 자녀의 연령을 만6세 이하에서 만8세 이하로 상향조정함에 \\n\\n따라 추가 재정소요가 예상된다. 동 법률 개정안이 2011년에 시행된다\\n\\n고 가정한 경우, 2010년 현재 자녀의 연령이 7세이고 육아휴직을 신청\\n\\n- 7 -\\n\\n\\x0c- 8 -\\n\\n하지 않은 국가․지방․교육공무원 및 근로자가 대상이 된다.\\n\\n대상연령의 확대됨에 따라 육아휴직신청자의 수가 어느 정도 늘어날 \\n\\n것으로 예상된다. 이 경우 발생하는 비용은 현행법에 따르면 월50만원\\n\\n이나 현재 관련법령 개정이 추진되고 있으며, 이에 따라 2011년에는 \\n\\n육아휴직자가 지급받는 월급여액에 비례하여 육아휴직급여가 지급되\\n\\n기 때문에 법령개정을 가정하고 추계한다. 이러한 경우 육아휴직급여\\n\\n액은 육아휴직자가 지급받는 월급여의 40%에 해당한다. 육아휴직자가 \\n\\n발생한 경우 발생하는 비용은 대체인력 고용인건비와 육아휴직자가 \\n\\n받는 월급여액의 40%이다. 이와 대비하여 육아휴직자에게 지급하던 \\n\\n임금은 더 이상 발생하지 않는다. 따라서 실제 발생하는 순비용은 육\\n\\n아휴직자에게 지급하던 월 급여액과 연령 확대에 따라 발생하는 비용\\n\\n인 육아휴직자가 받던 월급여액의 40%와 대체인력 고용인건비의 차\\n\\n액인데 이 값이 0보다 크면 추가 재정소요는 발생하지 않는다고 볼 \\n\\n수 있다.\\n\\n추가비용 발생여부를 정확하게 알아보기 위하여 비용에 대한 수리모\\n\\n델을 만들고 이에 따라 비용발생 여부를 알아보기로 하자. 모델에 사\\n\\n용되는 변수를 다음과 같이 정의한다.\\n\\n발생비용 : N×p×X + N×육아휴직급여액 - N×P\\n\\nN\\n\\nP\\n\\n: 육아휴직대상자의 수\\n\\n: 육아휴직대상자의 월급여액\\n\\n\\x0cp\\n\\nX\\n\\n: 육아휴직자가 발생한 경우 대체 고용할 확률\\n\\n: 대체 고용한 인력에게 지급하는 월급여액\\n\\n위의 수식에서 육아휴직급여액은 육아휴직자 월급여액의 40%까지 지\\n\\n급할 예정이므로 육아휴직급여액은 P×40%이다. 육아휴직자가 발생한 \\n\\n경우 대체 고용할 확률 p는 고용노동부의 육아휴직 관련 자료를 이용\\n\\n한다. 고용노동부에 따르면 2011년의 경우 육아휴직급여 대상자는 \\n\\n40,923명이며, 육아휴직에 따른 대체인력 고용 예상인원은 2,836명이\\n\\n다. 2007년부터 2011년까지의 현황을 정리하면 다음의 [표]와 같다.\\n\\n[표]  육아휴직급여  수급자의  수  및  대체인력  고용  현황:  2007~2011년\\n\\n(단위:  명,  % )\\n\\n2007\\n\\n2008\\n\\n2009\\n\\n2010\\n\\n2011\\n\\n평균\\n\\n육아휴직급여  수급자(A)\\n\\n21,185\\n\\n29,145\\n\\n35,400\\n\\n41,291\\n\\n43,899\\n\\n34,184\\n\\n대체인력  채용(B)\\n\\n796\\n\\n1,658\\n\\n1,957\\n\\n2,396\\n\\n2,836\\n\\n1,929\\n\\n비  율(B/A)\\n\\n3.8\\n\\n5.7\\n\\n5.5\\n\\n5.8\\n\\n6.5\\n\\n5.6\\n\\n자료: 고용노동부  자료를  바탕으로  국회예산정책처  작성\\n\\n위의 [표]의 자료에 따라 육아휴직자가 발생한 경우 대체 고용할 확률 \\n\\np의 값은 5.6%라고 가정한다. 그리고 비용이 발생한다고 가정하여 위\\n\\n의 수식을 다시 작성하면 다음의 수식과 같다.\\n\\nN×p×X + N×육아휴직급여액 - N×P > 0\\n\\n(1)\\n\\n- 9 -\\n\\n\\x0c- 10 -\\n\\nN×5.6%×X + N×P×40% - N×P > 0\\n\\n0.056×X > 0.6P\\n\\nX > 10.7×P\\n\\n(2)\\n\\n(3)\\n\\n(5)\\n\\n위의 수식에 육아휴직자가 받는 월 급여액을 대입하여 대체고용인력\\n\\n자에게 지급하는 월 급여액을 추정하여 보자. 육아휴직자가 월 200만\\n\\n원을 받는다고 가정하면, 대체고용인력자에게 육아휴직자가 받는 월 \\n\\n급여액의 10.7배에 달하는 월 21,428,571원 이상을 지급해야 추가 비용\\n\\n이 발생한다. 대체고용인력자에게 육아휴직자보다 더 많은 월급여액을 \\n\\n주지는 않을 것이고 그리고 10여배 이상 월급을 주지도 않을 것이기 \\n\\n때문에 추가 비용이 발생한다고 보기 힘들다. 위의 수식에서 대체인력 \\n\\n고용확률 p를 20%로 가정하더라도(이 경우 X > 3×P) 200만원 받는 \\n\\n육아휴직자 대체인력에게 월 600만원 이상을 지급해야 추가 비용이 \\n\\n발생한다.\\n\\n행정안전부의 통계자료(행정안전부 통계연감)에서는 지방공무원의 육\\n\\n아휴직 현황자료를 보여주고 있다. 여기서 육아휴직자가 발생한 경우 \\n\\n대체인력을 주로 임용대기자 또는 일용직을 활용하는 것으로 보인다. \\n\\n따라서 공무원의 경우에도 [표]에서 보여주는 일반기업체의 대체인력 \\n\\n고용확률과 차이는 크지 않을 것으로 보인다.\\n\\n이상의 논의를 바탕으로 육아휴직기간을 만6에서 만8세로 연장하더라\\n\\n도 법률 개정에 따른 추가 비용은 발생하지 않을 것으로 예상된다.\\n\\n\\x0c4.  작성자\\n\\n국회예산정책처 법안비용추계1팀\\n\\n팀      장   정 문 종\\n\\n예산분석관   김 태 완\\n\\n(02-788-4649, tanzania@assembly.go.kr)\\n\\n- 11 -\\n\\n\\x0c'"
      ]
     },
     "execution_count": 15,
     "metadata": {},
     "output_type": "execute_result"
    }
   ],
   "source": [
    "kobill.open('1809890.txt').read()"
   ]
  },
  {
   "cell_type": "code",
   "execution_count": null,
   "id": "9d62b997",
   "metadata": {},
   "outputs": [],
   "source": []
  }
 ],
 "metadata": {
  "kernelspec": {
   "display_name": "Python 3",
   "language": "python",
   "name": "python3"
  },
  "language_info": {
   "codemirror_mode": {
    "name": "ipython",
    "version": 3
   },
   "file_extension": ".py",
   "mimetype": "text/x-python",
   "name": "python",
   "nbconvert_exporter": "python",
   "pygments_lexer": "ipython3",
   "version": "3.6.13"
  }
 },
 "nbformat": 4,
 "nbformat_minor": 5
}
