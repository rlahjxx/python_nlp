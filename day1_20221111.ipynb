{
 "cells": [
  {
   "cell_type": "code",
   "execution_count": null,
   "id": "df92c076",
   "metadata": {},
   "outputs": [],
   "source": [
    "!python --version"
   ]
  },
  {
   "cell_type": "code",
   "execution_count": null,
   "id": "36f6f3ab",
   "metadata": {},
   "outputs": [],
   "source": [
    "!pip install pandas"
   ]
  },
  {
   "cell_type": "code",
   "execution_count": null,
   "id": "f3e4e52b",
   "metadata": {},
   "outputs": [],
   "source": [
    "!pip install tensorflow"
   ]
  },
  {
   "cell_type": "code",
   "execution_count": 1,
   "id": "7ab9191c",
   "metadata": {},
   "outputs": [],
   "source": [
    "import tensorflow as tf"
   ]
  },
  {
   "cell_type": "code",
   "execution_count": null,
   "id": "84d0714c",
   "metadata": {},
   "outputs": [],
   "source": [
    "inputs = tf.keras.layers.Input(shape = (20, 1), name = 'input')\n",
    "outputs = tf.keras.layers.Dense(units = 10, activation = 'softmax', name = 'output_softmax')(inputs)\n",
    "\n",
    "model_1 = tf.keras.Model(inputs = inputs, outputs = outputs)\n",
    "model_1.summary()"
   ]
  },
  {
   "cell_type": "code",
   "execution_count": null,
   "id": "34215434",
   "metadata": {},
   "outputs": [],
   "source": [
    "## hidden\n",
    "Input_size = 20\n",
    "inputs = tf.keras.layers.Input(shape = Input_size, name = 'input')\n",
    "hidden1 = tf.keras.layers.Dense(units = 10, activation='relu', name = 'hidden1')(inputs)\n",
    "outputs = tf.keras.layers.Dense(units = 2, activation = 'softmax', name = 'output')(hidden1)\n",
    "\n",
    "model_2 = tf.keras.Model(inputs = inputs, outputs = outputs)\n",
    "model_2.summary()"
   ]
  },
  {
   "cell_type": "code",
   "execution_count": null,
   "id": "4cfa5522",
   "metadata": {},
   "outputs": [],
   "source": [
    "# dropout\n",
    "INPUT_SIZE = 20\n",
    "inputs = tf.keras.layers.Input(shape = INPUT_SIZE, name = 'input')\n",
    "dropout = tf.keras.layers.Dropout(rate = 0.2, name = 'dropout')(inputs)\n",
    "hidden = tf.keras.layers.Dense(units = 10, activation = 'relu', name = 'hidden')(dropout)\n",
    "outputs = tf.keras.layers.Dense(units = 2, activation = 'softmax', name = 'output')(hidden)\n",
    "\n",
    "model_3 = tf.keras.Model(inputs = inputs, outputs =outputs)\n",
    "model_3.summary()"
   ]
  },
  {
   "cell_type": "code",
   "execution_count": null,
   "id": "64e570da",
   "metadata": {},
   "outputs": [],
   "source": [
    "# ID convolution l\n",
    "INPUT_SIZE = (20, 1)\n",
    "inputs = tf.keras.Input(shape = INPUT_SIZE)\n",
    "conv = tf.keras.layers.Conv1D(filters = 10, kernel_size = 3, padding = 'same', activation = 'relu')(inputs)\n",
    "model4 = tf.keras.Model(inputs = inputs, outputs = conv)\n",
    "model4.summary()"
   ]
  },
  {
   "cell_type": "code",
   "execution_count": null,
   "id": "2f76151e",
   "metadata": {},
   "outputs": [],
   "source": [
    "inputs = tf.keras.layers.Input(shape = (20, 1), name = 'input')\n",
    "dropout = tf.keras.layers.Dropout(rate = 0.2, name = 'dropout')(inputs)\n",
    "conv = tf.keras.layers.Conv1D(filters = 10,\n",
    "                             kernel_size = 3,\n",
    "                             padding = 'same', # 원래 shape 개수와 같게 만들어줌\n",
    "                             activation = 'relu',\n",
    "                             name = 'Conv')(dropout)\n",
    "max_pool = tf.keras.layers.MaxPool1D(pool_size = 3)(conv)\n",
    "flatten = tf.keras.layers.Flatten()(max_pool)\n",
    "hidden = tf.keras.layers.Dense(units = 50, activation = 'relu', name = 'hidden')(flatten)\n",
    "outputs = tf.keras.layers.Dense(units = 10, activation = 'softmax')(hidden)\n",
    "\n",
    "model_functionAPI = tf.keras.Model(inputs = inputs, outputs = outputs, name = 'functionAPI')\n",
    "model_functionAPI.summary()\n",
    "\n",
    "# kernel 1 => 파라미터 1개를 가지기 때문에, kernel이 3인 경우 파라미터는 3개가 된다.\n",
    "# 10 (filter의 개수) * 3 (kernel 개수) + 10 (filter 1개 당 bias 파라미터 1개 -> filter가 10개이므로, 필요 bias 파라미터 = 10개)"
   ]
  },
  {
   "cell_type": "markdown",
   "id": "f58eface",
   "metadata": {},
   "source": [
    "# Model 구축"
   ]
  },
  {
   "cell_type": "markdown",
   "id": "57bb5ce7",
   "metadata": {},
   "source": [
    "### Sequential API"
   ]
  },
  {
   "cell_type": "code",
   "execution_count": null,
   "id": "a093d08e",
   "metadata": {},
   "outputs": [],
   "source": [
    "model = tf.keras.Sequential(name = 'Sequential_API')\n",
    "model.add(tf.keras.layers.Input(shape = (32, ), name = 'input'))\n",
    "model.add(tf.keras.layers.Dense(units = 64, activation = 'relu', name = 'Dense1'))\n",
    "model.add(tf.keras.layers.Dense(units = 64, activation = 'relu', name = 'Dense2'))\n",
    "model.add(tf.keras.layers.Dense(units = 10, activation = 'softmax', name ='Outputs'))\n",
    "\n",
    "model.summary()"
   ]
  },
  {
   "cell_type": "markdown",
   "id": "1555f3d8",
   "metadata": {},
   "source": [
    "### Functional API"
   ]
  },
  {
   "cell_type": "code",
   "execution_count": null,
   "id": "7eb3a547",
   "metadata": {},
   "outputs": [],
   "source": [
    "inputs = tf.keras.layers.Input(shape = (32, ), name = 'input')\n",
    "Dense1 = tf.keras.layers.Dense(units = 64, activation = 'relu', name = 'dense1')(inputs)\n",
    "Dense2 = tf.keras.layers.Dense(units = 64, activation = 'relu', name = 'dense2')(Dense1)\n",
    "outputs = tf.keras.layers.Dense(units = 10, activation = 'softmax', name = 'outputs')(Dense2)\n",
    "\n",
    "model.summary()"
   ]
  },
  {
   "cell_type": "markdown",
   "id": "4849cb3c",
   "metadata": {},
   "source": [
    "### Custom layers"
   ]
  },
  {
   "cell_type": "code",
   "execution_count": null,
   "id": "d8e5715f",
   "metadata": {},
   "outputs": [],
   "source": [
    "class Customlayer(tf.keras.layers.Layer) :\n",
    "    def __init__(self, hidden1, hidden2, output_layer) :\n",
    "        super(Customlayer, self).__init__()\n",
    "        self.hidden1 = hidden1\n",
    "        self.hidden2 = hidden2\n",
    "        self.output_layer = output_layer\n",
    "\n",
    "    def build(self, inputs) :\n",
    "        self.dense_layer1 = tf.keras.layers.Dense(units = self.hidden1, activation = 'relu', name = 'Dense1')\n",
    "        self.dense_layer2 = tf.keras.layers.Dense(units = self.hidden2, activation = 'relu', name = 'Dense2')\n",
    "        self.output_layers = tf.keras.layers.Dense(units = self.output_layer, activation = 'softmax', name = 'output')\n",
    "\n",
    "    def call(self, inputs) :\n",
    "        x = self.dense_layer1(inputs)\n",
    "        x = self.dense_layer2(x)\n",
    "\n",
    "        return self.output_layers(x)"
   ]
  },
  {
   "cell_type": "code",
   "execution_count": null,
   "id": "83b04a7e",
   "metadata": {},
   "outputs": [],
   "source": [
    "model = tf.keras.Sequential(name = 'Custom_layer')\n",
    "model.add(tf.keras.layers.Input(shape = (32, )))\n",
    "model.add(Customlayer(64, 64, 10))\n",
    "\n",
    "model.summary()"
   ]
  },
  {
   "cell_type": "markdown",
   "id": "3109aea2",
   "metadata": {},
   "source": [
    "### Subclassing"
   ]
  },
  {
   "cell_type": "code",
   "execution_count": null,
   "id": "ed2d31c7",
   "metadata": {},
   "outputs": [],
   "source": [
    "class MyModel(tf.keras.Model) :\n",
    "    def __init__(self, hidden1, hidden2, output_layers) :\n",
    "        super(MyModel, self).__init__(name = 'MyModel')\n",
    "        self.dense1 = tf.keras.layers.Dense(units = hidden1, activation = 'relu', name = 'dense1')\n",
    "        self.dense2 = tf.keras.layers.Dense(units = hidden2, activation = 'relu', name = 'dense2')\n",
    "        self.outputlayer = tf.keras.layers.Dense(units = output_layers, activation='softmax', name = 'output_layer')\n",
    "        \n",
    "    def call(self, inputs) :\n",
    "        x = self.dense1(inputs)\n",
    "        x = self.dense2(x)\n",
    "        \n",
    "        return self.output_layer(x)"
   ]
  },
  {
   "cell_type": "code",
   "execution_count": null,
   "id": "cab7fea7",
   "metadata": {},
   "outputs": [],
   "source": [
    "model_sub = MyModel(64,64,10)\n",
    "\n",
    "# model_sub.summary()\n",
    "\n",
    "model_sub.compile(loss = 'categorical_crossentropy', optimizer = 'adam', metrics = ['accuracy'])\n",
    "model_sub.fit(train_input, train_target, epochs = 20, batch_size = 64)"
   ]
  },
  {
   "cell_type": "markdown",
   "id": "620c42f1",
   "metadata": {},
   "source": [
    "# 데이터 실습"
   ]
  },
  {
   "cell_type": "code",
   "execution_count": 6,
   "id": "baf0a25d",
   "metadata": {},
   "outputs": [],
   "source": [
    "import numpy as np"
   ]
  },
  {
   "cell_type": "code",
   "execution_count": 7,
   "id": "57d0d9b8",
   "metadata": {},
   "outputs": [
    {
     "name": "stdout",
     "output_type": "stream",
     "text": [
      "(768, 9)\n"
     ]
    }
   ],
   "source": [
    "dataset = np.loadtxt('./pima-indians-diabetes.csv', delimiter = ',')\n",
    "print(dataset.shape)"
   ]
  },
  {
   "cell_type": "code",
   "execution_count": 8,
   "id": "ac7865ad",
   "metadata": {},
   "outputs": [
    {
     "name": "stdout",
     "output_type": "stream",
     "text": [
      "[[  6.    148.     72.    ...  33.6     0.627  50.   ]\n",
      " [  1.     85.     66.    ...  26.6     0.351  31.   ]\n",
      " [  8.    183.     64.    ...  23.3     0.672  32.   ]\n",
      " ...\n",
      " [  5.    121.     72.    ...  26.2     0.245  30.   ]\n",
      " [  1.    126.     60.    ...  30.1     0.349  47.   ]\n",
      " [  1.     93.     70.    ...  30.4     0.315  23.   ]]\n",
      "[1. 0. 1. 0. 1. 0. 1. 0. 1. 1. 0. 1. 0. 1. 1. 1. 1. 1. 0. 1. 0. 0. 1. 1.\n",
      " 1. 1. 1. 0. 0. 0. 0. 1. 0. 0. 0. 0. 0. 1. 1. 1. 0. 0. 0. 1. 0. 1. 0. 0.\n",
      " 1. 0. 0. 0. 0. 1. 0. 0. 1. 0. 0. 0. 0. 1. 0. 0. 1. 0. 1. 0. 0. 0. 1. 0.\n",
      " 1. 0. 0. 0. 0. 0. 1. 0. 0. 0. 0. 0. 1. 0. 0. 0. 1. 0. 0. 0. 0. 1. 0. 0.\n",
      " 0. 0. 0. 1. 1. 0. 0. 0. 0. 0. 0. 0. 0. 1. 1. 1. 0. 0. 1. 1. 1. 0. 0. 0.\n",
      " 1. 0. 0. 0. 1. 1. 0. 0. 1. 1. 1. 1. 1. 0. 0. 0. 0. 0. 0. 0. 0. 0. 0. 1.\n",
      " 0. 0. 0. 0. 0. 0. 0. 0. 1. 0. 1. 1. 0. 0. 0. 1. 0. 0. 0. 0. 1. 1. 0. 0.\n",
      " 0. 0. 1. 1. 0. 0. 0. 1. 0. 1. 0. 1. 0. 0. 0. 0. 0. 1. 1. 1. 1. 1. 0. 0.\n",
      " 1. 1. 0. 1. 0. 1. 1. 1. 0. 0. 0. 0. 0. 0. 1. 1. 0. 1. 0. 0. 0. 1. 1. 1.\n",
      " 1. 0. 1. 1. 1. 1. 0. 0. 0. 0. 0. 1. 0. 0. 1. 1. 0. 0. 0. 1. 1. 1. 1. 0.\n",
      " 0. 0. 1. 1. 0. 1. 0. 0. 0. 0. 0. 0. 0. 0. 1. 1. 0. 0. 0. 1. 0. 1. 0. 0.\n",
      " 1. 0. 1. 0. 0. 1. 1. 0. 0. 0. 0. 0. 1. 0. 0. 0. 1. 0. 0. 1. 1. 0. 0. 1.\n",
      " 0. 0. 0. 1. 1. 1. 0. 0. 1. 0. 1. 0. 1. 1. 0. 1. 0. 0. 1. 0. 1. 1. 0. 0.\n",
      " 1. 0. 1. 0. 0. 1. 0. 1. 0. 1. 1. 1. 0. 0. 1. 0. 1. 0. 0. 0. 1. 0. 0. 0.\n",
      " 0. 1. 1. 1. 0. 0. 0. 0. 0. 0. 0. 0. 0. 1. 0. 0. 0. 0. 0. 1. 1. 1. 0. 1.\n",
      " 1. 0. 0. 1. 0. 0. 1. 0. 0. 1. 1. 0. 0. 0. 0. 1. 0. 0. 1. 0. 0. 0. 0. 0.\n",
      " 0. 0. 1. 1. 1. 0. 0. 1. 0. 0. 1. 0. 0. 1. 0. 1. 1. 0. 1. 0. 1. 0. 1. 0.\n",
      " 1. 1. 0. 0. 0. 0. 1. 1. 0. 1. 0. 1. 0. 0. 0. 0. 1. 1. 0. 1. 0. 1. 0. 0.\n",
      " 0. 0. 0. 1. 0. 0. 0. 0. 1. 0. 0. 1. 1. 1. 0. 0. 1. 0. 0. 1. 0. 0. 0. 1.\n",
      " 0. 0. 1. 0. 0. 0. 0. 0. 0. 0. 0. 0. 1. 0. 0. 0. 0. 0. 0. 0. 1. 0. 0. 0.\n",
      " 1. 0. 0. 0. 1. 1. 0. 0. 0. 0. 0. 0. 0. 1. 0. 0. 0. 0. 1. 0. 0. 0. 1. 0.\n",
      " 0. 0. 1. 0. 0. 0. 1. 0. 0. 0. 0. 1. 1. 0. 0. 0. 0. 0. 0. 1. 0. 0. 0. 0.\n",
      " 0. 0. 0. 0. 0. 0. 0. 1. 0. 0. 0. 1. 1. 1. 1. 0. 0. 1. 1. 0. 0. 0. 0. 0.\n",
      " 0. 0. 0. 0. 0. 0. 0. 0. 1. 1. 0. 0. 0. 0. 0. 0. 0. 1. 0. 0. 0. 0. 0. 0.\n",
      " 0. 1. 0. 1. 1. 0. 0. 0. 1. 0. 1. 0. 1. 0. 1. 0. 1. 0. 0. 1. 0. 0. 1. 0.\n",
      " 0. 0. 0. 1. 1. 0. 1. 0. 0. 0. 0. 1. 1. 0. 1. 0. 0. 0. 1. 1. 0. 0. 0. 0.\n",
      " 0. 0. 0. 0. 0. 0. 1. 0. 0. 0. 0. 1. 0. 0. 1. 0. 0. 0. 1. 0. 0. 0. 1. 1.\n",
      " 1. 0. 0. 0. 0. 0. 0. 1. 0. 0. 0. 1. 0. 1. 1. 1. 1. 0. 1. 1. 0. 0. 0. 0.\n",
      " 0. 0. 0. 1. 1. 0. 1. 0. 0. 1. 0. 1. 0. 0. 0. 0. 0. 1. 0. 1. 0. 1. 0. 1.\n",
      " 1. 0. 0. 0. 0. 1. 1. 0. 0. 0. 1. 0. 1. 1. 0. 0. 1. 0. 0. 1. 1. 0. 0. 1.\n",
      " 0. 0. 1. 0. 0. 0. 0. 0. 0. 0. 1. 1. 1. 0. 0. 0. 0. 0. 0. 1. 1. 0. 0. 1.\n",
      " 0. 0. 1. 0. 1. 1. 1. 0. 0. 1. 1. 1. 0. 1. 0. 1. 0. 1. 0. 0. 0. 0. 1. 0.]\n"
     ]
    }
   ],
   "source": [
    "X = dataset[:, 0 : 8]\n",
    "Y = dataset[:, -1]\n",
    "\n",
    "print(X)\n",
    "print(Y)"
   ]
  },
  {
   "cell_type": "markdown",
   "id": "8195069c",
   "metadata": {},
   "source": [
    "### Sequential"
   ]
  },
  {
   "cell_type": "code",
   "execution_count": null,
   "id": "d97cfdca",
   "metadata": {},
   "outputs": [],
   "source": [
    "model = tf.keras.Sequential(name = 'Sequential')\n",
    "model.add(tf.keras.layers.Input(shape = (8, ), name = 'input'))\n",
    "model.add(tf.keras.layers.Dense(units = 12, activation = 'relu', name = 'dense1'))\n",
    "model.add(tf.keras.layers.Dense(units = 8, activation = 'relu', name = 'dense2'))\n",
    "model.add(tf.keras.layers.Dense(units = 1, activation = 'sigmoid', name = 'output'))\n",
    "\n",
    "model.summary()"
   ]
  },
  {
   "cell_type": "code",
   "execution_count": null,
   "id": "bdee05f3",
   "metadata": {},
   "outputs": [],
   "source": [
    "model.compile(loss = 'binary_crossentropy', \n",
    "             optimizer = 'adam', metrics = ['acc'])\n",
    "model.fit(X, Y, epochs = 100, batch_size = 70)"
   ]
  },
  {
   "cell_type": "markdown",
   "id": "556bd2c0",
   "metadata": {},
   "source": [
    "### functional API"
   ]
  },
  {
   "cell_type": "code",
   "execution_count": null,
   "id": "0e680151",
   "metadata": {},
   "outputs": [],
   "source": [
    "inputs = tf.keras.layers.Input(shape = (8, ), name = 'input')\n",
    "dense1 = tf.keras.layers.Dense(units = 12, activation = 'relu', name = 'dense1')(inputs)\n",
    "dense2 = tf.keras.layers.Dense(units = 8, activation = 'relu', name = 'dense2')(dense1)\n",
    "outputs = tf.keras.layers.Dense(units = 1, activation = 'sigmoid', name = 'output')(dense2)"
   ]
  },
  {
   "cell_type": "code",
   "execution_count": null,
   "id": "b5ff5622",
   "metadata": {},
   "outputs": [],
   "source": [
    "model.compile(loss = 'binary_crossentropy', \n",
    "             optimizer = 'adam', metrics = ['acc'])\n",
    "model.fit(X, Y, epochs = 100, batch_size = 70)"
   ]
  },
  {
   "cell_type": "markdown",
   "id": "745ccb9f",
   "metadata": {},
   "source": [
    "### Subclassing"
   ]
  },
  {
   "cell_type": "code",
   "execution_count": 24,
   "id": "5fbad63d",
   "metadata": {},
   "outputs": [],
   "source": [
    "class Mymodel(tf.keras.Model) :\n",
    "    def __init__(self, hidden1, hidden2, outputs) :\n",
    "        super(Mymodel, self).__init__()\n",
    "        self.dense1 = tf.keras.layers.Dense(units = hidden1, activation = tf.nn.relu, name = 'dense1')\n",
    "        self.dense2 = tf.keras.layers.Dense(units = hidden2, activation = tf.nn.relu, name = 'dense2')\n",
    "        self.outputs = tf.keras.layers.Dense(units = outputs, activation = tf.nn.sigmoid, name = 'output')\n",
    "        \n",
    "    def call(self, inputs) :\n",
    "        x = self.dense1(inputs)\n",
    "        x = self.dense2(x)\n",
    "        \n",
    "        return self.outputs(x)\n",
    "\n",
    "model_sub = Mymodel(12, 8, 1)"
   ]
  },
  {
   "cell_type": "code",
   "execution_count": 25,
   "id": "d65e7ad8",
   "metadata": {},
   "outputs": [],
   "source": [
    "checkpoint = tf.keras.callbacks.ModelCheckpoint(filepath = './model_save/{epoch:2d}_{val_loss:.4f}.hdf5', monitor = 'var_loss',\n",
    "                                               verbose = 1, save_best_only = True, save_weights_only = True)\n",
    "early_stopping = tf.keras.callbacks.EarlyStopping(monitor = 'val_loss', patience = 10)"
   ]
  },
  {
   "cell_type": "code",
   "execution_count": 26,
   "id": "5e75e5a6",
   "metadata": {},
   "outputs": [
    {
     "name": "stdout",
     "output_type": "stream",
     "text": [
      "Epoch 1/100\n",
      "9/9 [==============================] - 1s 31ms/step - loss: 6.6035 - acc: 0.6547 - val_loss: 4.9366 - val_acc: 0.6429\n",
      "WARNING:tensorflow:Can save best model only with var_loss available, skipping.\n",
      "Epoch 2/100\n",
      "9/9 [==============================] - 0s 9ms/step - loss: 5.4071 - acc: 0.5782 - val_loss: 4.5167 - val_acc: 0.5584\n",
      "WARNING:tensorflow:Can save best model only with var_loss available, skipping.\n",
      "Epoch 3/100\n",
      "9/9 [==============================] - 0s 7ms/step - loss: 4.9148 - acc: 0.5342 - val_loss: 3.9847 - val_acc: 0.5779\n",
      "WARNING:tensorflow:Can save best model only with var_loss available, skipping.\n",
      "Epoch 4/100\n",
      "9/9 [==============================] - 0s 8ms/step - loss: 4.3022 - acc: 0.5945 - val_loss: 3.5581 - val_acc: 0.6169\n",
      "WARNING:tensorflow:Can save best model only with var_loss available, skipping.\n",
      "Epoch 5/100\n",
      "9/9 [==============================] - 0s 7ms/step - loss: 3.8440 - acc: 0.6515 - val_loss: 3.2201 - val_acc: 0.6429\n",
      "WARNING:tensorflow:Can save best model only with var_loss available, skipping.\n",
      "Epoch 6/100\n",
      "9/9 [==============================] - 0s 7ms/step - loss: 3.4353 - acc: 0.6466 - val_loss: 2.8724 - val_acc: 0.6364\n",
      "WARNING:tensorflow:Can save best model only with var_loss available, skipping.\n",
      "Epoch 7/100\n",
      "9/9 [==============================] - 0s 7ms/step - loss: 3.0217 - acc: 0.6319 - val_loss: 2.5127 - val_acc: 0.6299\n",
      "WARNING:tensorflow:Can save best model only with var_loss available, skipping.\n",
      "Epoch 8/100\n",
      "9/9 [==============================] - 0s 7ms/step - loss: 2.5911 - acc: 0.6189 - val_loss: 2.1190 - val_acc: 0.6104\n",
      "WARNING:tensorflow:Can save best model only with var_loss available, skipping.\n",
      "Epoch 9/100\n",
      "9/9 [==============================] - 0s 7ms/step - loss: 2.1342 - acc: 0.6124 - val_loss: 1.7008 - val_acc: 0.6169\n",
      "WARNING:tensorflow:Can save best model only with var_loss available, skipping.\n",
      "Epoch 10/100\n",
      "9/9 [==============================] - 0s 9ms/step - loss: 1.6596 - acc: 0.6173 - val_loss: 1.3094 - val_acc: 0.6104\n",
      "WARNING:tensorflow:Can save best model only with var_loss available, skipping.\n",
      "Epoch 11/100\n",
      "9/9 [==============================] - 0s 10ms/step - loss: 1.2175 - acc: 0.6336 - val_loss: 0.9597 - val_acc: 0.6169\n",
      "WARNING:tensorflow:Can save best model only with var_loss available, skipping.\n",
      "Epoch 12/100\n",
      "9/9 [==============================] - 0s 7ms/step - loss: 0.8668 - acc: 0.6319 - val_loss: 0.7985 - val_acc: 0.5974\n",
      "WARNING:tensorflow:Can save best model only with var_loss available, skipping.\n",
      "Epoch 13/100\n",
      "9/9 [==============================] - 0s 7ms/step - loss: 0.7499 - acc: 0.6303 - val_loss: 0.8308 - val_acc: 0.5325\n",
      "WARNING:tensorflow:Can save best model only with var_loss available, skipping.\n",
      "Epoch 14/100\n",
      "9/9 [==============================] - 0s 7ms/step - loss: 0.7204 - acc: 0.6596 - val_loss: 0.7758 - val_acc: 0.5455\n",
      "WARNING:tensorflow:Can save best model only with var_loss available, skipping.\n",
      "Epoch 15/100\n",
      "9/9 [==============================] - 0s 7ms/step - loss: 0.6804 - acc: 0.6596 - val_loss: 0.6991 - val_acc: 0.5584\n",
      "WARNING:tensorflow:Can save best model only with var_loss available, skipping.\n",
      "Epoch 16/100\n",
      "9/9 [==============================] - 0s 8ms/step - loss: 0.6622 - acc: 0.6433 - val_loss: 0.6754 - val_acc: 0.6039\n",
      "WARNING:tensorflow:Can save best model only with var_loss available, skipping.\n",
      "Epoch 17/100\n",
      "9/9 [==============================] - 0s 7ms/step - loss: 0.6552 - acc: 0.6384 - val_loss: 0.6715 - val_acc: 0.6039\n",
      "WARNING:tensorflow:Can save best model only with var_loss available, skipping.\n",
      "Epoch 18/100\n",
      "9/9 [==============================] - 0s 7ms/step - loss: 0.6467 - acc: 0.6547 - val_loss: 0.6769 - val_acc: 0.5519\n",
      "WARNING:tensorflow:Can save best model only with var_loss available, skipping.\n",
      "Epoch 19/100\n",
      "9/9 [==============================] - 0s 7ms/step - loss: 0.6448 - acc: 0.6661 - val_loss: 0.6759 - val_acc: 0.5584\n",
      "WARNING:tensorflow:Can save best model only with var_loss available, skipping.\n",
      "Epoch 20/100\n",
      "9/9 [==============================] - 0s 8ms/step - loss: 0.6392 - acc: 0.6580 - val_loss: 0.6601 - val_acc: 0.5584\n",
      "WARNING:tensorflow:Can save best model only with var_loss available, skipping.\n",
      "Epoch 21/100\n",
      "9/9 [==============================] - 0s 10ms/step - loss: 0.6349 - acc: 0.6417 - val_loss: 0.6626 - val_acc: 0.6039\n",
      "WARNING:tensorflow:Can save best model only with var_loss available, skipping.\n",
      "Epoch 22/100\n",
      "9/9 [==============================] - 0s 8ms/step - loss: 0.6346 - acc: 0.6531 - val_loss: 0.6527 - val_acc: 0.5649\n",
      "WARNING:tensorflow:Can save best model only with var_loss available, skipping.\n",
      "Epoch 23/100\n",
      "9/9 [==============================] - 0s 9ms/step - loss: 0.6251 - acc: 0.6629 - val_loss: 0.6539 - val_acc: 0.5779\n",
      "WARNING:tensorflow:Can save best model only with var_loss available, skipping.\n",
      "Epoch 24/100\n",
      "9/9 [==============================] - 0s 7ms/step - loss: 0.6239 - acc: 0.6515 - val_loss: 0.6481 - val_acc: 0.6234\n",
      "WARNING:tensorflow:Can save best model only with var_loss available, skipping.\n",
      "Epoch 25/100\n",
      "9/9 [==============================] - 0s 9ms/step - loss: 0.6186 - acc: 0.6531 - val_loss: 0.6433 - val_acc: 0.6039\n",
      "WARNING:tensorflow:Can save best model only with var_loss available, skipping.\n",
      "Epoch 26/100\n",
      "9/9 [==============================] - 0s 10ms/step - loss: 0.6163 - acc: 0.6596 - val_loss: 0.6361 - val_acc: 0.6299\n",
      "WARNING:tensorflow:Can save best model only with var_loss available, skipping.\n",
      "Epoch 27/100\n",
      "9/9 [==============================] - 0s 9ms/step - loss: 0.6133 - acc: 0.6564 - val_loss: 0.6350 - val_acc: 0.6364\n",
      "WARNING:tensorflow:Can save best model only with var_loss available, skipping.\n",
      "Epoch 28/100\n",
      "9/9 [==============================] - 0s 11ms/step - loss: 0.6100 - acc: 0.6580 - val_loss: 0.6351 - val_acc: 0.6104\n",
      "WARNING:tensorflow:Can save best model only with var_loss available, skipping.\n",
      "Epoch 29/100\n",
      "9/9 [==============================] - 0s 10ms/step - loss: 0.6068 - acc: 0.6629 - val_loss: 0.6321 - val_acc: 0.6429\n",
      "WARNING:tensorflow:Can save best model only with var_loss available, skipping.\n",
      "Epoch 30/100\n",
      "9/9 [==============================] - 0s 9ms/step - loss: 0.6063 - acc: 0.6482 - val_loss: 0.6205 - val_acc: 0.6688\n",
      "WARNING:tensorflow:Can save best model only with var_loss available, skipping.\n",
      "Epoch 31/100\n",
      "9/9 [==============================] - 0s 8ms/step - loss: 0.6072 - acc: 0.6547 - val_loss: 0.6242 - val_acc: 0.6688\n",
      "WARNING:tensorflow:Can save best model only with var_loss available, skipping.\n",
      "Epoch 32/100\n",
      "9/9 [==============================] - 0s 7ms/step - loss: 0.6028 - acc: 0.6678 - val_loss: 0.6194 - val_acc: 0.6429\n",
      "WARNING:tensorflow:Can save best model only with var_loss available, skipping.\n",
      "Epoch 33/100\n",
      "9/9 [==============================] - 0s 8ms/step - loss: 0.6039 - acc: 0.6596 - val_loss: 0.6291 - val_acc: 0.6623\n",
      "WARNING:tensorflow:Can save best model only with var_loss available, skipping.\n",
      "Epoch 34/100\n",
      "9/9 [==============================] - 0s 11ms/step - loss: 0.5977 - acc: 0.6564 - val_loss: 0.6143 - val_acc: 0.6818\n",
      "WARNING:tensorflow:Can save best model only with var_loss available, skipping.\n",
      "Epoch 35/100\n",
      "9/9 [==============================] - 0s 13ms/step - loss: 0.5957 - acc: 0.6596 - val_loss: 0.6200 - val_acc: 0.6688\n",
      "WARNING:tensorflow:Can save best model only with var_loss available, skipping.\n",
      "Epoch 36/100\n",
      "9/9 [==============================] - 0s 14ms/step - loss: 0.5949 - acc: 0.6645 - val_loss: 0.6150 - val_acc: 0.6948\n",
      "WARNING:tensorflow:Can save best model only with var_loss available, skipping.\n",
      "Epoch 37/100\n",
      "9/9 [==============================] - 0s 12ms/step - loss: 0.5940 - acc: 0.6661 - val_loss: 0.6173 - val_acc: 0.6753\n",
      "WARNING:tensorflow:Can save best model only with var_loss available, skipping.\n",
      "Epoch 38/100\n",
      "9/9 [==============================] - 0s 8ms/step - loss: 0.5917 - acc: 0.6775 - val_loss: 0.6143 - val_acc: 0.6688\n",
      "WARNING:tensorflow:Can save best model only with var_loss available, skipping.\n",
      "Epoch 39/100\n",
      "9/9 [==============================] - 0s 7ms/step - loss: 0.5952 - acc: 0.6612 - val_loss: 0.6298 - val_acc: 0.6688\n",
      "WARNING:tensorflow:Can save best model only with var_loss available, skipping.\n",
      "Epoch 40/100\n"
     ]
    },
    {
     "name": "stdout",
     "output_type": "stream",
     "text": [
      "9/9 [==============================] - 0s 7ms/step - loss: 0.5891 - acc: 0.6661 - val_loss: 0.6043 - val_acc: 0.6688\n",
      "WARNING:tensorflow:Can save best model only with var_loss available, skipping.\n",
      "Epoch 41/100\n",
      "9/9 [==============================] - 0s 7ms/step - loss: 0.5877 - acc: 0.6808 - val_loss: 0.6094 - val_acc: 0.7013\n",
      "WARNING:tensorflow:Can save best model only with var_loss available, skipping.\n",
      "Epoch 42/100\n",
      "9/9 [==============================] - 0s 7ms/step - loss: 0.5853 - acc: 0.6743 - val_loss: 0.6054 - val_acc: 0.6818\n",
      "WARNING:tensorflow:Can save best model only with var_loss available, skipping.\n",
      "Epoch 43/100\n",
      "9/9 [==============================] - 0s 8ms/step - loss: 0.5853 - acc: 0.6775 - val_loss: 0.6191 - val_acc: 0.6104\n",
      "WARNING:tensorflow:Can save best model only with var_loss available, skipping.\n",
      "Epoch 44/100\n",
      "9/9 [==============================] - 0s 8ms/step - loss: 0.5795 - acc: 0.6792 - val_loss: 0.6041 - val_acc: 0.6688\n",
      "WARNING:tensorflow:Can save best model only with var_loss available, skipping.\n",
      "Epoch 45/100\n",
      "9/9 [==============================] - 0s 8ms/step - loss: 0.5789 - acc: 0.6726 - val_loss: 0.6118 - val_acc: 0.6688\n",
      "WARNING:tensorflow:Can save best model only with var_loss available, skipping.\n",
      "Epoch 46/100\n",
      "9/9 [==============================] - 0s 8ms/step - loss: 0.5760 - acc: 0.6759 - val_loss: 0.6073 - val_acc: 0.6753\n",
      "WARNING:tensorflow:Can save best model only with var_loss available, skipping.\n",
      "Epoch 47/100\n",
      "9/9 [==============================] - 0s 8ms/step - loss: 0.5783 - acc: 0.6840 - val_loss: 0.6140 - val_acc: 0.6883\n",
      "WARNING:tensorflow:Can save best model only with var_loss available, skipping.\n",
      "Epoch 48/100\n",
      "9/9 [==============================] - 0s 8ms/step - loss: 0.5723 - acc: 0.6938 - val_loss: 0.6134 - val_acc: 0.6299\n",
      "WARNING:tensorflow:Can save best model only with var_loss available, skipping.\n",
      "Epoch 49/100\n",
      "9/9 [==============================] - 0s 11ms/step - loss: 0.5737 - acc: 0.6873 - val_loss: 0.6163 - val_acc: 0.6234\n",
      "WARNING:tensorflow:Can save best model only with var_loss available, skipping.\n",
      "Epoch 50/100\n",
      "9/9 [==============================] - 0s 7ms/step - loss: 0.5785 - acc: 0.6922 - val_loss: 0.6091 - val_acc: 0.6883\n",
      "WARNING:tensorflow:Can save best model only with var_loss available, skipping.\n",
      "Epoch 51/100\n",
      "9/9 [==============================] - 0s 6ms/step - loss: 0.5709 - acc: 0.6808 - val_loss: 0.6302 - val_acc: 0.6688\n",
      "WARNING:tensorflow:Can save best model only with var_loss available, skipping.\n",
      "Epoch 52/100\n",
      "9/9 [==============================] - 0s 7ms/step - loss: 0.5709 - acc: 0.6922 - val_loss: 0.6067 - val_acc: 0.6494\n",
      "WARNING:tensorflow:Can save best model only with var_loss available, skipping.\n",
      "Epoch 53/100\n",
      "9/9 [==============================] - 0s 7ms/step - loss: 0.5672 - acc: 0.6889 - val_loss: 0.6200 - val_acc: 0.6688\n",
      "WARNING:tensorflow:Can save best model only with var_loss available, skipping.\n",
      "Epoch 54/100\n",
      "9/9 [==============================] - 0s 8ms/step - loss: 0.5675 - acc: 0.6971 - val_loss: 0.6203 - val_acc: 0.5974\n",
      "WARNING:tensorflow:Can save best model only with var_loss available, skipping.\n"
     ]
    }
   ],
   "source": [
    "model_sub.compile(loss = 'binary_crossentropy', optimizer = 'adam', metrics = ['acc'])\n",
    "history = model_sub.fit(X, Y, epochs = 100, batch_size = 70, validation_split = 0.2, callbacks = [checkpoint, early_stopping])"
   ]
  },
  {
   "cell_type": "code",
   "execution_count": 27,
   "id": "4fa2ebe3",
   "metadata": {},
   "outputs": [
    {
     "data": {
      "text/plain": [
       "0.701298713684082"
      ]
     },
     "execution_count": 27,
     "metadata": {},
     "output_type": "execute_result"
    }
   ],
   "source": [
    "np.max(history.history['val_acc'])"
   ]
  },
  {
   "cell_type": "code",
   "execution_count": 20,
   "id": "d5930406",
   "metadata": {},
   "outputs": [
    {
     "name": "stdout",
     "output_type": "stream",
     "text": [
      "Collecting matplotlib\n",
      "  Downloading matplotlib-3.3.4-cp36-cp36m-win_amd64.whl (8.5 MB)\n",
      "Collecting kiwisolver>=1.0.1\n",
      "  Downloading kiwisolver-1.3.1-cp36-cp36m-win_amd64.whl (51 kB)\n",
      "Collecting cycler>=0.10\n",
      "  Using cached cycler-0.11.0-py3-none-any.whl (6.4 kB)\n",
      "Requirement already satisfied: numpy>=1.15 in c:\\programdata\\anaconda3\\envs\\pre_tensorflow\\lib\\site-packages (from matplotlib) (1.19.5)\n",
      "Requirement already satisfied: pyparsing!=2.0.4,!=2.1.2,!=2.1.6,>=2.0.3 in c:\\programdata\\anaconda3\\envs\\pre_tensorflow\\lib\\site-packages (from matplotlib) (3.0.4)\n",
      "Collecting pillow>=6.2.0\n",
      "  Downloading Pillow-8.4.0-cp36-cp36m-win_amd64.whl (3.2 MB)\n",
      "Requirement already satisfied: python-dateutil>=2.1 in c:\\programdata\\anaconda3\\envs\\pre_tensorflow\\lib\\site-packages (from matplotlib) (2.8.2)\n",
      "Requirement already satisfied: six>=1.5 in c:\\programdata\\anaconda3\\envs\\pre_tensorflow\\lib\\site-packages (from python-dateutil>=2.1->matplotlib) (1.15.0)\n",
      "Installing collected packages: pillow, kiwisolver, cycler, matplotlib\n",
      "Successfully installed cycler-0.11.0 kiwisolver-1.3.1 matplotlib-3.3.4 pillow-8.4.0\n"
     ]
    }
   ],
   "source": [
    "!pip install matplotlib"
   ]
  },
  {
   "cell_type": "code",
   "execution_count": 28,
   "id": "4898b185",
   "metadata": {},
   "outputs": [],
   "source": [
    "import matplotlib.pyplot as plt"
   ]
  },
  {
   "cell_type": "code",
   "execution_count": 29,
   "id": "46fa2376",
   "metadata": {},
   "outputs": [
    {
     "data": {
      "image/png": "[encoded data removed]",
      "text/plain": [
       "<Figure size 432x288 with 1 Axes>"
      ]
     },
     "metadata": {
      "needs_background": "light"
     },
     "output_type": "display_data"
    }
   ],
   "source": [
    "plt.plot(history.history['val_loss'], '-r', label = 'Validation loss')\n",
    "plt.plot(history.history['val_acc'], '-b', label = 'Validation acc')\n",
    "plt.legend()\n",
    "plt.grid()\n",
    "plt.xlabel('Epochs')\n",
    "plt.ylabel('Loss')\n",
    "plt.show()"
   ]
  },
  {
   "cell_type": "code",
   "execution_count": null,
   "id": "4adc0013",
   "metadata": {},
   "outputs": [],
   "source": []
  }
 ],
 "metadata": {
  "kernelspec": {
   "display_name": "Python 3",
   "language": "python",
   "name": "python3"
  },
  "language_info": {
   "codemirror_mode": {
    "name": "ipython",
    "version": 3
   },
   "file_extension": ".py",
   "mimetype": "text/x-python",
   "name": "python",
   "nbconvert_exporter": "python",
   "pygments_lexer": "ipython3",
   "version": "3.6.13"
  }
 },
 "nbformat": 4,
 "nbformat_minor": 5
}
